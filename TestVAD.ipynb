{
 "cells": [
  {
   "cell_type": "code",
   "execution_count": 3,
   "id": "00ed8c7f",
   "metadata": {},
   "outputs": [],
   "source": [
    "import torch\n",
    "from IPython.display import Audio\n",
    "from pprint import pprint\n",
    "import soundfile         as sf"
   ]
  },
  {
   "cell_type": "code",
   "execution_count": 2,
   "id": "e4bb532f",
   "metadata": {},
   "outputs": [
    {
     "data": {
      "application/vnd.jupyter.widget-view+json": {
       "model_id": "b7eb5eedcf454f9d8f9a32fdfcf7a54f",
       "version_major": 2,
       "version_minor": 0
      },
      "text/plain": [
       "  0%|          | 0.00/1.83M [00:00<?, ?B/s]"
      ]
     },
     "metadata": {},
     "output_type": "display_data"
    }
   ],
   "source": [
    "SAMPLING_RATE = 16000\n",
    "torch.hub.download_url_to_file('https://models.silero.ai/vad_models/en.wav', 'en_example.wav')"
   ]
  },
  {
   "cell_type": "code",
   "execution_count": 6,
   "id": "6a911916",
   "metadata": {},
   "outputs": [],
   "source": [
    "def get_wav_duration(wav_file):\n",
    "    f                   = sf.SoundFile(wav_file)\n",
    "    duration_in_seconds = f.frames / f.samplerate    \n",
    "    return duration_in_seconds"
   ]
  },
  {
   "cell_type": "code",
   "execution_count": 7,
   "id": "b15a0216",
   "metadata": {},
   "outputs": [
    {
     "data": {
      "text/plain": [
       "60.0"
      ]
     },
     "execution_count": 7,
     "metadata": {},
     "output_type": "execute_result"
    }
   ],
   "source": [
    "get_wav_duration(\"./en_example.wav\")"
   ]
  },
  {
   "cell_type": "code",
   "execution_count": null,
   "id": "02bab650",
   "metadata": {},
   "outputs": [],
   "source": []
  },
  {
   "cell_type": "code",
   "execution_count": 10,
   "id": "38281397",
   "metadata": {},
   "outputs": [
    {
     "name": "stderr",
     "output_type": "stream",
     "text": [
      "Using cache found in /home/amitli/.cache/torch/hub/snakers4_silero-vad_master\n"
     ]
    }
   ],
   "source": [
    "model, utils = torch.hub.load(repo_or_dir='snakers4/silero-vad',\n",
    "                              model='silero_vad',\n",
    "                              force_reload=False,\n",
    "                              )\n",
    "\n",
    "(get_speech_timestamps,\n",
    " save_audio,\n",
    " read_audio,\n",
    " VADIterator,\n",
    " collect_chunks) = utils"
   ]
  },
  {
   "cell_type": "code",
   "execution_count": null,
   "id": "b7e5591f",
   "metadata": {},
   "outputs": [],
   "source": []
  },
  {
   "cell_type": "code",
   "execution_count": 11,
   "id": "30cd0414",
   "metadata": {},
   "outputs": [],
   "source": [
    "wav = read_audio('en_example.wav', sampling_rate=SAMPLING_RATE)"
   ]
  },
  {
   "cell_type": "code",
   "execution_count": 16,
   "id": "e1428fab",
   "metadata": {},
   "outputs": [
    {
     "data": {
      "text/plain": [
       "(960000, 960000, 625.0, 96.0)"
      ]
     },
     "execution_count": 16,
     "metadata": {},
     "output_type": "execute_result"
    }
   ],
   "source": [
    "len(wav), 60*16000, 960000/1536, 1536*1000/16000"
   ]
  },
  {
   "cell_type": "code",
   "execution_count": 19,
   "id": "2f02db8e",
   "metadata": {},
   "outputs": [],
   "source": [
    "vad_iterator = VADIterator(model)"
   ]
  },
  {
   "cell_type": "markdown",
   "id": "2602ff87",
   "metadata": {},
   "source": [
    "https://colab.research.google.com/github/snakers4/silero-vad/blob/master/silero-vad.ipynb#scrollTo=BX3UgwwB2Fwv"
   ]
  },
  {
   "cell_type": "code",
   "execution_count": 37,
   "id": "75ea0f7e",
   "metadata": {},
   "outputs": [
    {
     "name": "stdout",
     "output_type": "stream",
     "text": [
      "{'start': 1.0} \n",
      "{'end': 8.0} \n",
      "{'start': 10.0} \n",
      "{'end': 48.0} \n",
      "{'start': 50.0} \n",
      "\n",
      "\n",
      "\n",
      "[0.9595266580581665, 0.938676655292511, 0.3671853542327881, 0.9120056629180908, 0.4447315037250519, 0.9862000942230225, 0.6391571760177612, 0.023880869150161743, 0.01113173272460699, 0.7861336469650269]\n"
     ]
    }
   ],
   "source": [
    "speech_probs = []\n",
    "window_size_samples = 16000 #1536\n",
    "for i in range(0, len(wav), window_size_samples):\n",
    "    chunk = wav[i: i+ window_size_samples]\n",
    "    if len(chunk) < window_size_samples:\n",
    "        break\n",
    "        \n",
    "    speech_dict = vad_iterator(chunk, return_seconds=True)\n",
    "    if speech_dict:\n",
    "        print(speech_dict, end=' ')\n",
    "        print(\"\")\n",
    "    \n",
    "    speech_prob = model(chunk, SAMPLING_RATE).item()\n",
    "    speech_probs.append(speech_prob)\n",
    "vad_iterator.reset_states() # reset model states after each audio\n",
    "\n",
    "print(\"\\n\\n\")\n",
    "print(speech_probs[:10]) # first 10 chunks predicts"
   ]
  },
  {
   "cell_type": "code",
   "execution_count": 35,
   "id": "8d5036ce",
   "metadata": {},
   "outputs": [
    {
     "data": {
      "text/plain": [
       "60"
      ]
     },
     "execution_count": 35,
     "metadata": {},
     "output_type": "execute_result"
    }
   ],
   "source": [
    "len(speech_probs)"
   ]
  },
  {
   "cell_type": "code",
   "execution_count": 24,
   "id": "fc673e76",
   "metadata": {},
   "outputs": [
    {
     "data": {
      "text/plain": [
       "960000"
      ]
     },
     "execution_count": 24,
     "metadata": {},
     "output_type": "execute_result"
    }
   ],
   "source": [
    "625*1536"
   ]
  }
 ],
 "metadata": {
  "kernelspec": {
   "display_name": "Python 3 (ipykernel)",
   "language": "python",
   "name": "python3"
  },
  "language_info": {
   "codemirror_mode": {
    "name": "ipython",
    "version": 3
   },
   "file_extension": ".py",
   "mimetype": "text/x-python",
   "name": "python",
   "nbconvert_exporter": "python",
   "pygments_lexer": "ipython3",
   "version": "3.8.10"
  }
 },
 "nbformat": 4,
 "nbformat_minor": 5
}
