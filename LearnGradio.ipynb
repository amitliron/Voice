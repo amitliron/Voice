{
 "cells": [
  {
   "cell_type": "code",
   "execution_count": 26,
   "id": "e027f28c",
   "metadata": {},
   "outputs": [
    {
     "data": {
      "text/plain": [
       "1.0"
      ]
     },
     "execution_count": 26,
     "metadata": {},
     "output_type": "execute_result"
    }
   ],
   "source": []
  },
  {
   "cell_type": "code",
   "execution_count": 37,
   "id": "fb3e314f",
   "metadata": {},
   "outputs": [
    {
     "name": "stderr",
     "output_type": "stream",
     "text": [
      "No model was supplied, defaulted to facebook/wav2vec2-base-960h and revision 55bb623 (https://huggingface.co/facebook/wav2vec2-base-960h).\n",
      "Using a pipeline without specifying a model name and revision in production is not recommended.\n",
      "Some weights of Wav2Vec2ForCTC were not initialized from the model checkpoint at facebook/wav2vec2-base-960h and are newly initialized: ['wav2vec2.masked_spec_embed']\n",
      "You should probably TRAIN this model on a down-stream task to be able to use it for predictions and inference.\n"
     ]
    }
   ],
   "source": [
    "from transformers import pipeline\n",
    "import gradio as gr\n",
    "import soundfile            as sf\n",
    "\n",
    "p = pipeline(\"automatic-speech-recognition\")"
   ]
  },
  {
   "cell_type": "code",
   "execution_count": 38,
   "id": "8234e0c0",
   "metadata": {},
   "outputs": [],
   "source": [
    "def get_wav_duration(wav_file):\n",
    "    #res = librosa.get_duration(path=wav_file)\n",
    "    f = sf.SoundFile(wav_file)\n",
    "    return f.frames / f.samplerate"
   ]
  },
  {
   "cell_type": "code",
   "execution_count": 45,
   "id": "82303a44",
   "metadata": {},
   "outputs": [
    {
     "name": "stdout",
     "output_type": "stream",
     "text": [
      "2.5\n",
      "2.5\n",
      "2.5\n"
     ]
    }
   ],
   "source": [
    "print(get_wav_duration(\"/tmp/2f40499759a5be096aea73b2987bbc269a194d7b/audio-0-100.wav\"))\n",
    "print(get_wav_duration(\"/tmp/bf78304929d0473f0709a56a46b7c3b8b8744c33/audio-0-100.wav\"))\n",
    "print(get_wav_duration(\"/tmp/18e520795f07c071630a3cfdc8d897acc9c582f0/audio-0-100.wav\"))"
   ]
  },
  {
   "cell_type": "code",
   "execution_count": 49,
   "id": "7ae490bb",
   "metadata": {},
   "outputs": [
    {
     "name": "stdout",
     "output_type": "stream",
     "text": [
      "Running on local URL:  http://127.0.0.1:7884\n",
      "\n",
      "To create a public link, set `share=True` in `launch()`.\n"
     ]
    },
    {
     "data": {
      "text/html": [
       "<div><iframe src=\"http://127.0.0.1:7884/\" width=\"100%\" height=\"500\" allow=\"autoplay; camera; microphone; clipboard-read; clipboard-write;\" frameborder=\"0\" allowfullscreen></iframe></div>"
      ],
      "text/plain": [
       "<IPython.core.display.HTML object>"
      ]
     },
     "metadata": {},
     "output_type": "display_data"
    },
    {
     "data": {
      "text/plain": []
     },
     "execution_count": 49,
     "metadata": {},
     "output_type": "execute_result"
    }
   ],
   "source": [
    "\n",
    "# def transcribe(audio, state=\"\"):\n",
    "#     text = p(audio)[\"text\"]\n",
    "#     state += text + \" \"\n",
    "#     return state, state\n",
    "\n",
    "def transcribe(audio, state=\"\"):\n",
    "    time.sleep(2)\n",
    "    #text = p(audio)[\"text\"]\n",
    "    #state += text + \" \"\n",
    "    #return state, state\n",
    "    return f\"{audio}\", state\n",
    "\n",
    "# Set the starting state to an empty string\n",
    "\n",
    "gr.Interface(\n",
    "    fn=transcribe, \n",
    "    inputs=[\n",
    "        #gr.Audio(source=\"microphone\", type=\"filepath\", streaming=True), \n",
    "        gr.Audio(source=\"microphone\", type=\"numpy\", streaming=True), \n",
    "        \"state\" \n",
    "    ],\n",
    "    outputs=[\n",
    "        \"textbox\",\n",
    "        \"state\"\n",
    "    ],\n",
    "    live=True).launch()"
   ]
  }
 ],
 "metadata": {
  "kernelspec": {
   "display_name": "Python 3 (ipykernel)",
   "language": "python",
   "name": "python3"
  },
  "language_info": {
   "codemirror_mode": {
    "name": "ipython",
    "version": 3
   },
   "file_extension": ".py",
   "mimetype": "text/x-python",
   "name": "python",
   "nbconvert_exporter": "python",
   "pygments_lexer": "ipython3",
   "version": "3.8.10"
  }
 },
 "nbformat": 4,
 "nbformat_minor": 5
}
