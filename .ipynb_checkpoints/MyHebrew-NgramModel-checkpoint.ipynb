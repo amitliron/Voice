{
 "cells": [
  {
   "cell_type": "markdown",
   "id": "b9e87daf",
   "metadata": {},
   "source": [
    "<h1 style=\"background-color:LightGreen;\"> <center> Links </center></h1>"
   ]
  },
  {
   "cell_type": "markdown",
   "id": "5305a88b",
   "metadata": {},
   "source": [
    "https://huggingface.co/blog/wav2vec2-with-ngram"
   ]
  },
  {
   "cell_type": "markdown",
   "id": "a09ae26e",
   "metadata": {},
   "source": [
    "<h1 style=\"background-color:LightGreen;\"> <center> Dataset </center></h1>"
   ]
  },
  {
   "cell_type": "markdown",
   "id": "7c9c3aa9",
   "metadata": {},
   "source": [
    "https://huggingface.co/datasets/HeNLP/HeDC4/tree/main"
   ]
  },
  {
   "cell_type": "markdown",
   "id": "86786511",
   "metadata": {},
   "source": [
    "<h1 style=\"background-color:LightGreen;\"> <center> Code </center></h1>"
   ]
  },
  {
   "cell_type": "code",
   "execution_count": 3,
   "id": "37c9abf0",
   "metadata": {},
   "outputs": [
    {
     "data": {
      "text/html": [
       "<style>.container { width:100% !important; }</style>"
      ],
      "text/plain": [
       "<IPython.core.display.HTML object>"
      ]
     },
     "metadata": {},
     "output_type": "display_data"
    }
   ],
   "source": [
    "from IPython.display import display, HTML\n",
    "display(HTML(\"<style>.container { width:100% !important; }</style>\"))"
   ]
  },
  {
   "cell_type": "code",
   "execution_count": 4,
   "id": "831a6b70",
   "metadata": {},
   "outputs": [],
   "source": [
    "%load_ext autoreload\n",
    "%autoreload 2"
   ]
  },
  {
   "cell_type": "code",
   "execution_count": 20,
   "id": "056b3dfb",
   "metadata": {},
   "outputs": [],
   "source": [
    "import re\n",
    "\n",
    "def normalize(hebrew_text):\n",
    "   \n",
    "    # --- step 2: replace signs\n",
    "    hebrew_text = hebrew_text.replace('$', \" דולר\")\n",
    "    hebrew_text = hebrew_text.replace('₪', \" שח\")\n",
    "    hebrew_text = hebrew_text.replace('€', \" יורו\")\n",
    "    \n",
    "    # hebrew_text = hebrew_text.replace('.', \" נקודה\")\n",
    "    hebrew_text = hebrew_text.replace('ת\"א', \"תל אביב\")\n",
    "    hebrew_text = hebrew_text.replace('ב\"ש', \"באר שבע\")\n",
    "    hebrew_text = hebrew_text.replace('ע\"י', \"על ידי\")\n",
    "    hebrew_text = hebrew_text.replace('אח\"כ', \"אחר כך\")\n",
    "    hebrew_text = hebrew_text.replace('\\\"', \"\")\n",
    "\n",
    "    # postproccessing, removing special charcteres after handling and translating them\n",
    "    valid_tokens = \"פ ם ן ו ט א ר ק ף ך ל ח י ע כ ג ד ש ץ ת צ מ נ ה ב ס ז 1 2 3 4 5 6 7 8 9 0\"\n",
    "    valid_tokens = set([x.lower() for x in valid_tokens])\n",
    "    \n",
    "    # The caret in the character class ([^) means match anything but\n",
    "    invalid_chars_regex = f\"[^\\s{re.escape(''.join(set(valid_tokens)))}]\"\n",
    "\n",
    "\n",
    "    \"\"\" DO ADAPT FOR YOUR USE CASE. this function normalizes the target text. \"\"\"\n",
    "    hebrew_text = re.sub(invalid_chars_regex, \" \", hebrew_text)\n",
    "    hebrew_text = re.sub(\"\\s+\", \" \", hebrew_text).strip()\n",
    "    \n",
    "    # --- return result\n",
    "    return hebrew_text\n"
   ]
  },
  {
   "cell_type": "code",
   "execution_count": 65,
   "id": "4d1f29ae",
   "metadata": {},
   "outputs": [
    {
     "data": {
      "text/plain": [
       "('עמית לירון שלום', 'כתובת המייל שלי')"
      ]
     },
     "execution_count": 65,
     "metadata": {},
     "output_type": "execute_result"
    }
   ],
   "source": [
    "normalize(\"עמית לירון in english we say שלום\"), normalize(\"כתובת המייל שלי: amitliron@gmail.com\")"
   ]
  },
  {
   "cell_type": "code",
   "execution_count": 60,
   "id": "9b9df7c5",
   "metadata": {},
   "outputs": [],
   "source": [
    "MILION         = 1000000\n",
    "K              = 100\n",
    "NUMBER_OF_ROWS = K * MILION\n",
    "INPUT_FILE     = \"../../Downloads/HeDC4.csv\"\n",
    "TMP_FILE       = f\"./tmp_{K}M.txt\"\n",
    "DEST_FILE      = \"\""
   ]
  },
  {
   "cell_type": "code",
   "execution_count": 61,
   "id": "8c1bf4e2",
   "metadata": {},
   "outputs": [
    {
     "data": {
      "text/plain": [
       "(100000000, './tmp_100M.txt')"
      ]
     },
     "execution_count": 61,
     "metadata": {},
     "output_type": "execute_result"
    }
   ],
   "source": [
    "NUMBER_OF_ROWS, TMP_FILE"
   ]
  },
  {
   "cell_type": "code",
   "execution_count": 62,
   "id": "41a2fa5b",
   "metadata": {},
   "outputs": [],
   "source": [
    "counter = 0\n",
    "with open(INPUT_FILE, \"r\") as read_file, open(TMP_FILE, \"w\") as write_file:\n",
    "    for line in read_file: \n",
    "                \n",
    "        normalize_text = normalize(line)\n",
    "        write_file.write(normalize_text+\"\\n\")\n",
    "        \n",
    "        counter = counter + 1\n",
    "        if counter == NUMBER_OF_ROWS:\n",
    "            break"
   ]
  },
  {
   "cell_type": "code",
   "execution_count": null,
   "id": "d5b1c15c",
   "metadata": {},
   "outputs": [],
   "source": [
    "KenLM"
   ]
  },
  {
   "cell_type": "code",
   "execution_count": 55,
   "id": "f7b3223b",
   "metadata": {},
   "outputs": [],
   "source": [
    "# counter = 0\n",
    "# with open(TMP_FILE, \"r\") as read_file:\n",
    "#     for line in read_file: \n",
    "        \n",
    "#         print(f\"{counter}-->\")\n",
    "#         print(line)\n",
    "#         print(\"---\")\n",
    "\n",
    "#         counter = counter + 1\n",
    "#         if counter == NUMBER_OF_ROWS:\n",
    "#             break"
   ]
  },
  {
   "cell_type": "markdown",
   "id": "a939cecb",
   "metadata": {},
   "source": [
    "he100m.arpa\n",
    " ./lmplz -o 4 -S 1G </home/amitli/Repo/Voice/tmp_100M.txt >/home/amitli/Repo/Voice/he100m.arpa"
   ]
  },
  {
   "cell_type": "markdown",
   "id": "50337e43",
   "metadata": {},
   "source": [
    "https://github.com/kpu/kenlm/issues/425"
   ]
  },
  {
   "cell_type": "code",
   "execution_count": null,
   "id": "00ee5346",
   "metadata": {},
   "outputs": [],
   "source": []
  },
  {
   "cell_type": "markdown",
   "id": "7e465edf",
   "metadata": {},
   "source": [
    "amitli@L-P-AMITLI-LX-WW:~/Repo/kenlm-master/build/bin$ ./build_binary trie -a 22 -b 8 -q 8 ../../../Voice/he100m.arpa ../../../Voice/he100m.bin\n",
    "Reading ../../../Voice/he100m.arpa\n",
    "----5---10---15---20---25---30---35---40---45---50---55---60---65---70---75---80---85---90---95--100\n",
    "****************************************************************************************************\n",
    "Identifying n-grams omitted by SRI\n",
    "----5---10---15---20---25---30---35---40---45---50---55---60---65---70---75---80---85---90---95--100\n",
    "****************************************************************************************************\n",
    "Quantizing\n",
    "----5---10---15---20---25---30---35---40---45---50---55---60---65---70---75---80---85---90---95--100\n",
    "****************************************************************************************************\n",
    "Writing trie\n",
    "----5---10---15---20---25---30---35---40---45---50---55---60---65---70---75---80---85---90---95--100\n",
    "****************************************************************************************************\n",
    "SUCCESS\n"
   ]
  },
  {
   "cell_type": "code",
   "execution_count": null,
   "id": "b6648365",
   "metadata": {},
   "outputs": [],
   "source": []
  },
  {
   "cell_type": "code",
   "execution_count": 10,
   "id": "3a609587",
   "metadata": {},
   "outputs": [
    {
     "name": "stdout",
     "output_type": "stream",
     "text": [
      "0.0\n"
     ]
    }
   ],
   "source": [
    "import kenlm\n",
    "model = kenlm.Model('./nba.bin')\n",
    "print(round(pow(10, model.score('this is a sentence .')), 3))"
   ]
  },
  {
   "cell_type": "code",
   "execution_count": 11,
   "id": "143e048d",
   "metadata": {},
   "outputs": [
    {
     "data": {
      "text/plain": [
       "(-3.1528096199035645, -4.404624938964844)"
      ]
     },
     "execution_count": 11,
     "metadata": {},
     "output_type": "execute_result"
    }
   ],
   "source": [
    "model.score('NBA is stands'), model.score('NBA is basketball')"
   ]
  },
  {
   "cell_type": "code",
   "execution_count": 13,
   "id": "e4501f86",
   "metadata": {},
   "outputs": [
    {
     "data": {
      "text/plain": [
       "(0.001, 0.0)"
      ]
     },
     "execution_count": 13,
     "metadata": {},
     "output_type": "execute_result"
    }
   ],
   "source": [
    "round(pow(10, model.score('NBA is stands')), 3), round(pow(10, model.score('NBA is basketball')), 3)"
   ]
  },
  {
   "cell_type": "code",
   "execution_count": 16,
   "id": "e88fdc89",
   "metadata": {},
   "outputs": [
    {
     "data": {
      "text/plain": [
       "(-3.272223472595215, -2.360645055770874)"
      ]
     },
     "execution_count": 16,
     "metadata": {},
     "output_type": "execute_result"
    }
   ],
   "source": [
    "model.score('NBA is stands for'), model.score('for National Basketball Association')"
   ]
  },
  {
   "cell_type": "code",
   "execution_count": 15,
   "id": "97e72fd4",
   "metadata": {},
   "outputs": [
    {
     "data": {
      "text/plain": [
       "(0.001, 0.004)"
      ]
     },
     "execution_count": 15,
     "metadata": {},
     "output_type": "execute_result"
    }
   ],
   "source": [
    "round(pow(10, model.score('NBA is stands for')), 3), round(pow(10, model.score('for National Basketball Association')), 3)"
   ]
  }
 ],
 "metadata": {
  "kernelspec": {
   "display_name": "Python 3 (ipykernel)",
   "language": "python",
   "name": "python3"
  },
  "language_info": {
   "codemirror_mode": {
    "name": "ipython",
    "version": 3
   },
   "file_extension": ".py",
   "mimetype": "text/x-python",
   "name": "python",
   "nbconvert_exporter": "python",
   "pygments_lexer": "ipython3",
   "version": "3.8.10"
  }
 },
 "nbformat": 4,
 "nbformat_minor": 5
}
