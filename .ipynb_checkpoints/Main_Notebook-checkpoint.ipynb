{
 "cells": [
  {
   "cell_type": "code",
   "execution_count": 4,
   "id": "cce7ffd0",
   "metadata": {},
   "outputs": [
    {
     "data": {
      "text/html": [
       "<style>.container { width:100% !important; }</style>"
      ],
      "text/plain": [
       "<IPython.core.display.HTML object>"
      ]
     },
     "metadata": {},
     "output_type": "display_data"
    }
   ],
   "source": [
    "from IPython.display import display, HTML\n",
    "display(HTML(\"<style>.container { width:100% !important; }</style>\"))"
   ]
  },
  {
   "cell_type": "code",
   "execution_count": 5,
   "id": "d9debc7e",
   "metadata": {},
   "outputs": [],
   "source": [
    "%load_ext autoreload\n",
    "%autoreload 2"
   ]
  },
  {
   "cell_type": "code",
   "execution_count": 6,
   "id": "148e9311",
   "metadata": {},
   "outputs": [
    {
     "name": "stdout",
     "output_type": "stream",
     "text": [
      "1.13.1+cu117\n",
      "0.13.1+cu117\n",
      "4.26.1\n"
     ]
    }
   ],
   "source": [
    "import torch\n",
    "import torchaudio\n",
    "import transformers\n",
    "print(torch.__version__)\n",
    "print(torchaudio.__version__)\n",
    "print(transformers.__version__)"
   ]
  },
  {
   "cell_type": "code",
   "execution_count": 7,
   "id": "b112922a",
   "metadata": {},
   "outputs": [
    {
     "name": "stderr",
     "output_type": "stream",
     "text": [
      "kenlm python bindings are not installed. Most likely you want to install it using: pip install https://github.com/kpu/kenlm/archive/master.zip\n",
      "kenlm python bindings are not installed. Most likely you want to install it using: pip install https://github.com/kpu/kenlm/archive/master.zip\n"
     ]
    }
   ],
   "source": [
    "from os                import walk\n",
    "from pydub             import AudioSegment\n",
    "from pydub.utils       import get_array_type\n",
    "from pydub.utils       import mediainfo\n",
    "from pydub.silence     import split_on_silence\n",
    "from datasets          import load_dataset\n",
    "from transformers      import Wav2Vec2ForCTC, Wav2Vec2Processor\n",
    "from transformers      import WhisperProcessor, WhisperForConditionalGeneration\n",
    "from torchaudio.utils  import download_asset\n",
    "from scipy             import signal\n",
    "from scipy.io          import wavfile\n",
    "from matplotlib.pyplot import figure\n",
    "from tqdm              import tqdm\n",
    "from os                import listdir\n",
    "from os.path           import isfile, join\n",
    "from datetime          import datetime\n",
    "from pyctcdecode       import build_ctcdecoder\n",
    "from pprint            import pprint\n",
    "\n",
    "import matplotlib.pyplot as plt\n",
    "import pandas            as pd\n",
    "import numpy             as np\n",
    "import soundfile         as sf\n",
    "\n",
    "import git\n",
    "import whisper\n",
    "import os\n",
    "import jiwer\n",
    "import IPython\n",
    "import array\n",
    "import librosa\n",
    "import torch\n",
    "import torchaudio"
   ]
  },
  {
   "cell_type": "markdown",
   "id": "e24e99cd",
   "metadata": {},
   "source": [
    "<h1 style=\"background-color:LightGreen;\"> <center> <a id='start_cell'></a> Table Of Contents </center></h1>"
   ]
  },
  {
   "cell_type": "markdown",
   "id": "1242dd11",
   "metadata": {},
   "source": [
    "[Prepare Data](#prepare_data_cell) </br>\n",
    "[Run Validation Tests](#run_validation_tests) </br>\n",
    "[GIT](#add_to_git) </br>\n",
    "[Play Audio](#play_audio_cell) </br>\n",
    "[whisper](#whisper_cell) </br>\n",
    "[Wav2Vec2](#wav2vec2_cell) </br>\n",
    "[Compare Wav2Vec2 VS Whisper](#compare_cell) </br>\n",
    "[Q's to shiri](#shiri_cell) </br>\n",
    "[Beam Search Tests](#bs_cell) </br>"
   ]
  },
  {
   "cell_type": "markdown",
   "id": "412430c1",
   "metadata": {},
   "source": [
    "<h1 style=\"background-color:LightGreen;\"> <center> Prepare Data </center></h1>"
   ]
  },
  {
   "cell_type": "markdown",
   "id": "11c0e7c8",
   "metadata": {},
   "source": [
    "https://towardsdatascience.com/transcribe-audio-files-with-openais-whisper-e973ae348aa7"
   ]
  },
  {
   "cell_type": "code",
   "execution_count": 8,
   "id": "cbb1d733",
   "metadata": {},
   "outputs": [
    {
     "data": {
      "text/plain": [
       "device(type='cuda', index=0)"
      ]
     },
     "execution_count": 8,
     "metadata": {},
     "output_type": "execute_result"
    }
   ],
   "source": [
    "DEVICE = torch.device(\"cuda:0\" if torch.cuda.is_available() else \"cpu\")\n",
    "DEVICE"
   ]
  },
  {
   "cell_type": "markdown",
   "id": "e66d8a3d",
   "metadata": {},
   "source": [
    "<h1 style=\"background-color:LightGreen;\"> <center> <a id='prepare_data_cell'></a> Prepare Data </center></h1>"
   ]
  },
  {
   "cell_type": "code",
   "execution_count": 9,
   "id": "c73a150b",
   "metadata": {},
   "outputs": [],
   "source": [
    "WAV_FULL_FILE_FOLDER   = \"/home/amitli/Datasets/Voice/Hebrew/Police\"\n",
    "WAV_SPLIT_SR_8_FOLDER  = \"/home/amitli/Datasets/MyVoiceTests\"\n",
    "WAV_SPLIT_SR_16_FOLDER = \"/home/amitli/Datasets/MyVoiceTests_16SR\"\n",
    "df_gt                  = pd.read_excel(\"/home/amitli/Datasets/Voice/Hebrew/new_corpus.xlsx\")"
   ]
  },
  {
   "cell_type": "code",
   "execution_count": 13,
   "id": "71cf8fc1",
   "metadata": {},
   "outputs": [],
   "source": [
    "def get_part_of_wav(file_path, start_time_sec, end_time_sec, new_file_path):    \n",
    "    t1       = start_time_sec * 1000 \n",
    "    t2       = end_time_sec * 1000\n",
    "    newAudio = AudioSegment.from_wav(file_path)    \n",
    "    newAudio = newAudio[t1:t2]        \n",
    "    newAudio.export(new_file_path, format=\"wav\")"
   ]
  },
  {
   "cell_type": "code",
   "execution_count": 14,
   "id": "770e479d",
   "metadata": {},
   "outputs": [],
   "source": [
    "def split_file(arr_gt_times, wav_file_path, file_name, split_folder):\n",
    "    '''\n",
    "        arr_gt_times   - times to split file: 'wav_file_path/file_name'\n",
    "        wav_file_path  - path only (without name of file)\n",
    "        file_name      - file name to split\n",
    "        split_folder   - output folder\n",
    "    '''\n",
    "    \n",
    "    for i in range(len(arr_gt_times)):\n",
    "        \n",
    "            times      = arr_gt_times[i]\n",
    "            start_time = times[0:times.find(\" \")]\n",
    "            end_time   = times[times.find(\" \")+2:].lstrip()\n",
    "\n",
    "            time_obj   =  datetime.strptime(start_time, '%H:%M:%S.%f').time()\n",
    "            start_time = (time_obj.hour * 3600000) + (time_obj.minute * 60000) + (time_obj.second * 1000) + (time_obj.microsecond / 1000)\n",
    "\n",
    "            time_obj   =  datetime.strptime(end_time, '%H:%M:%S.%f').time()\n",
    "            end_time   = (time_obj.hour * 3600000) + (time_obj.minute * 60000) + (time_obj.second * 1000) + (time_obj.microsecond / 1000)\n",
    "                        \n",
    "            try:\n",
    "                path       = os.path.join(split_folder, file_name)             \n",
    "                os.mkdir(path, 0o777)\n",
    "            except:\n",
    "                None\n",
    "            \n",
    "            file_num   = \"%04d\" % (i,)\n",
    "            get_part_of_wav(file_path      = f\"{wav_file_path}/{file_name}.wav\", \n",
    "                            start_time_sec = start_time / 1000, \n",
    "                            end_time_sec   = end_time / 1000, \n",
    "                            new_file_path  = f\"{split_folder}/{file_name}/{file_name}_{file_num}.wav\")\n",
    "        "
   ]
  },
  {
   "cell_type": "code",
   "execution_count": 15,
   "id": "a87ac84e",
   "metadata": {},
   "outputs": [],
   "source": [
    "def split_all_wav_files(df, source_folder, dest_folder):\n",
    "    files_to_split = [f for f in listdir(source_folder) if isfile(join(source_folder, f))]\n",
    "    for i, file_to_split in tqdm(enumerate(files_to_split)):\n",
    "        \n",
    "        file_name    = file_to_split[:-4]        \n",
    "        arr_gt_times = np.array(df[df['file'] == f\"{file_name}.mp3\"]['segment'])        \n",
    "        \n",
    "        split_file(arr_gt_times, source_folder, file_name, dest_folder)\n",
    "                "
   ]
  },
  {
   "cell_type": "code",
   "execution_count": 16,
   "id": "d188d566",
   "metadata": {},
   "outputs": [],
   "source": [
    "def convert_to_16sr_file(source_path, dest_path):\n",
    "    \n",
    "    speech, sr = librosa.load(source_path, sr=16000)\n",
    "    sf.write(dest_path, speech, sr)\n",
    "\n",
    "def convert_to_16_sr_folder(source_folder, dest_folder):    \n",
    "    \n",
    "    folder_list = [f for f in listdir(source_folgitder) if not isfile(join(source_folder, f))]        \n",
    "    \n",
    "    for folder_name in folder_list:\n",
    "        splitted_wav_folder = f\"{source_folder}/{folder_name}\"\n",
    "        splitted_files      = [entry for entry in os.listdir(splitted_wav_folder) if os.path.isfile(os.path.join(splitted_wav_folder, entry))]\n",
    "        for i in range(len(splitted_files)): \n",
    "            part          = \"%04d\" % (i,)\n",
    "            full_src      = f\"{source_folder}/{folder_name}/{folder_name}_{part}.wav\"\n",
    "            full_dst      = f\"{dest_folder}/{folder_name}/{folder_name}_{part}.wav\"\n",
    "            \n",
    "            try:                \n",
    "                os.mkdir(f\"{dest_folder}/{folder_name}\", 0o777)\n",
    "            except:\n",
    "                None\n",
    "            \n",
    "            convert_to_16sr_file(full_src, full_dst)        "
   ]
  },
  {
   "cell_type": "code",
   "execution_count": 17,
   "id": "281a5f67",
   "metadata": {},
   "outputs": [],
   "source": [
    "SPLIT_FILES      = False\n",
    "CONVERT_TO_SR_16 = False\n",
    "\n",
    "if SPLIT_FILES:\n",
    "    split_all_wav_files(df_gt, WAV_FULL_FILE_FOLDER, WAV_SPLIT_SR_8_FOLDER)    \n",
    "    \n",
    "if CONVERT_TO_SR_16:\n",
    "    convert_to_16_sr_folder(WAV_SPLIT_SR_8_FOLDER, WAV_SPLIT_SR_16_FOLDER)    "
   ]
  },
  {
   "cell_type": "code",
   "execution_count": 18,
   "id": "a930c663",
   "metadata": {},
   "outputs": [],
   "source": [
    "def get_sample_rate(file):\n",
    "    info      = mediainfo(file)\n",
    "    return int(info['sample_rate'])"
   ]
  },
  {
   "cell_type": "code",
   "execution_count": 19,
   "id": "b25464ba",
   "metadata": {},
   "outputs": [],
   "source": [
    "def get_wav_duration(wav_file):\n",
    "    res = librosa.get_duration(path=wav_file)\n",
    "    return res"
   ]
  },
  {
   "cell_type": "markdown",
   "id": "fae83c55",
   "metadata": {},
   "source": [
    "<h1 style=\"background-color:LightGreen;\"> <center> <a id='run_validation_tests'></a>  Run Validation Tests </center></h1>"
   ]
  },
  {
   "cell_type": "markdown",
   "id": "d81208f4",
   "metadata": {},
   "source": [
    "[Table Of Content](#start_cell)"
   ]
  },
  {
   "cell_type": "code",
   "execution_count": 20,
   "id": "438ded03",
   "metadata": {},
   "outputs": [],
   "source": [
    "def get_total_speaking_length(speech_timestamps):\n",
    "    total = 0\n",
    "    for val in speech_timestamps:\n",
    "        tmp = val['end'] - val['start']\n",
    "        total = total + tmp\n",
    "    return total"
   ]
  },
  {
   "cell_type": "code",
   "execution_count": 22,
   "id": "ddbf21d4",
   "metadata": {},
   "outputs": [],
   "source": [
    "TEST_VAD = False\n",
    "if TEST_VAD is True:\n",
    "    \n",
    "    \n",
    "    vad_model, utils = torch.hub.load(repo_or_dir  = 'snakers4/silero-vad',\n",
    "                                  model        = 'silero_vad',\n",
    "                                  force_reload = True,\n",
    "                                  onnx         = False)\n",
    "\n",
    "    (get_speech_timestamps, save_audio, read_audio,VADIterator, collect_chunks) = utils\n",
    "    \n",
    "    \n",
    "    source_folder = WAV_SPLIT_SR_16_FOLDER\n",
    "    folder_list   = [f for f in listdir(source_folder) if not isfile(join(source_folder, f))]        \n",
    "    df_vad        = pd.DataFrame()\n",
    "\n",
    "    file_names        = []\n",
    "    file_duration     = []\n",
    "    file_num_of_words = []\n",
    "    vad_speaking_ms   = []    \n",
    "    vad_speaking_prec = []\n",
    "    \n",
    "    for folder_name in tqdm(folder_list):\n",
    "        \n",
    "        splitted_wav_folder = f\"{source_folder}/{folder_name}\"\n",
    "        splitted_files      = [entry for entry in os.listdir(splitted_wav_folder) if os.path.isfile(os.path.join(splitted_wav_folder, entry))]\n",
    "        gt_list             = df_gt[df_gt['file'] == f\"{folder_name}.mp3\"]['text'].values        \n",
    "        \n",
    "                        \n",
    "        for i in range(len(splitted_files)): \n",
    "            part           = \"%04d\" % (i,)\n",
    "            full_src       = f\"{source_folder}/{folder_name}/{folder_name}_{part}.wav\"                        \n",
    "\n",
    "            sample_rate       = 8000\n",
    "            wav_audio         = read_audio(full_src, sampling_rate=sample_rate)            \n",
    "            speech_timestamps = get_speech_timestamps(wav_audio, vad_model, sampling_rate=sample_rate, return_seconds=True)\n",
    "            \n",
    "            wav_duration   = get_wav_duration(full_src)\n",
    "            text_length    = len(gt_list[i].split())\n",
    "                        \n",
    "\n",
    "            file_duration.append(wav_duration)\n",
    "            file_num_of_words.append(text_length)\n",
    "            file_names.append(f\"{folder_name}_{part}\")\n",
    "                                \n",
    "            total_speaking = get_total_speaking_length(speech_timestamps)\n",
    "            vad_speaking_ms.append(total_speaking)\n",
    "            vad_speaking_prec.append(total_speaking/wav_duration)\n",
    "        \n",
    "    df_vad = pd.DataFrame(data = {\"File\":                 file_names,\n",
    "                                  \"Duration (Sec)\":       file_duration,\n",
    "                                  \"Text Length\":          file_num_of_words,\n",
    "                                  \"Speaking Length (ms)\": vad_speaking_ms,\n",
    "                                  \"Spealing Percentage\":  vad_speaking_prec})\n",
    "    df_vad.to_csv(\"/home/amitli/Repo/Voice/Results/vad.csv\")\n",
    "    add_to_git()"
   ]
  },
  {
   "cell_type": "code",
   "execution_count": 10,
   "id": "78809cb6",
   "metadata": {},
   "outputs": [
    {
     "data": {
      "text/html": [
       "<div>\n",
       "<style scoped>\n",
       "    .dataframe tbody tr th:only-of-type {\n",
       "        vertical-align: middle;\n",
       "    }\n",
       "\n",
       "    .dataframe tbody tr th {\n",
       "        vertical-align: top;\n",
       "    }\n",
       "\n",
       "    .dataframe thead th {\n",
       "        text-align: right;\n",
       "    }\n",
       "</style>\n",
       "<table border=\"1\" class=\"dataframe\">\n",
       "  <thead>\n",
       "    <tr style=\"text-align: right;\">\n",
       "      <th></th>\n",
       "      <th>Unnamed: 0</th>\n",
       "      <th>File</th>\n",
       "      <th>Duration (Sec)</th>\n",
       "      <th>Text Length</th>\n",
       "      <th>Speaking Length (ms)</th>\n",
       "      <th>Spealing Percentage</th>\n",
       "    </tr>\n",
       "  </thead>\n",
       "  <tbody>\n",
       "    <tr>\n",
       "      <th>0</th>\n",
       "      <td>0</td>\n",
       "      <td>2RpZkeaTIm4_0000</td>\n",
       "      <td>5.8</td>\n",
       "      <td>10</td>\n",
       "      <td>3.7</td>\n",
       "      <td>0.637931</td>\n",
       "    </tr>\n",
       "    <tr>\n",
       "      <th>1</th>\n",
       "      <td>1</td>\n",
       "      <td>2RpZkeaTIm4_0001</td>\n",
       "      <td>4.3</td>\n",
       "      <td>10</td>\n",
       "      <td>3.5</td>\n",
       "      <td>0.813953</td>\n",
       "    </tr>\n",
       "    <tr>\n",
       "      <th>2</th>\n",
       "      <td>2</td>\n",
       "      <td>2RpZkeaTIm4_0002</td>\n",
       "      <td>5.6</td>\n",
       "      <td>10</td>\n",
       "      <td>2.8</td>\n",
       "      <td>0.500000</td>\n",
       "    </tr>\n",
       "    <tr>\n",
       "      <th>3</th>\n",
       "      <td>3</td>\n",
       "      <td>2RpZkeaTIm4_0003</td>\n",
       "      <td>6.7</td>\n",
       "      <td>10</td>\n",
       "      <td>4.1</td>\n",
       "      <td>0.611940</td>\n",
       "    </tr>\n",
       "    <tr>\n",
       "      <th>4</th>\n",
       "      <td>4</td>\n",
       "      <td>2RpZkeaTIm4_0004</td>\n",
       "      <td>4.7</td>\n",
       "      <td>10</td>\n",
       "      <td>3.0</td>\n",
       "      <td>0.638298</td>\n",
       "    </tr>\n",
       "  </tbody>\n",
       "</table>\n",
       "</div>"
      ],
      "text/plain": [
       "   Unnamed: 0              File  Duration (Sec)  Text Length  \\\n",
       "0           0  2RpZkeaTIm4_0000             5.8           10   \n",
       "1           1  2RpZkeaTIm4_0001             4.3           10   \n",
       "2           2  2RpZkeaTIm4_0002             5.6           10   \n",
       "3           3  2RpZkeaTIm4_0003             6.7           10   \n",
       "4           4  2RpZkeaTIm4_0004             4.7           10   \n",
       "\n",
       "   Speaking Length (ms)  Spealing Percentage  \n",
       "0                   3.7             0.637931  \n",
       "1                   3.5             0.813953  \n",
       "2                   2.8             0.500000  \n",
       "3                   4.1             0.611940  \n",
       "4                   3.0             0.638298  "
      ]
     },
     "execution_count": 10,
     "metadata": {},
     "output_type": "execute_result"
    }
   ],
   "source": [
    "df_vad = pd.read_csv(\"/home/amitli/Repo/Voice/Results/vad.csv\")\n",
    "df_vad.head()"
   ]
  },
  {
   "cell_type": "markdown",
   "id": "b996431b",
   "metadata": {},
   "source": [
    "<h2 style=\"font-size: 2rem; color: #2ecc71\">1. Conclustions:</h2>"
   ]
  },
  {
   "cell_type": "markdown",
   "id": "e9c3dc0b",
   "metadata": {},
   "source": [
    "| # | Issue | Additional Information |\n",
    "| --- | --- | --- |\n",
    "| 1 | Running VAD on GPU is slower |  |\n",
    "| 2 | Running VAD with SR=16K less good than SR=8K | SR=8K is the source |\n",
    "| 3 | Example of speaking percentag = 63% which is corrent |  | listen to: '2RpZkeaTIm4_0000.wav'"
   ]
  },
  {
   "cell_type": "markdown",
   "id": "b4ce06b0",
   "metadata": {},
   "source": [
    "<h2 style=\"font-size: 2rem; color: #2ecc71\">2. Speaking Percentage:</h2>"
   ]
  },
  {
   "cell_type": "code",
   "execution_count": 61,
   "id": "d95434d4",
   "metadata": {},
   "outputs": [
    {
     "data": {
      "text/plain": [
       "<AxesSubplot: >"
      ]
     },
     "execution_count": 61,
     "metadata": {},
     "output_type": "execute_result"
    },
    {
     "data": {
      "image/png": "[encoded data removed]",
      "text/plain": [
       "<Figure size 640x480 with 1 Axes>"
      ]
     },
     "metadata": {},
     "output_type": "display_data"
    }
   ],
   "source": [
    "df_vad['Spealing Percentage'].hist(bins=30)"
   ]
  },
  {
   "cell_type": "markdown",
   "id": "1737cd92",
   "metadata": {},
   "source": [
    "<h2 style=\"font-size: 2rem; color: #2ecc71\">3. Text length:</h2>"
   ]
  },
  {
   "cell_type": "code",
   "execution_count": 63,
   "id": "67b6e397",
   "metadata": {},
   "outputs": [
    {
     "data": {
      "text/plain": [
       "<AxesSubplot: >"
      ]
     },
     "execution_count": 63,
     "metadata": {},
     "output_type": "execute_result"
    },
    {
     "data": {
      "image/png": "[encoded data removed]",
      "text/plain": [
       "<Figure size 640x480 with 1 Axes>"
      ]
     },
     "metadata": {},
     "output_type": "display_data"
    }
   ],
   "source": [
    "df_vad['Text Length'].hist(bins=20)"
   ]
  },
  {
   "cell_type": "markdown",
   "id": "57ec2a4b",
   "metadata": {},
   "source": [
    "<h2 style=\"font-size: 2rem; color: #2ecc71\">4. WAV Duration:</h2>"
   ]
  },
  {
   "cell_type": "code",
   "execution_count": 68,
   "id": "4d55e8e3",
   "metadata": {},
   "outputs": [
    {
     "data": {
      "text/plain": [
       "<AxesSubplot: >"
      ]
     },
     "execution_count": 68,
     "metadata": {},
     "output_type": "execute_result"
    },
    {
     "data": {
      "image/png": "[encoded data removed]",
      "text/plain": [
       "<Figure size 640x480 with 1 Axes>"
      ]
     },
     "metadata": {},
     "output_type": "display_data"
    }
   ],
   "source": [
    "df_vad['Duration (Sec)'].hist(bins=20)"
   ]
  },
  {
   "cell_type": "markdown",
   "id": "265bb879",
   "metadata": {},
   "source": [
    "<h2 style=\"font-size: 2rem; color: #2ecc71\">5. Final files to work with:</h2>"
   ]
  },
  {
   "cell_type": "code",
   "execution_count": 64,
   "id": "d66c39b3",
   "metadata": {},
   "outputs": [
    {
     "data": {
      "text/html": [
       "<div>\n",
       "<style scoped>\n",
       "    .dataframe tbody tr th:only-of-type {\n",
       "        vertical-align: middle;\n",
       "    }\n",
       "\n",
       "    .dataframe tbody tr th {\n",
       "        vertical-align: top;\n",
       "    }\n",
       "\n",
       "    .dataframe thead th {\n",
       "        text-align: right;\n",
       "    }\n",
       "</style>\n",
       "<table border=\"1\" class=\"dataframe\">\n",
       "  <thead>\n",
       "    <tr style=\"text-align: right;\">\n",
       "      <th></th>\n",
       "      <th>Unnamed: 0</th>\n",
       "      <th>File</th>\n",
       "      <th>Duration (Sec)</th>\n",
       "      <th>Text Length</th>\n",
       "      <th>Speaking Length (ms)</th>\n",
       "      <th>Spealing Percentage</th>\n",
       "    </tr>\n",
       "  </thead>\n",
       "  <tbody>\n",
       "    <tr>\n",
       "      <th>26</th>\n",
       "      <td>26</td>\n",
       "      <td>2RpZkeaTIm4_0026</td>\n",
       "      <td>2.3</td>\n",
       "      <td>3</td>\n",
       "      <td>1.6</td>\n",
       "      <td>0.695652</td>\n",
       "    </tr>\n",
       "    <tr>\n",
       "      <th>48</th>\n",
       "      <td>48</td>\n",
       "      <td>2RpZkeaTIm4_0048</td>\n",
       "      <td>1.1</td>\n",
       "      <td>4</td>\n",
       "      <td>0.8</td>\n",
       "      <td>0.727273</td>\n",
       "    </tr>\n",
       "    <tr>\n",
       "      <th>59</th>\n",
       "      <td>59</td>\n",
       "      <td>2RpZkeaTIm4_0059</td>\n",
       "      <td>2.3</td>\n",
       "      <td>4</td>\n",
       "      <td>1.4</td>\n",
       "      <td>0.608696</td>\n",
       "    </tr>\n",
       "    <tr>\n",
       "      <th>92</th>\n",
       "      <td>92</td>\n",
       "      <td>1KpCbxgsGUU_0028</td>\n",
       "      <td>1.8</td>\n",
       "      <td>4</td>\n",
       "      <td>0.7</td>\n",
       "      <td>0.388889</td>\n",
       "    </tr>\n",
       "    <tr>\n",
       "      <th>180</th>\n",
       "      <td>180</td>\n",
       "      <td>0XLKQME2ZJc_0000</td>\n",
       "      <td>7.0</td>\n",
       "      <td>4</td>\n",
       "      <td>2.1</td>\n",
       "      <td>0.300000</td>\n",
       "    </tr>\n",
       "  </tbody>\n",
       "</table>\n",
       "</div>"
      ],
      "text/plain": [
       "     Unnamed: 0              File  Duration (Sec)  Text Length  \\\n",
       "26           26  2RpZkeaTIm4_0026             2.3            3   \n",
       "48           48  2RpZkeaTIm4_0048             1.1            4   \n",
       "59           59  2RpZkeaTIm4_0059             2.3            4   \n",
       "92           92  1KpCbxgsGUU_0028             1.8            4   \n",
       "180         180  0XLKQME2ZJc_0000             7.0            4   \n",
       "\n",
       "     Speaking Length (ms)  Spealing Percentage  \n",
       "26                    1.6             0.695652  \n",
       "48                    0.8             0.727273  \n",
       "59                    1.4             0.608696  \n",
       "92                    0.7             0.388889  \n",
       "180                   2.1             0.300000  "
      ]
     },
     "execution_count": 64,
     "metadata": {},
     "output_type": "execute_result"
    }
   ],
   "source": [
    "df_vad[df_vad['Text Length'] < 5].head()"
   ]
  },
  {
   "cell_type": "code",
   "execution_count": null,
   "id": "3ec91cd2",
   "metadata": {},
   "outputs": [],
   "source": [
    "df_vad[df_vad['Spealing Percentage'] < 0.3].head()"
   ]
  },
  {
   "cell_type": "code",
   "execution_count": 67,
   "id": "7a3602f0",
   "metadata": {},
   "outputs": [
    {
     "data": {
      "text/html": [
       "\n",
       "                <audio  controls=\"controls\" >\n",
       "                    <source src=\"data:audio/x-wav;base64,UklGRqQfAQBXQVZFZm10IBAAAAABAAEAgD4AAAB9AAACABAAZGF0YYAfAQDl/93/3P/b/9j/1v/W/9f/1v/U/9T/1v/X/9f/1//W/9P/zv/J/8b/xf/G/8n/0P/Z/+L/6P/r/+v/6f/p/+z/8P/0//j//v8FAAkACQAHAAUABAAHAA0AEwAZABwAHgAfACAAIAAfAB8AIQAjACMAIgAiACIAIgAjACUAKAApACoAKgAnACIAHQAcAB4AIgAnAC0AMQAxACwAIAASAAUA+//1//T/+P/9/wEAAwADAAAA+//4//j/+v/8////AgAEAAQAAwACAAAA/v/9//3//f/9//z/+//4//L/6v/i/9z/1//U/9P/1P/V/9f/2f/a/9j/1P/S/9T/2P/c/+D/4//j/+L/4P/d/9j/1P/S/9P/1f/Y/9r/2f/W/9T/1v/a/+D/5v/s//D/7//s/+j/5f/k/+f/7f/0//3/BAAJAAwADwARABMAFwAdACQAKQAsAC4AMAAxADAALgArACcAJAAkACQAIwAjACUAKAAqACoAKQAnACQAIQAdABgAEgANAAoACAAEAAEAAAAAAAEAAwAFAAYABAABAP7//P/5//j/+f/7//3///8CAAUACAALAA8AEwAVABYAFgAUABEAEAATABgAHgAiACUAJAAgABwAGQAWABMAEAAPAA8ADgAMAAkABQD///r/9//2//X/8//y//D/7v/s/+v/6//s/+//9f/6//3//v/+//z/+v/4//n/+v/8//7/AgAEAAMAAQD+//r/9P/t/+f/5P/i/+P/5v/o/+n/6v/s/+7/7//x//T/+P/6//z//v8AAAIABgAKAA4ADwAPAA8ADgALAAgABgAFAAUABQAGAAUAAgD///7//v///wEAAwAEAAQABAAGAAkACgAKAAwAEQAWABoAGQAUAA4ABwABAPv/9//1//P/8v/x/+//6//o/+j/6//u//D/8v/z//P/8v/x//H/8f/0//r///8CAAQABwAKAAwADQANAAsACQAIAAgABgACAP3/+v/5//f/9f/1//b/+P/7//3//v/9//3///8CAAMAAwADAAMAAwADAAMAAgAAAP//AAD////////+//3//f/+//7//v/+//7//v8AAAMABAADAAAA/v/7//j/9v/1//X/8//y//L/8//0//X/9//5//n/+v/8//7//v/8//r/+P/2//b/+P/6//3/AAAFAAgACAAFAAIAAAD+//z/+//8//3//v///////v/9//3//P/6//j/+P/6//v//P/9//7//v/+/////v/+//3/+//4//T/7//p/+X/5P/k/+P/4//l/+j/6//t/+//8f/z//b/+////wIABQAJAAwADgAOAA0ADAAKAAgACAAJAAkACQAJAAkACAAIAAgACAAFAAEA/f/7//r/+v/9/wAAAwAHAAsADQANAA0ADQAMAAkABwAGAAYABAACAAAA/f/7//r/+P/1//T/9P/1//X/9P/x/+3/6//t//H/9v/8/wMACQANABAAEwAVABYAGAAbAB4AHgAbABkAFgATAA8ADQALAAkACQAKAAwADAAKAAkACAAHAAcABgAEAAQABQAGAAYABwAHAAYABgAHAAcABAAAAP3/+v/4//f/+P/7//3//f/9//v/+P/2//X/9P/y//H/8v/1//j/+//9//7///8DAAgADAAMAAsACgAJAAcABAADAAMABQAJAA0ADwANAAkABgAEAAIAAQACAAMABQAHAAYABAADAAIA///7//f/9P/y//L/9f/4//v//f///wEAAAD9//r/+P/3//f/+P/5//v///8FAAkACwAMAA0ADQALAAgABQACAP///v/+//7///8AAAIABgAKAAwACgAFAAAA/P/5//j/+P/3//b/9//4//n/+f/4//b/9f/1//X/8//x//D/8P/v/+//8P/x//P/9f/3//f/9f/0//X/+P/6//3/AgAIAA0ADwAPAAwACQAIAAoACwAKAAcABQAEAAMAAgABAAEAAQACAAQABAADAAEAAQABAAEAAwAGAAoADQARABQAFQASAA0ACQAHAAUABAAEAAQAAwADAAQAAwAAAP3//f/+/////f/6//b/8//y//P/9f/1//b/+P/6//r/+f/4//j/+P/5//r/+//7//z//v/+//7//f/9////AwAFAAMAAAD+//3//f/9////AwAJAA8AFAAWABMADQAIAAUAAgD///3/+//5//n/+f/5//j/9//4//r/+v/6//r/+v/4//b/9f/1//X/9f/3//n/+v/5//f/9f/y//D/8P/w//D/8f/z//b/+P/6//z//f/9//z/+//6//j/9v/2//f/+P/6//z//f/8//r/+v/5//r//P/+/wAABAAHAAgABwAFAAEA/f/6//n/+v/7//z//f/+//3//v8BAAYACQAKAAkABwAEAAAA/f/5//b/9//7/wAAAQD///3/+//6//r/+f/3//P/8f/x//P/9P/1//j//f8CAAUABgAFAAIAAQACAAIAAAD//wAAAwAEAAMAAAD9//r/+P/4//n/+f/5//r/+//5//T/7//s/+v/7f/x//X/9//4//n/+v/6//v//f8BAAUACQALAAoABgACAAAAAAABAAMABwAMABAAEQAPAAoABQACAAIAAgD///v/+P/2//b/9v/3//j/+f/6//z//P/5//X/8//0//X/9//5//r/+v/8/wAABAAHAAkADAAPABIAFAAUABQAFQAWABUAEwAQAA4ADAAMAA0ADQAMAAsADAAOAA8ADwAQABEAEAANAAoABQAAAPz//P/+/////////wAAAQADAAUABwAIAAoADAANAAsABwAEAAMAAgAAAP7/+//5//r//f8BAAMABgALABAAEwAUABMAEAANAAwACwAKAAcABQAEAAMAAQAAAAAAAAD///////////7//P/8//z//P/9//7//v/8//r/+f/4//f/9//4//n/+f/5//r//P/9//3//v////////8BAAMABQAGAAcABgADAP//+//4//X/8//z//P/8//z//X/+P/8/wIACQAPABIAEwASABAADAAHAAMAAAD+//7///8BAAIAAwAFAAUAAwABAAAA///+//z/+//5//X/8v/x//H/8v/0//j//P8BAAYACwAPABEAEgAUABUAEgAOAAsACAAFAAMAAgACAAIAAgAEAAYABwAHAAkACwAMAAsACwAKAAgABgAEAAEA///+/wAAAwAFAAYABgAEAAAA/P/3//P/7//t/+3/7f/s/+r/6f/p/+n/6//v//P/9v/5//z//v/+//3//f/+/wAABAAJAAwADQANAA0ADQALAAgABwAGAAUABAADAAIAAAD+//7////+//3//P/8//3//v8AAAIAAgABAAAA///9//z//f///wAAAQABAP//+v/0/+//7P/q/+n/6//t/+7/7v/v//D/8P/w//H/8f/x//L/9f/5//z///8CAAUABwAIAAoACgAJAAgACQAKAAoACQAKAAwADgAQABEAEAAMAAgABQACAAAAAQAEAAcACQAJAAkABwAEAAIAAgACAAAA/v/8//r/9v/z//L/8//0//T/9f/1//T/8//0//f/+v/+/wIAAwABAPz/9//y//D/8f/y//T/9v/4//j/9//3//b/9f/0//X/9//4//j/+v/9/wAAAgAFAAcACAAJAAsADAAMAAwADAAKAAYAAQD+//3//f/9//7//v/9//v/+v/5//j/+f/7//7//////////v/8//v/+//8//z//f/9//z//f/+//7//f/9//z/+v/5//n/+v/7//z//P/7//f/8v/v/+7/7//y//b/+v/7//n/9v/y/+7/7f/w//X/+/8BAAUABgADAP//+//3//P/8f/w//D/7//w//P/9//8/wIACQAOABEAEwAVABUAEwARABAAEAAPAA0ADAAKAAYAAgD+//n/8//t/+n/6P/o/+n/6//s/+z/7f/v//H/8//2//r//v////3/+//4//T/8f/x//L/9v/6//3/AQAGAAoADAAOABAAEAAOAAsACQAHAAUAAwADAAIAAwAEAAUABwAKAA0ADgAOAA4ADAAHAAIA/v/7//j/9f/0//T/8//x//D/8P/w//D/8v/1//f/+P/6//z//v///wEABAAGAAgACgAMAAwADQAMAAwADQAOAA4ADQANAAwACgAHAAUABAACAAAAAAAAAAAAAAABAAIAAwADAAQABAADAAEA///9//v/+v/7//7/AAADAAYABwAFAAIA/v/6//X/8f/v/+7/7v/v//H/9P/2//j/+//9//7//v///wAA///+//3/+//3//T/9P/2//r///8FAAoADgAQAA8ADAAJAAcABQAEAAUABQAEAAMAAwADAAMAAwAFAAcACAAIAAgACAAGAAQAAwADAAIAAgADAAMAAgABAAEAAAD+//3//f/+//////8AAP///f/6//n/+v/9/wEABwAMAA4ADQAKAAUA///7//r//P/+/wAAAwAEAAMAAQABAAEAAQACAAQABgAGAAYABwAIAAkACQAJAAgABQACAAAA///+////AQACAAIAAgADAAUABgAIAAsADQANAAoABwADAAAA/v///wIABAAGAAgABwAHAAYABAADAAMAAwACAAEAAQAAAP7//f/9//7///8BAAUACQAMAA4ADwANAAgAAgD8//j/9f/1//j/+//9//7//v/9//v/+f/5//n/+P/3//b/9P/x//D/8v/1//j//P8BAAUABwAJAAwADgAPAA4ADAAIAAEA+f/z//H/8f/1//v/AQAFAAcACAAIAAYABQAFAAQAAgAAAP7//f/8//v//P/9//7//v///////v/9//7///8AAAEAAwAEAAMAAAD+//v/+P/0//L/8f/x//H/8v/z//P/8v/y//H/8P/w//L/9v/6////BAAJAA0AEAAUABcAGAAXABUAEQALAAQAAAD+//7/AAAEAAYACAAKAAkACAAHAAcABwAGAAYABQADAAEAAAAAAAAAAQADAAQABAAFAAcACAAIAAcABwAHAAUAAgD///3/+//5//j/9//1//L/8P/v/+3/7P/t/+7/7v/u/+//8P/x//L/9f/4//v//v8CAAYACAAKAAoACQAIAAUAAQD9//v/+v/6//z/AAAFAAgACgALAAoABgABAP3/+//5//n/+//9////AAACAAMAAwAEAAYABwAHAAcABwAHAAYABAAEAAQABAADAAIAAQD+//v/+f/4//f/+P/7////AgAEAAYABgAEAAAA/P/5//X/8v/x//H/8f/y//P/9f/2//f/+f/7//3///8CAAMAAgD///z/+f/1//L/8v/z//P/8//z//P/8v/x//P/9//7/wAABQAJAAoACQAJAAkACQAIAAkACgAKAAoACQAHAAQAAAD9//v/+f/5//r/+//+/wAAAAD///3/+//5//j/+/8AAAUACQAMAA4ADQALAAoACQAIAAkACwAMAAoABwAEAAIAAAD//wEABAAGAAYABQADAAAA/f/8//z//f/+/wAAAQABAAAAAAD///7//v8AAAMABQAHAAkACgAJAAgABwAFAAIA///9//v/+P/1//P/8v/x//D/8f/y//H/8P/w//D/8f/z//j//v8DAAcACgAKAAcABAACAAIAAgACAAMABAACAP///P/5//b/9P/z//L/8P/v/+7/7v/u/+//8//3//r/+//8//3//f/8//z//f/+////AQAEAAYACAALAA0ADQALAAgABAD///z/+//8//3///8BAAIAAgABAAEAAgACAAMAAwACAP7/+P/z/+//7P/r/+7/8v/2//j/+v/8//3//f/+/wAAAgAEAAYACAAIAAcABgADAP///P/7//z//v8BAAUACQAKAAgABQABAP3/+//9/wEABQAIAAoACAADAPz/9//0//T/9//6//7/AgAEAAMAAQAAAAAAAQADAAYACQAKAAkACAAFAAEA/f/7//v/+//8//7/AAAAAP7//P/6//f/9P/0//X/9//5//z//f/8//n/9f/w/+r/5f/i/+L/4v/k/+f/6f/q/+r/6v/r/+z/7//1//z/AgAIAA0ADwAOAAwACAAFAAMAAgAAAP///v/+//3//P/9////AAABAAIAAwADAAMAAwADAAIAAQABAAEA///+//7///////7//f/7//j/9f/x/+7/7v/w//L/9f/4//v/+//6//j/9v/z//H/8P/w//D/8v/1//j/+v/8//7//v/9//z//f/+/wAAAgAGAAkACwAMAAwADAALAAoACgAKAAgABQACAP3/9v/w/+3/7P/t//D/9f/7////AgAEAAQAAwACAAMABQAHAAkADAAOAA8ADwAPAA4ADAAJAAcAAwD+//j/9P/w/+z/6f/o/+j/6P/n/+f/6P/p/+v/7v/y//X/+f/9/wEAAwAFAAcACAAHAAUABAADAAEAAAAAAAEAAQABAAIAAwADAAIAAwAEAAQAAwABAP7/+v/1//L/8P/v/+//8P/x//D/8P/x//P/9f/5////BAAHAAcABgACAP7/+v/2//P/8//0//X/9f/2//b/9P/y//D/7v/s/+v/7v/y//f//P8DAAkADQAOAA4ADgAMAAoACQAIAAcABgAFAAUABAAEAAUABwAIAAgABgADAAEA///8//r/+//9//7///8AAAEAAQABAAIAAwAEAAQABAACAP///P/6//n/+f/5//r//P/8//z/+//6//n/+f/6//z//f/+//7//f/6//b/9P/y//H/8v/2//r//f8AAAMABAADAAMAAgACAAMABQAGAAgACwANAA4ADwAQAA8ADQAKAAgABwAGAAUABQAFAAUABAAEAAMAAgACAAMABAADAAIAAQD///3/+//7//z//f/+////AAD///3/+//6//j/9//3//f/9v/2//f/9//2//X/9f/2//b/9f/2//j/+v/8////AgAEAAQABAADAAIAAgADAAUABgAGAAcABwAGAAUABQAGAAYABwAIAAcABAABAP///f/7//n/+f/6//r/+v/7//3///8DAAgADgASABQAFQATAA8ACgAGAAMAAAD//wAAAQABAAIABAAFAAUABgAIAAkACAAFAAMAAAD7//X/8P/s/+n/5//n/+n/6//u//D/8v/y//P/9f/3//r///8FAAsADgAPAA0ACQADAP7//P/7//v//P/+/wAAAAD///////8AAAIABgAJAAoACAAFAAIA/v/7//v//P/+/wEABAAGAAUAAgD+//r/9f/y//D/8P/w//H/8//0//b/+P/5//r/+//9//7///8AAP///f/5//X/8f/t/+r/6v/r/+3/7//z//X/+P/6//v//f8AAAMABAAFAAYABgAEAAEA////////AAACAAQABQAFAAUABAACAAAA/v/9//v/+v/6//r/+v/6//v/+//6//n/+f/5//j/+P/5//r/+v/5//j/9f/x/+7/7P/s/+//8//3//v///8BAAIAAgAEAAYACAAJAAoACgAIAAYABAACAAAA/v/+////AAABAAMABAAEAAMAAwADAAIAAQABAAIAAgADAAMAAwADAAIAAAAAAAIABgAKAA4AEgATABEADQAIAAMA/v/7//n/+P/2//T/8//y//D/7//w//H/8v/z//X/9//3//f/+P/6//v/+//8//7//v/+//7///8AAAIAAwAEAAQABAACAAEAAQAAAP7//P/7//v/+v/5//r//P/+/wIABwANABEAFAAXABkAGQAYABcAFgAVABUAFQAVABMAEgARABAADQAKAAgABQABAP7//P/7//r/+f/6//z//f/9//7///////7//v/+//3//v/9//z//P/9//7/AAAEAAkADQARABUAFwAXABcAFwAXABUAEgAQAA4ADAALAAoACAAFAAEA/v/6//f/9v/6/wAABgALAA8AEQAQAA8ADgANAAwADAAPABMAEwARAAwABgADAAEAAAACAAcADgASABMAEgAPAAwACQAIAAYAAwAAAAAAAQABAP///f/7//v//P///wMABgAKAA4ADwANAAgABAAAAPz/+v/6//3/AQAEAAYABQABAP7//f///wIABwANABMAFgAXABYAEwAOAAoABwAEAAEA//8AAAEAAQABAAIAAwAEAAQABAADAAEA/v/7//n/9v/0//P/8//y//H/8P/v/+7/7//x//L/8v/0//j/+//8//z//P/6//b/8f/t/+r/5//m/+b/5//r//D/9P/5//7/AwAFAAUABAACAP7/+v/3//X/8//z//X/+f/7//z//P/7//n/+P/3//f/9//4//v//P/6//f/9P/y/+//7P/o/+X/4v/h/+L/4//k/+X/5//n/+T/4P/c/9n/1//X/9r/3v/i/+f/7P/v//D/8P/y//T/9//5//n/9//2//T/8v/x//L/9f/3//f/9v/1//T/9P/2//n/+//9/wAAAwADAAEA/v/7//f/9P/x/+//7P/r/+v/7P/s/+z/7v/x//P/8//y//H/8P/x//P/9f/1//T/9v/5//z//v8AAAIAAwAEAAUABwAJAAsADgARABEADwANAAoABgACAP///P/6//r//P/+//7/+//3//L/6//l/+H/3//d/93/4P/k/+j/7P/v//L/8//1//j/+v/7//v/+//5//X/8v/x//L/9P/2//n/+//7//v//f8AAAMABQAHAAkACgAKAAoACQAIAAcABwAHAAYABAADAAMAAwACAAEAAAD+//3//f/8//r/+v/8//7///8AAAEAAQD///7///8CAAMAAwACAAEA///9//3///8AAAEAAgABAP7/+v/4//f/9//5//z//v///wAAAQACAAIAAgADAAQABQAGAAcABwAEAAIAAgACAAEAAAD///////8BAAUACgAPABQAGQAcABsAGQAYABkAGgAaABsAGwAbAB0AIAAiACEAHgAcABsAGAAUABEADwAOAA4ADgAOAA0ADAANAA4ADQAKAAgABQABAP3/+f/1//L/8v/1//j/+v/7//3//v///wAABAAJAA4AEgAUABUAFAAUABUAFAARAA4ADQAMAAoABwAFAAUABQAHAAgACQALAA4AEAARABIAEgATABUAGAAaABgAFgAVABMAEAALAAcABAACAAEAAgADAAQABwAMABAAEAAOAAwACQAFAAAA+//3//T/8v/y//P/8v/x//H/8//2//v/AQAHAAwAEAATABQAEwATABUAFgAZABwAHAAZABYAEwAQAA4ADAAJAAYAAwACAAAA/P/4//X/9f/2//f/+f/7//z//v8AAAAA///+////AAD///z/+v/6//z///8CAAQABAAEAAUABgAGAAUABQAFAAMAAgACAAMABAAFAAcABwAJAA4AEwAXABkAGAAVABMAEgARAA8ADwARABMAEwAQAA4ADAALAAkABwAFAAMABAAGAAYAAQD6//X/8//z//P/8//y//D/7//u/+z/6f/p/+z/8f/z//P/9P/2//n//P/8//r/9v/2//f/+P/5//j/9//3//j/9//0//H/8P/x//L/9P/4//z///8AAP//+//2//T/9P/1//T/8v/y//P/9f/5////BQAJAAoACgAIAAUAAwADAAMAAgABAAEAAwAEAAQAAwACAAEAAAD+//r/8//s/+f/4v/d/9n/1//X/9f/1//Y/9r/3P/g/+X/6v/s/+z/7f/w//P/9v/5//v/+//7//v/+//7//3/AgAIAA4AFAAZABsAGgAYABYAEwARAA4ACwAIAAgACAAHAAUAAwACAP///P/5//j/+f/8/wEABgAIAAkACgAKAAkABwAFAAQAAgABAP///P/3//L/8P/x//P/9v/4//j/9//2//f/+v/9/wEABQAIAAgACAAJAAsADQAPABEAEgARAA8ADwAPAA4ADAALAAoACQAIAAcABQABAP3//f///wIABAAFAAQAAgD///3//P/6//r/+P/1//P/8//1//j//f8BAAMABAAFAAYABgAEAAEA/f/3//P/8v/0//X/9f/0//L/7//v//L/9//7//7/AQAFAAcACAAHAAUAAgAAAAEAAwAGAAoADwARABAADQAMAAwADQAOAA0ACgAEAAAA//8BAAIAAQAAAP///v/9//3//P/6//r//P///wAAAQADAAMAAwACAP///f/9//7//f/7//n/+P/4//r//v8BAAIAAwADAAMABAAGAAcACAAKAAsACwALAAsACgAHAAQAAwACAAIAAgAEAAYABwAHAAgACgAMAA0ADgANAAkABQADAAIAAQACAAUACQANABAAEgARAA0ACAAEAAIAAAAAAAIABQAGAAcACQAKAAkABgACAP3/+P/0//H/7v/q/+b/5P/j/+D/3P/a/9n/2//f/+L/5f/r//P/+f/8//3//f/9////AAD+//j/8v/x//T/+P/6//z//v8BAAUACAAIAAYABQAGAAYAAwAAAP//AQADAAMAAQD9//r/+P/3//X/8P/r/+r/7f/x//P/9P/1//X/9P/z//P/8//z//L/7//r/+n/7P/y//f/+f/5//f/9f/1//X/9f/z//P/9f/4//r//f///wEAAQD///r/9v/1//f/9//2//X/9f/3//r/+v/2/+//6v/p/+z/7//z//j//P/+//7//v8AAAMABgAHAAUA///5//b/9//4//r//P/+/wEABQAJAAwADAALAAsACwAKAAgABgAEAAAA/v///wIABQAGAAYAAwD+//r/+P/4//j/9//2//P/7f/n/+T/4//j/+L/4v/i/+P/5f/p/+z/7v/v//H/9P/2//f/9//2//T/8//0//X/9v/4//r//P/9//3//v/9//r/9//1//T/8//0//f/+f/5//j/9//1//b/+v/+/wIABQAGAAYABgAHAAgACAAIAAwAEQAVABUAEgAMAAYAAgAAAPz/9v/w/+3/6//p/+j/6P/p/+r/6//q/+f/5P/k/+n/7//z//X/9//5//v//P/9//z/+//7//7/AAD///v/9//0//P/9P/3//r/+//8//3//v///wEABQAJAAsADQAPABAAEAAQABEAEAANAAsADAARABcAHQAhACIAIQAhACMAJgAmACQAIQAcABYAEQANAAkABQACAAIAAgACAAEAAQAAAP3/+f/2//T/9f/4//z//f/7//n/+v/8//3/+//3//P/8P/w//P/9v/1//L/7//t/+3/7//z//f/+////wMABgAIAAoADQAPAA8ADgANAA4AEAATABUAFAARAA4ADQAOAA4ADQAMAAsACgAKAAsACwAJAAcABgAGAAYABgAGAAUAAQD8//j/9v/1//X/9f/0//H/7f/s/+3/8P/0//j//P/+/wAAAwAGAAcABwAGAAYABgAHAAkACwAMAA8AEwAXABgAGAAYABkAGAAWABQAEQANAAkABQABAPz/+v/8/wAABAAFAAUABAADAAIAAwADAAMABAAHAAoACwALAAsACwAKAAkACQALAA4AEQATABMAEQAPAA8ADwAMAAYAAQD+//7////+//z//P///wIABAAFAAQAAwACAAMAAwACAAIABAAHAAgABgAEAAQABgAIAAkACAAEAAIAAgAEAAQABAADAAIA///9//z//P/8//3///8CAAUACQAOABIAEwATABEADwAOAA0ACwAHAAQAAAD9//v//P/9//3/+//6//r/+//9//3/+v/z/+7/7f/v//H/8v/y//H/8P/v//D/8v/1//v/AwAKAA0ADgAOAA0ACwAHAAIA/P/3//X/9//6//v/+//9/wIABwALAAwACgAFAAEAAQADAAUACAAIAAcABgAGAAUAAwACAAIAAAD+//z/+f/2//b/+P/6//r/+v/9/wEABAAEAAIAAAAAAAQACQALAAkABgADAAEA/f/5//X/8v/x//L/9f/3//n//v8FAAsADAAJAAcABwAIAAgABgACAP3/+//9/wEAAwAFAAgADAAPABAADwALAAcABQAHAAoADQAOAA8ADwANAAsACQAHAAQAAQD///z/+f/2//X/9v/3//j/+f/5//f/9//6//7/AQADAAQAAwABAP///f/7//j/9v/3//j/9v/z/+//7v/w//L/8//0//X/9v/0//D/7f/r/+r/6//s/+v/6v/r//H/+f/+/wEAAwAFAAcACQALAAwACgAIAAcABwAGAAUABgAJAA0AEQAUABYAFgAWABcAGAAXABYAFQAVABMAEAAMAAcAAwABAAEAAAD8//f/8//x/+//7//w//H/8P/u/+7/8P/z//b/+f/7//n/9//3//n//P8AAAMABAADAAIAAgABAP///f/9////AQADAAQABQAGAAgADAAQABEAEAAPAAwABwACAP7//P/7//z//f/8//r/+P/5//z//v////7//f/8//3/AAACAAEA/v/6//b/8//y//T/9//6//3/AQAEAAYACQANABIAFQAXABgAGAAVABEADAAHAAIAAAABAAIAAgACAAMABQAHAAgACAAGAAIA/v/8//v/+P/2//X/9f/z//D/7v/u//D/9P/6////AQABAAEAAgADAAUABwAIAAgACAAJAAkABgACAP///f/9//7/AAAAAP7//P/7//r/9v/x/+7/7f/w//X/+P/5//r//P/9//3//f/9//3//v8AAP//+v/0//D/7v/t/+7/8f/1//v/AQAGAAkACQAIAAkACgAJAAYABAADAAIAAAD9//n/9P/y//T/9//6//z/AAAFAAoADAAMAAkABQAEAAUABgAEAAEAAAAAAAEAAgACAAIABQAKAA4AEQASABAACwAFAAAA+//2//L/8f/y//T/9v/4//v//f8AAAMABgAIAAkACgAKAAcABAABAP3/+P/1//X/9v/4//n/+v/6//j/9v/2//f/9//2//f/+P/4//j/+P/3//X/9f/4//z///8AAAEAAgABAAAA///9//r/9//1//P/8f/x//P/9v/3//b/9f/1//b/9//4//j/9v/z//D/6//l/+D/4P/i/+j/7v/y//b/+/8BAAYACgANAA4ADgAPABAAEAAOAAwADAANAAwACQAFAAIAAQACAAUABgAFAAMAAgACAAEAAAABAAIAAgACAAEA///8//n/+f/7//3/AAADAAUABgAGAAgACQAJAAgABgAEAAEAAAACAAQABAADAAIAAAD+//z/+//8//3///8BAAAA/P/3//X/9P/z//H/7v/r/+b/4v/f/97/3f/e/+H/5v/q/+7/8//4//3/AQAEAAQAAgABAAIABAAFAAYACQAMAAwACgAHAAQAAwAGAAcABgADAAAA/f/7//v//P/8//3/AQAFAAcABwAGAAYABwAJAAoACQAFAAMABAAGAAgACQAHAAYABwAJAAoADAAQABUAGAAZABgAFAAPAAoACAAGAAMA///8//r/+f/4//r//f8BAAQABgAGAAQAAgAAAP7/+v/1//H/7v/s/+z/7v/x//T/+P/9////AAABAAIABAAHAAkABwAEAAIAAgACAAMABQAHAAoADQAPABAADwAPABEAEgARAA4ACgAGAAEA+//2//L/7v/r/+r/6P/m/+X/6P/s//D/8v/z//T/9f/3//r//f/+/wAABAAJAAsADAANAA8AEgAUABQADwAJAAUAAwADAAQABQAFAAYACQAMAAwADAANABAAEwAUABQAEQANAAoACQAIAAYAAwACAAEAAAAAAAAAAAAAAAAAAgAEAAUABwALAA8AEQAQAA4ADAAJAAcABAABAAEAAgADAAIAAAD9//n/9v/0//L/8P/u/+7/7f/r/+r/6v/r/+z/7//0//j/+//8//3//v/+/wEABAAGAAkACwAMAA0ADwAPAA0ACQAGAAMAAQABAAEAAQAAAAAAAQABAP7/+//7////AwAFAAQAAAD6//X/8//x/+3/6v/q/+7/8v/0//P/8f/w//P/+P/7//z//P///wMABgAGAAUAAwACAAIAAgABAP7//f8AAAUACAAIAAgACQALAA0ADwAQAA4ADQANAA0ACgAIAAkADwAVABcAFQAPAAgAAwAAAP7/+v/2//T/9f/2//X/9P/0//b/+v/+//7/+v/1//P/8//y/+//6//m/+P/4v/k/+T/5f/n/+j/6f/q/+n/6P/o/+z/8f/1//f/+f/6//v//P/+/wEABAAHAAoADQAOABAAEwAXABoAGwAbABkAFAAOAAgAAgD+//z//f/9//z/+//7//z//f/+/wAAAAD/////AAABAAMABAAEAAIA///6//T/8f/y//X/+f/8/wAAAgACAAIAAgADAAQABAAEAAEA/f/6//v//f/+//7//v/+//3//f/+//7//v/+/wAAAgACAAAA//8AAAEAAAD+//v/+P/3//n//f///wIAAwADAAQABAACAP///v8AAAIAAwAFAAcACQAKAAsACwAJAAgACAAHAAUAAgAAAAAAAAAAAP///v/9//3//v/+//v/+f/5//r/+v/4//f/9v/3//v/AAACAAAA/v///wMABQAGAAYABwAJAAsADQANAAoABwAFAAIA+//y/+v/5//m/+j/6//t/+//8//7/wMACQALAAwADQAMAAkABQABAP////8AAP7/+v/3//j//P8AAAIABAAGAAkADQAQABEADwAMAAsACAACAPv/9v/0//X/+f/9/wAAAQACAAUABgAFAAEA+//1//L/8f/v/+7/7//0//r/AgAJAA8AEgAUABYAFQARAAwACAAEAAAA/P/5//f/9v/3//r//v///////v/8//n/9v/0//H/7v/s/+v/7P/u//L/+f8AAAQABwAJAAsADAAOABEAEwATABIAEQARABAAEAARABMAEwATABMAEgAQAA4ADQANAA0ADAALAAoACAAHAAcABgADAP///v/+//7//v/7//j/9//4//r//P/+/wAAAgAFAAkACwAJAAYABAACAP///P/6//r//P8BAAYACQAHAAQAAwAEAAYABwAIAAkACQAJAAkABwAFAAQABQAGAAQAAAD8//r/+f/6//v/+//6//n/+v/6//n/9//3//f/9v/1//P/8v/x//L/9P/1//P/8P/w//H/8v/z//b/+/8BAAcACwALAAYAAAD7//f/8v/v/+v/6f/p/+v/7P/u//P/+f///wMABQAEAAEA/v/9//3/+//3//T/8f/u/+3/7//z//f/+//9//z/+f/4//n//f8BAAQABwAIAAgACAAJAAkACAAHAAcABgAEAAMABgALAA8AEQAQAA0ACAACAP7//P/6//r/+//+/wAAAQABAAAA/v/8//r/9//y/+3/6v/p/+n/6//w//b/+////wAA///7//j/9v/2//f/+v///wQABwAIAAgABwADAP3/9//y/+7/7//1//z/AQAEAAQAAgD+//r/+v/8/wAABAAIAAoACQAHAAQAAwADAAMAAQD///7//v/8//r/+f/4//b/9P/z//P/8//0//T/8//w/+7/7//y//b/+/8AAAMABAAEAAQAAwABAAAAAgAHAAsADwASABQAFAATABEADwAMAAwADwASABIADgAJAAQAAAD//wEABgALAA8AEgATABAACgAFAAEA/f/6//n/+f/6//z//v/+//v/9v/z//L/8v/1//r///8DAAcABwAFAAIA///7//j/9f/x/+z/6P/m/+X/5P/j/+T/6P/t//L/+P/8////AwAJAA8AFAAZAB4AIQAhAB8AHAAYABQAEwAUABYAFQASAA8ACwAGAAEA/P/2/+//6f/m/+X/5f/m/+n/6//r/+v/7P/v//P/+f8AAAcACwAOABAAEQARABAAEAAOAAsABwAFAAUABgAHAAkACgAJAAcABQACAP7/+//6//r/+v/6//z//f/8//r/9//0//D/7v/u/+//7//v//D/8v/1//n/AAAHAA0AEgAXABoAHAAdAB4AHwAdABsAGQAYABcAGAAZABgAEwAMAAYAAQD9//v/+//8//z/+//7//z//P/9/wAABAAGAAUAAwABAP7/+//5//j/9v/0//P/8//z//L/8v/y//P/9f/5//7/AgAEAAYABQACAP7/+//6//r/+//+/wEABAAGAAkACgAJAAUAAQD9//r/+f/6//v/+v/4//X/8v/v/+3/7v/x//P/9P/2//f/+P/6//3/AQADAAMAAgABAP///v///wEAAgABAP///f/6//f/9v/1//T/8//0//b/+P/7//7////+//v/+f/3//b/9v/5//3/AQAFAAoADQANAAwACgAIAAUAAgABAAEAAAAAAAAAAQABAAMABwALAA0ADgALAAcABAACAAEAAgAFAAcABwAFAAMAAQD///3//f/8//n/9v/0//P/8//1//j//P///wMACQAPABQAFwAZABgAFQAQAA0ADAANABAAFAAXABcAFQARAAwABgAAAP3/+//6//r/+//8//v/+v/5//n/+f/6//3/AQADAAMAAwADAAIAAgADAAQAAwABAP///f/7//r/+//8//z//f///wEAAgADAAMAAgD+//r/9//2//n///8FAAkACwAKAAUAAAD8//r/+f/6//3/AAABAAIAAwADAAIA///8//r/+P/2//b/9v/1//X/9v/3//n//f8BAAUACQANAA8AEQATABQAEwASABEADwALAAYAAgD///v/9v/y/+//7//y//n/AAAGAAkACwALAAoACgALAAsACgAIAAYAAwD+//z/+v/6//r/+v/4//j/+v/9//////////3/+v/3//b/9v/2//f/+P/3//T/8P/t/+z/7P/u//H/9f/4//v///8BAAEAAAD///3/+//7//3///8BAAMABgAKAAwADgAQABAADwANAAwADAALAAoACQAHAAMA/v/6//f/9P/z//P/8//z//T/+P/+/wQACQANAAsABgD9//P/6//o/+j/6v/t//H/9v/6//3/AQADAAMAAQD///3/+//6//v//P/7//r/+f/4//f/9//6////BQAMABMAGgAeACEAIgAhAB0AFwARAAwACAAFAAMAAQD9//n/9v/0//H/7f/o/+P/3//e/+D/5f/q/+//8//1//X/8//y//P/9v/6////BAAHAAsAEAATABQAEwASABAADAAIAAYABgAGAAcACAAIAAUAAQD8//f/8//v/+r/5f/k/+X/6P/r/+//8v/0//b/+P/6//r/+v/9/wIACAANABEAFAAVABUAFQAUABEADgAMAAsACQAFAAEA/P/4//f/+P/5//n/+f/5//n/9//2//b/9v/1//T/9f/3//v///8EAAcABwAFAAMAAgACAAMABQAFAAMAAQD///3/+//5//n/+f/4//b/8//w/+7/7v/x//P/9P/0//X/9v/2//b/9v/0//H/7v/t/+7/7//x//P/9P/z//L/8v/z//L/8v/x//H/8//1//f/+f/7//z//P/7//v/+v/5//n/+v/7//n/9//2//f/+f/8/wEABQAGAAYABwAIAAkADAAOAA4ADgALAAYAAAD8//r/9//0//H/7//t/+7/8f/1//n//f8DAAkADAAMAAwADgARABUAGQAcABwAHAAbABgAFAAPAAkABQAEAAYABwAHAAYABgAFAAUABAAAAPr/9f/z//P/8//z//T/9f/1//T/9f/2//j//P8BAAYABwAGAAUABQAFAAYABQADAAIAAQD///z/+v/6//r/+//9//7//f/8//v/+v/1/+7/5//j/+P/6P/x//n///8CAAQABgAGAAYABwAIAAkACgALAAoACAAFAAMAAgABAP///v/9//z/+//6//f/8//v/+7/7//y//f//v8DAAQAAQD9//n/9P/w/+7/7P/q/+j/6P/p/+n/6P/n/+b/5f/l/+f/6//v//P/9//6//v/+//9/wAAAwAIAAoACgAJAAgABgAEAAUACAAKAAoACAADAP3/+P/1//T/8//0//j//f8CAAQABAADAAEAAQADAAQABAAEAAcACwAQABMAFAARAAsABAD+//n/9P/w//D/8//2//j/+P/3//X/9f/2//f/9v/z//H/8f/x//L/9P/3//n/+f/4//b/8//x//P/9v/4//n/+v/8////AQACAAEA/////wIABQAHAAkADAAPABIAFQAXABcAFgAWABcAFwATAAwABwAFAAUABwAIAAYAAgD/////AAAAAAEAAwAGAAcABwAGAAUAAwABAAAA///9//v//P/+/wAAAgAEAAQAAgAAAP7/+//4//f/+P/4//X/8P/s/+r/6f/p/+n/6f/s//H/9//+/wYADAAPABEAFAAWABUAEgANAAgAAgD9//r/+v/7//7/BAALABAAEwATABAACgAFAAIA///7//f/8v/t/+f/4//f/9z/3P/f/+X/7f/4/wIACwATABwAIgAjAB0AFAAIAP3/9P/v/+3/6//q/+v/7f/v//D/8//2//n/+//8//z/+//9/wIACAAMAA4ADwAOAAsABgAAAPz/+v/7//7/AAABAAMABwAKAAsACAADAPz/9v/0//T/9P/x/+//7//y//T/9P/z//L/8v/1//v/AQAHAA0AFQAdACAAHQAYABIADQALAAsACgAIAAcACAALAA4AEAATABUAFQATAA8ACQADAP////////7//v/9//3//v////3/+f/3//f/+P/5//v//f8AAAUACgALAAYA/v/2//D/7P/p/+j/6f/q/+3/8f/z//L/7//t/+z/6//r/+z/7v/v//H/9P/4//r/+//8//z//P/7//v/+v/5//n/+//+/wEABQAIAAgAAwD9//f/8//v/+3/7v/x//X/+f/9/wAAAAD+//z/+v/2//H/7v/u//D/9f/7/wAAAQAAAP7/+//4//b/9//5//n/+P/3//b/9v/3//n/+v/5//f/9//3//X/8f/u/+7/7//x//L/8v/x//P/9//8////AAACAAYADAATABkAHAAbABgAFwAVABIADQAJAAcABgAGAAgACQAKAAsADAAMAAgAAwAAAP7//f/8//v/+f/2//T/8//y//H/8f/1//j/+v/4//L/7f/s/+//8v/1//f/+v/+/wMACAAJAAgABwAJAAwADAAKAAgACAAJAAsADAALAAYAAgABAAMABQAGAAgACwAOABAAEQAQAA0ACgAIAAUAAQD8//n/9v/0//P/9f/4//v///8DAAcACAAIAAgABwAFAAMAAAD9//z/+//3//D/6P/h/9z/2v/c/+D/5P/p//D/9//9/wIABQAFAAIA/v/6//f/9P/y//P/9//7////AgADAAMABQAKABEAFgAZABsAGwAaABkAGgAaABgAFAAQAA0ACgAGAAMAAAD//wEABAAFAAMA///8//n/9v/y/+//6v/o/+r/7f/w//P/9P/0//X/9v/3//f/9//6//7/AQACAAMABAAEAAQAAgD+//r/+P/7////AwAGAAoADgARABIAEQAPAA0ADQAQABAACwAEAP7//P/8////AAD//////////wAAAQABAAIABAAIAAoACQAGAAUABQAGAAgACQAJAAgACQALAAwACgAHAAQAAAD5//H/6v/n/+b/5//p/+z/7v/v//H/9P/1//X/9f/3//r//v8BAAIAAQABAAEAAQD///z/+//9/wAABAAGAAYAAwACAAMABAADAP//+//4//X/9v/4//r//v8BAAMABQAGAAcABwAHAAkACwANAA4ADwAQAA8ADwAQAA8ACwAFAP7/9//y//H/9f/7/wAABAAGAAcABgADAAAA/f/7//r/+//8//3//f/+//7//P/6//j/9f/z//L/9P/2//n//P8AAAMAAwABAAAA///8//j/9f/z//P/9v/5//z//v8AAAEAAgADAAIA/v/6//n/+f/4//f/9v/4//v///8BAP//+f/y/+//8f/1//r///8DAAYACAAIAAYAAQD9//v/+v/5//n/+v/8//7/AQAEAAUAAwABAAAAAAD///7///8BAAIAAQD+//r/9//4//v//P/6//j/+P/7//7/AQACAAEA///+//7//P/3//L/8P/x//T/9//5//r/+f/4//b/8P/n/9//2//a/9z/3//k/+r/7//0//n//P/+/wAAAwAFAAQAAwADAAMAAwAEAAYABwAHAAcACQAMABAAFQAbACAAIQAeABoAFAANAAcAAgD8//T/7P/l/+H/3//e/+D/4//n/+z/8P/z//P/8v/x//H/8f/x//L/8f/v/+7/7//x//P/9P/2//j/+/8AAAcADAAOAAwACgAIAAcABwAHAAUAAQD//wAAAQABAAAA//////7//v/9//3//v8AAAIAAwAEAAIA/v/5//X/8v/u/+v/6v/r/+z/7f/v//P/9//8/wAAAQD///z//f8AAAMABgAIAAgABwAFAAMA///6//b/9f/1//T/8v/y//X/+f/+/wIAAgD+//r/+P/2//P/8f/y//b//P8BAAUABgAEAAIAAwAFAAcACAAKAA8AFQAbAB8AHgAZABQAEAAMAAcAAgD///z/+f/2//X/9v/3//f/9f/w/+j/4f/e/93/3f/e/+H/5f/q/+//9P/3//f/9f/1//b/9v/0//L/8//3//3/BAAIAAcAAgD8//b/8P/s/+v/7P/v//P/+f8AAAUACAAKAAsACgAIAAgACgAMAA8AEgAUABUAFQASAA4ACwAIAAUAAgABAAAA///////////9//r/9//z/+7/6f/m/+X/5//s//T/+/8AAAQABwAJAAgABgAEAAIAAgAGAAwAEwAXABgAFgARAAkAAgD//wEABAAGAAcACAAIAAgACAAFAAAA+//4//j/+f/5//n/+v/7////AwAEAAAA+f/z//D/7//v//H/8//0//f/+////wAA///9//r/9f/x/+//8P/x//P/9v/4//j/9//3//X/8P/p/+T/4v/k/+n/8P/4////BQALABAAEQAQAA8AEAATABcAHAAfAB8AHgAeAB0AGgAUAA4ACQAEAAAA/v/9//7/AQAFAAgABwAFAAMAAgABAP///v/8//r/+////wMABQAEAAMAAQD///3//f///wIABgAMABAAEQAPAAwABwABAPv/+f/4//f/9v/1//X/9f/3//v/AAACAAMABAAHAAoADQAPAA8ADQALAAsACwAKAAkACQAJAAsADwAWAB0AIQAhAB4AGAAQAAkABAD///v/+v/9/wEABAAFAAUABAADAAMABAAFAAQAAgABAAIABAAGAAkACwAMAAwADAALAAoACgALAAwACwAKAAoACwAMAA4ADwAPAA4ADgAQABEAEAAPAA4ADQALAAkABwAEAP//+//5//j/9//2//f/+f/5//n/+f/5//n/+f/2//L/7v/s/+v/6//s/+z/6v/p/+3/9P/7/wAABAAGAAcACAAJAAcAAQD6//X/8//z//T/9v/4//r//P8AAAQABwAJAAwADwAQABEAEAAOAA0ACwAIAAcACAALAAsACQAEAP//+//6//7/BQAKAA4AEQASABEADQAIAAMA/f/5//j/+f/6//v//P/8//r/+P/2//X/8//y//H/8f/x//H/8//0//T/8//y//H/8P/v//D/8f/y//b//f8EAAkACwAKAAYA///4//L/7f/q/+n/6P/q/+//9v/8/wEAAwACAP///P/7//z//P/9////AgAFAAkADQAPAA4ACwAKAAkABwAFAAMAAQAAAAAAAAABAAIAAgAAAP7//v///wAAAQACAAIAAQACAAYACwANAAoABQD///n/9P/x//D/7//w//T/+v///wEAAgAAAPz/+P/1//P/8P/t/+r/5//j/+H/4f/h/+H/4v/k/+X/5v/n/+r/6//q/+r/7P/w//L/8//z//P/8//2//3/BgAOABMAFwAYABYAEwAQAA0ACgAHAAYABgAFAAQAAgD///r/9P/w/+//8P/z//f/+v/9/wAABAAIAAkACAAGAAQAAQAAAAEAAQAAAAEABQALABAAFAAWABQADwAKAAYAAwAAAP3/+//5//j/+P/6//z/+//4//X/8//x//H/8//1//b/+f///wYADQASABYAFwAVABIADwAMAAcAAgD+//z//P/9/wAAAgADAAQABwAKAAwADgAQABEAEAAQABEAEwATABAACwAEAPz/9f/x/+7/7P/r/+z/7f/u/+//8P/x//H/8f/z//b/+f/7//3//P/5//b/9//5//z///8AAAAAAQACAAEA///+//7//v/+/wAAAgABAP3/+P/y/+3/6//r/+z/7P/s/+7/8f/0//j//P/+//7//f/9//7//f/8//v/+v/8/wAABAAIAAsACwAIAAUABAAEAAUABQAGAAYABQADAAAA/P/1/+7/6f/n/+j/7P/y//j//P/+/wAAAQAAAP3/+f/0/+//7P/t//D/9P/4//3/AgAGAAsAEQAVABcAFgAWABYAFgAVABIADgAIAAIA/v/8//v/+v/6//n/+f/7////AgADAAQABQAHAAgACQAKAAkABwAEAAEA///+//3/+v/3//X/9f/3//v/AgAIAA0AEAATABUAFQAUABMAEQAPABAAEwAWABYAFAAQAAwABwADAAAA/f/5//T/8P/u/+3/7f/v//H/8//2//v/AAACAAIAAQD///7/AAAFAAoADQAOAA4ADAAJAAUAAwABAP///v8AAAMABgAHAAcABQACAP////8AAAAAAAAAAAEAAwAGAAsADgAPAA4ADQALAAgABAABAP3/+f/3//j/+//9//7///////////8BAAQABQADAAAA/f/5//X/8v/w/+3/7P/v//T/+v8BAAcADAAOAA8AEAARABAADgAMAAkABwAHAAkACgAIAAUAAgAAAP////8BAAQABQAGAAgACQAIAAYAAwD///r/+P/5//z//f/9//3//P/7//v//P/9//z/+//7//v/+//7//v/+v/4//b/9v/3//b/9P/y//H/8f/z//j///8EAAcACQAKAAoACQAIAAcABQADAAMAAwACAAAA/f/6//f/9v/6////AwAFAAYABQACAP7//P/6//j/9f/0//b/+f/7//3//v/+////AgAFAAgACgALAAoACAAIAAsADgAQABEAEgATABMAEgARAA4ACgAGAAUABQAGAAcACAAJAAkACQALAA4AEAARABIAEgASABMAFQAXABYAFQAUABQAEwATABQAFgAXABkAHQAjACcAKwArACgAJQAhAB0AGQAXABUAEwATABYAHAAiACcALAAuAC4ALAAqACgAIwAeABoAFwAVABMAEgAPAAoABAAAAP3//P/7//v/+f/2//L/8P/u/+z/6//r/+3/8//7/wIACAAMAA0ADAAKAAoACwAKAAgABQABAPz/+P/2//T/8v/x//L/9P/3//n/+v/6//j/9v/2//b/9v/1//T/8f/u/+z/7v/x//T/9v/5//v//P/9//7//v/9//3/AAAGAAsADwAQAA4ACAADAP7/+//6//n/+P/4//n/+//7//n/9f/v/+j/4//h/+D/3v/c/9v/2v/Z/9j/2P/Y/9X/0f/O/8z/y//L/87/0//X/9v/4f/p/+//8//0//T/8v/x//H/8f/w/+3/6//q/+r/7P/u/+//7f/q/+j/6P/p/+7/8v/1//f/+f/6//v//P/7//f/8//w/+//7v/t/+3/7f/u//D/9P/4//r/+v/6//j/9f/z//L/8f/v/+7/7v/w//L/9P/2//b/9f/1//n/AAAHAAwADwAPAAwACQAGAAMA///7//n/9//1//L/7v/o/9//2P/W/9j/3P/h/+X/6P/s//L/+P/9/wEAAwADAAQABwAJAAkACAAHAAcABgAGAAcACQALAAwADQAMAAsACwAPABMAFQAVABMADwAKAAUAAgD///z/+v/7//3/AAABAP7/+P/z//L/9P/5//7/AAD+//3//v8BAAIAAQD///7//v8AAAUACgAPABQAGQAcABsAFwAUABEADQAIAAEA+v/0//L/8//1//X/9f/1//X/9P/z//L/8v/y//T/+f/+/wEAAQAAAAAAAAABAAIAAgD///3//v8DAAkADgATABcAGgAcAB0AGgAVAA8ACgAHAAYABQACAP//AAAEAAgACwALAAoACAAGAAYABQADAAEAAQABAAEAAgAEAAYABwAIAAgABwAEAAEAAAAAAP///f/8//3//v8BAAUABwAHAAcACAAJAAkACAAGAAQAAgABAAMABQADAP7/+P/0//L/8f/y//T/9//7////AQD///3//v8BAAQABQAEAAEA/////wIABQAGAAYACAALAAwACgAIAAgACAAJAAoACgAJAAkACQAHAAEA+v/0/+//7P/t//L/+P/+/wIABQAFAAMAAQD///3/+//7//7////7//T/7v/t//H/9//8//3//f///wEAAQAAAP7//P/9//7//P/1/+//8P/3/wAABQAGAAQABAAJABEAFQARAAcA+v/v/+n/6P/s/+//7//t/+3/7v/v//D/8f/1//3/CgAXABwAHAAZABgAGgAdAB0AFwAPAAkABwAFAAMAAAD+////BAAOABgAHgAhACIAIgAiACEAHwAaABEACQAEAAAA+//z/+v/5v/n/+3/9f/6//r/+f/7////AgAEAAUABQADAP///P/7//z///8DAAMA///8//7/AwAGAAMA/f/4//f//f8FAAoABgD8//T/9P/8/wYADAAKAAIA/P/7//r/+P/y/+v/6v/0/wIACwAJAAAA+P/1//j//f8AAP///v///wEABAAHAAsADgAQABEAEQAOAAcAAAD8//3///////n/7//m/+f/8P/4//b/7f/n/+v/9f///wQABQAIAA4AFQAVAA4ACQAJAA8AFAASAAoABQAGAAgABQD+//z/AgANABQAEAAEAPj/9P/4//3//v/9/wAABgAKAAcAAAD5//f/+/8BAAUABAACAAAA/v/5//T/9P/7/wQACAAEAPf/6f/j/+n/9v8BAAUABAAEAAkAEwAZABQAAwDy/+z/8//8////+//4//7/DgAdACEAGAAJAP3/+v8AAAkADQALAAUA/v/5//v/BQAQABUAEAAFAPv/9//5//v/+f/z/+//8P/z//L/6//h/9n/2f/k//X/AwAGAAAA+P/1//j//P/+//v/+P/7/wMACQAKAAoAEAAcACYAJgAbAA0ACAAPABwAIwAiAB0AGwAaABcAEQALAAYAAgD///z/+f/8/wMABgACAPr/9//7/wEAAAD3/+7/8v8BAA4ADAD+//L/8f/5/wAAAAD7//b/8//w/+j/4//p//f/AQD9/+z/2//Y/+L/6v/l/9n/1v/g/+3/8f/r/+j/9P8IABEAAADh/9H/5/8ZAEgAWABIACkAEAAEAP7/9v/s/+n/8v8BAA0AEAAMAAUAAAD//wQADAAVAB0AIAAcABEABAD5//L/8v/5/wQADQAPAAoABAD+//n/9P/z//n/BAARABgAFwAPAAgABgAGAAMA/f/2//P/9f/5//3/AAADAAgADQAMAAQA+//2//f/+f/7//7/AwAIAAoABwAAAPn/+P/9/wMAAwD8//T/7//u//D/8//1//f/+/8AAAQABwALABMAHAAeABkAEAAJAAgADAAPAAwABAD//wEABgAJAAkACQALAA4ADQAGAPv/9f/5/wUADQAJAP7/9f/z//f//P8AAAMABgAGAAEA9//u/+7/+v8GAAgAAQD5//j/+//7//X/7//w//r/BgAKAAUA//8AAAUABwAFAAcAEAAXAAgA2v+d/3j/i//O/xcAOAAlAPn/2P/W/+3/CQAZABoAEwAKAAIA/f8CABAAHgAhABMA/f/w//T/AgALAAcA/f/2//n/BAATAB8AJQAmACEAFQAHAP3/+//9//z/+P/1//b//P8FAAsADAAIAAQAAwADAAEA///9//v/9v/y//L/+f8CAAgABQD7//L/9P8AAA4AEgANAAYABAAJABAAEQAIAPv/8f/u/+7/6//m/+L/4v/m/+z/8v/1//f/+/8CAAgACgAIAAUAAwAEAAcACgAMAA4AEQAVABYAEQAHAPz/9P/w//L/9v/4//X/7//p/+b/5v/r//H/9P/w/+n/5P/j/+f/7f/z//f/+f/9/wQADAAQAA8ACwAGAAEA/v/9//7///8CAAUABQABAPz/+f/4//n/+f/3//H/6f/k/+T/6P/q/+r/6f/o/+j/6//w//f//f8DAAcABQD8/+//5f/j/+f/7P/u/+v/5f/k/+r/9P/7//z/+v/3//b/+v8BAAkADQAPABAAEAAQAA8ADQAJAAMA/v///wQACQAJAAUAAAD9////BAAGAAMA/v/7//v//P/9//3/+//4//j//P8BAAQABAABAP3/+P/2//j//P///wAA///7//P/6//m/+b/6v/v//P/8//x//H/9/8BAAkADgAQABAADgALAAcAAAD7//n/+P/5//7/BgANABEAEAALAAQAAAABAAMAAgD9//j/9v/1//T/8f/t/+n/6f/t//H/9P/3//r//f/9//v//P8AAAYADAAOAAwACAAEAAIAAQACAAcAEgAbABwAFQALAAQABQAMABEADwAKAAUAAwADAAAA+f/w/+r/6v/r/+f/3v/V/9H/0v/Y/9//5f/q/+//8//0//L/8P/w//H/8f/w//L/9v/6//7/AQAFAAsAEQAUABAABAD3//L/9v/9/wIAAwACAAIABQAHAAYAAwACAAYACwAJAAAA9v/y//j/BAAQABQADwAGAAAA/v/+/wAAAwAIAAwADwANAAUA/P/2//P/8//y/+z/4f/X/9P/1f/Z/9z/3f/e/+H/5//t//H/8v/2////CAAMAAgAAgAAAAYAEQAbAB4AGAARAA4AEAASABQAGAAfACYAKQAmACEAIAAnADIANwAvABwACAD6//T/8//0//T/9P/1//b/9f/y/+//8P/y//L/8P/u/+7/8f/1//n/+//6//n/+P/3//f/+f8AAAgADQAPAA8AEQAUABcAFwAUAA4ACQAGAAUAAwACAAQABwAKAAoACAAEAAEAAQAEAAYABQABAP3/+P/z//H/8//4//7/AAD8//f/9v/8/wQACQAJAAUAAQAAAAQACAAKAAoACwALAAcA///2//D/8P/2////BQAFAAMAAgACAAIA///6//L/7P/p/+j/6f/s//D/9P/4//z//f/7//f/9v/5////BgAOABYAHAAfAB8AHAAWABEADgAKAAMA+//0//L/9f/9/wMABAABAPz/9//z//L/8v/y//T/+P/7//v/+f/3//j/+////wEAAAD7//f/9v/4//z/AAADAAQAAgD/////AQADAAQAAwABAP7//v///wAAAgAFAAcACQAKAAkABgAEAAQABgAHAAYABAACAAEABAAKABEAFQAXABcAFQASABEAEgATABIADwAMAAoACAAHAAYAAwAAAP//AAABAAAA/v/+///////9//r/9f/x/+//8f/0//b/+P/6//v/+v/6//z/AQAFAAYABQACAAAAAAADAAcACQAKAAwADQAOAA0ACwAKAA0AEgAWABYAFAAPAAkABAAAAP3/+f/1//P/8P/s/+j/5v/k/+L/4P/h/+b/7f/0//n/+v/5//j/+v/7//r/+f/6//7/AwAHAAoACgAIAAcACQALAAwADAANAA8ADwAOAA0ADAAKAAcAAgD7//T/7//u//D/8v/1//r//f/6/+7/3f/L/77/u//D/9T/6v8EACAAOgBMAFQAUwBLAD4ALwAhABcAEQARABUAGgAcABwAGgAUAAoA/f/y/+v/6f/s//P//P8EAA0AFgAbABgADQABAPf/8v/y//b//P8BAAQABgAFAAAA+//4//n/+//+/wIABQAGAAQAAAD6//T/8f/y//X/9//5//z/AAAFAAcAAwD9//n/9//2//P/8P/t/+z/7f/w//H/7//r/+j/5P/f/9z/3f/h/+b/6//v//H/8//0//X/9v/2//j//f8EAAgACQAHAAQAAAD7//b/8f/t/+7/8//5//z/+//4//T/8P/t/+3/7v/v/+//7//t/+v/6v/r/+z/6v/n/+X/5f/n/+r/8P/2//z/AgAHAAgABAD+//v/+v/6//r/+f/4//f/9//5//v//f/+//7//f/9//7///8AAAEAAAD8//j/9//5//z/AAAFAAkADAAOAA8ADgALAAkACgAMAAsABgAAAPv/9//2//b/9f/y/+7/6//p/+j/6f/t//L/9f/3//j/+v/8//3//v///wAAAQADAAMAAAD8//v//P///wIABQAGAAcACQANABAAEQAQABEAFAAYABwAIAAiACAAGwATAAoAAAD4//P/8v/z//b//P8CAAUABAAAAPv/9f/v/+r/4//e/93/4P/o//T/AgANABQAGAAYABUAEAAMAAoACQALAA4AEQARAA8ADAAIAAQAAQD///v/9f/w/+3/7v/w//T/+f/9/wIACAAQABgAHAAcABoAFQARAA4ACwAKAAsADQAPABAAEQARABAAEQAUABgAHAAeAB8AHQAaABoAHQAiACUAJAAhABsAFQAQAA4ADAAKAAcABQAEAAIA///+//3//f/+/wEABQAIAAkACgAJAAcABQADAAEA/////wIABwAJAAkABwADAP///f///wIABQAGAAcABgAEAAMAAwAEAAQAAwADAAQABAAEAAMAAQD+//3//v////7//P/8//7/AAACAAQABQAEAAQABQAFAAMA///9//3//v8BAAQABgAEAP7/+P/y/+7/7f/u//D/8f/z//b/+f/5//f/8//v/+v/6P/n/+X/4v/h/+L/5f/n/+j/6v/u//L/+P/+/wIAAwABAP7/+//4//f/+f/8//z/+//7//3/AAAEAAcACAAGAAQAAwACAAAA/v/+/wAAAQAAAP7/+//3//T/9P/1//T/8//y//P/9P/2//r///8CAAMAAgABAAEAAgAEAAMA/v/3//L/7//t/+7/8v/4////BQAJAAgAAgD8//j/9v/0//L/8v/0//f/+v/+/wIABAAFAAYABgAFAAYACgAOABAAEAARABIAEwASAA4ACAAAAPv/+f/4//f/9//6//7/AgAGAAkACQAHAAMAAAD9//r/+f/6//r/+P/1//P/8//z//P/9P/2//j/+v/8//z/+f/2//b/+f/7//v/+P/z/+3/6f/n/+b/5f/l/+n/7//1//z/AwAIAAkABgAAAPj/8v/w//P/9//8/wIACgAQABIAEQAQAA8ADgALAAcAAgD+////BQAMAA8ADgAMAAkABQABAP////8CAAcACwAMAAwACwAKAAoADAAOABAAEwAVABUAEAAJAAQAAAD8//f/8v/v/+//9P/7////AAD///3//f8BAAUACAALAA8AEgATABIAEgAUABYAGAAaABoAGAAUABAACwAFAAEAAQACAAIA/v/5//X/9P/1//f/+P/3//f/+f/9/wAAAgADAAIAAAD+//3//f/8//v/+//7//v/+//9/wAAAgAFAAkADAAOAA8AEAARABEAEAAOAAgA///3//H/7f/p/+T/4P/d/9r/1//W/9X/1f/W/9n/3f/f/+D/4v/k/+X/5v/o/+3/9P/8/wQACgAMAAwADAAMAAkAAwD9//n/9v/0//H/7f/p/+n/7f/y//b/+v/+/wEAAwAEAAUAAwD///n/9f/y//L/9f/7////AgACAAEAAQADAAQAAwABAAAA///+//v/9v/t/+P/3P/a/9v/3//l/+7/+f8DAAwAEwAYABoAGgAaABoAGQAZABoAGQAVAA4ABwD+//T/7P/o/+n/7P/w//T/9f/z/+//7f/s/+v/6f/o/+n/6v/t//P/+/8EAAwAEgATAA4ABQD7//L/6v/l/+T/5//r//H/+P/+/wIABQAHAAYAAgD9//r/+P/3//f/9v/z/+7/6//s/+//8v/z//T/9v/4//v///8BAAIAAgAFAAkADgASABcAHAAiACkAMAA0ADIAKgAgABUACgABAPv/9v/x/+z/6P/m/+b/6f/u//P/9//8/wQADQAUABoAHgAgACAAHwAeABwAFwASAA8ADAAHAAAA+v/3//f/+/8BAAUABQADAAAA/P/5//j//P8EAAsADwAQAA8ADgAOABAAEgASABAADgALAAYAAQD8//n/9v/1//X/9P/z//P/9f/2//j/+v/8/wEACQATABsAHgAdABkAEgAMAAgABwAGAAUABgAIAAwAEAATABIADgAKAAkACQAJAAoACwAMAA0ADQANAAoABQAAAP7//f/7//r/+v/7//v/+//7//v/+P/z/+7/6v/p/+7/9f/9/wMABQACAP3/+v/4//b/9f/1//b/+f/+/wUADAARABYAGgAdAB4AHgAdABoAFAAPAAwACwALAAwADgAOAAsABgD+//T/7P/n/+b/6v/x//f/+////wIABAAEAAQABwAMABEAFQAYABoAGQAXABQAEAAKAAYABQAFAAUABgAJAA0AEAARAA8ACgAGAAcADAASABQAEgAQAA8ADQAKAAUA/v/5//j/+v/5//T/7v/r/+3/8P/z//b/+P/6//3/AQADAAQABAAGAAgACQAJAAwAEAAUABUAEgAKAAAA+v/5//r/+//7//7/BAALABIAFgAXABMADgAKAAcABgAGAAYABQABAPv/9P/t/+f/5P/l/+n/7f/w//P/9f/1//X/9v/3//f/9//6////BgAOABcAHQAgAB8AHQAbABgAFgAUABAACwAGAAAA/P/6//r/+//9/wEAAwACAP3/+P/z//D/7v/s/+r/6P/p/+//9f/3//X/8P/s/+r/7P/x//X/+v8AAAUACgAOABAAEQASABMAEwASABMAFgAZABkAGAAXABYAFQAVABMADwAHAAAA+//3//L/7f/q/+n/6//w//f//f8AAP///f/7//n/+P/5//v/+//7//z//f/+////AAABAAIABAAFAAMA/v/7//v//f/+//3/+//3//P/8v/0//b/9//5//n/9//z/+//7P/t//L/9//6//r/+f/2//D/6v/l/+D/3P/a/9v/3f/g/+X/6v/t/+v/5//m/+j/7P/w//L/8v/1//r/AQAJABAAFQAWABUAEwAQAAwACgAKAAkABwAFAAUABgAGAAYABQABAPr/8//s/+X/3f/X/9b/2f/e/+T/6f/r/+v/7P/v//P/9v/3//f/+P/6//3/AAACAAEA/v/8//v/+v/4//f/9f/0//X/+P/7//v/+f/2//H/6//m/+T/5P/l/+j/6//s/+7/8P/y//T/9v/4//n/+//9//3/+//4//X/8v/t/+f/5P/j/+P/4v/g/97/3v/i/+r/8v/3//n/+//+/wEAAwADAAAA/P/7//z//v/+//3//v////3/+f/0//H/8P/w//D/7f/o/+X/5f/n/+f/5f/k/+X/5//o/+j/5//m/+n/8P/3//n/9//0//T/9//8/wEABAADAAEAAAD+//z/+//9////AwAGAAkADAARABQAFAARAA0ACAADAAEAAQAAAP3/+//8////AwAGAAkACwALAAoACQAIAAcACAALAA8AEQARABEAEgATABMAEgANAAYA///9//7/AQAHAA8AGQAhACUAJAAeABUADgALAAsACgAJAAgACAAIAAkACAAFAAMAAwACAAAA/f/6//j/+v///wUACQAOABQAGgAcABkAEwAOAAwADQAQABAADQAJAAkACwANAA0ACwAIAAQAAQAAAP///v/+/wEABgAMABMAGgAeACAAHwAcABoAGgAaABkAFgATAA8ACQAEAAEAAgAEAAUABQAEAAIAAgAEAAYABwAJAAwADwASABQAFwAaABwAHgAeABwAFwATABIAEwAUABQAFQAWABYAFgAVABIADgAMAAsACgAGAAMABAAIAA0AEAAQAA4ACwAKAAsADAAKAAgABgAGAAoAEAAWABwAIwAoACkAJgAjACEAIAAeABsAFgAPAAkABwAHAAQA/v/3//L/8P/x//L/8v/x//L/9//9/wMABwAKAAoACQAIAAcABQABAAAAAwAJAA0ADQAKAAQA/P/0/+3/5//k/+T/6P/t/+//7//v//H/9P/4//z//v/+//7/AAAAAP///v/9////AwAFAAIA/P/2//L/7v/r/+n/5//n/+n/7f/v//D/8v/3//z//P/4//P/8P/x//X/+v/+//////8AAAEA///6//b/9P/0//f//P8BAAYACgAMAAoABQACAAEAAQABAP3/8//n/9//2//a/9r/3P/f/+T/6//y//f/+f/6//v/+//5//b/8//x//L/+P8BAAgACwALAAkABQABAP//AAABAAAA///+//3/+v/3//b/9v/3//n/+//8//3//f/7//n/9//4//v/AgAKAA8ADQAFAPr/7v/k/93/2//e/+P/6//0//z/AQADAAMAAQD8//b/8//x//L/9P/1//b/9//3//b/9v/0//H/7//t/+v/6f/q/+v/7P/t//D/9v/8/wIABgAHAAMA/P/2//H/7P/o/+b/5v/o/+3/8v/0//L/7//t/+3/7v/w//X//P8CAAcACwAMAAsACAAGAAUABwANABQAGwAfAB8AHAAZABkAGgAZABUAEQANAAkABAD///v/9//0//P/8//0//j/AAAIAA4ADwANAAgAAwAAAP7//P/4//b/9v/4//n/+P/3//f/9//5//3/AgAGAAgACAADAPr/8f/r/+v/7v/0//r//v/+//z/+f/1//L/8//3//z///8AAP///P/3//P/8v/z//T/9f/2//f/9v/2//f/9//0/+//6//o/+f/5//o/+j/6P/p/+7/9P/4//r//P/+/wEABgAMABAAEgASABEADwAMAAsADAANAAwACAADAP3/9v/w/+3/6//q/+v/7f/w//H/8f/x//H/8f/z//j//f8AAAIAAwACAAAA/f/8//v/+f/3//b/9f/1//b/+f/9/wAAAQABAAAA///+//7//f/7//r/+v/6//r/+/8AAAcAEAAZACIAJwAoACcAJQAgABgAEAAKAAUAAAD8//n/+P/5//z/AAADAAUACgAQABYAGgAaABcAFQAYAB4AIwAlACQAHwAYABEACgAEAP7//P/+/wIABwAMABIAFgAXABYAEwAPAAoABwAHAAcABwAIAAoADAAPABEAEAAPAA4ACwAGAAEA/v///wIABwAOABUAGQAbABoAFgAPAAYA/v/3//H/7//x//f///8IABEAGAAaABgAFQARAAwACQAJAAsADgARABUAGQAcAB0AHgAdABwAHAAeACEAJAAnACwAMQA0ADYANwA1AC8AJwAdABMACQADAAEAAgAFAAkAEAAXABwAHQAcABkAFAAQAA0ADAALAAwADgAQABAADwAMAAYA/f/0/+z/5v/i/+L/5f/p/+3/8v/4//3/AAACAAMAAwACAAAA///+//3//f/+/////v/7//b/7//l/9v/0//N/8r/zP/S/9v/5P/t//b/+//+//7/+v/1//D/7f/r/+v/7v/x//T/9f/1//T/8P/r/+b/4f/c/9r/2//f/+T/6v/w//X/9v/0//D/6f/g/9b/zv/J/8b/x//L/9H/1v/a/93/3f/b/9j/1v/W/9b/2f/f/+b/7f/z//j/+v/4//P/7f/m/9//2v/Z/9v/4P/n//D/+v8CAAgACwALAAYA///3/+//5//i/+D/4P/g/+D/4P/f/9r/0//L/8P/u/+2/7X/t/+7/8L/y//T/9n/3P/e/93/2v/W/9T/0v/R/9P/2f/h/+r/9f8DABIAIQAvAD0ASQBTAFwAZABrAHAAdQB6AHwAewB2AG8AZgBaAE4ARAA9ADkAOgBAAEgAUABXAFsAWgBTAEkAPQAwACMAGQATABEAEAARABMAEgARAA4ACAACAP3/+P/z/+7/6v/m/+H/3f/a/9n/2f/b/+D/5v/r//D/9P/3//f/9v/2//j//P8CAAsAEwAcACMAJgAlACMAHwAbABgAGQAdACMAKQAvADQANQAzAC8AKQAiABwAGQAYABgAGAAZABgAFQAPAAgAAAD3/+//6P/i/9v/1f/Q/8z/yf/H/8j/zP/S/9v/5v/w//j///8EAAUAAwD///v/9//z/+//7f/s/+r/6v/s/+//8v/0//f/+f/5//b/8v/u/+r/5//o/+z/8f/3//3/AAD///n/8f/m/9r/0v/Q/9b/4v/z/wcAGgAnACwAKgAgABAA///x/+j/4//k/+n/8P/1//X/8f/n/9n/yv++/7b/sf+w/7P/uP+7/7z/uv+2/6//p/+f/5j/kP+K/4X/gv+A/4H/iP+U/6T/uP/P/+f/+/8JABAADQABAPD/3//S/8r/y//W/+r/BAAjAEgAcgCfAM0A/QAtAVsBhgGpAb8BwwG0AZQBZAEnAeMAogBqAD8AJQAbAB4ALABBAFkAbgB6AH0AeQBuAFoAPwAgAAAA4f/D/6X/hv9l/0T/Jf8H/+j+yv6z/qX+oP6k/rP+yv7n/gf/JP85/0L/P/8x/xv/Af/q/t3+3P7j/vD+Af8V/yn/PP9K/1H/Uv9R/1D/UP9Q/1P/Wf9g/2T/Z/9s/3f/iv+j/8D/3P/4/xQAMABHAFUAXwBqAHcAhQCRAJ0ArQDCANsA9wAWATwBcAG2AQ0CbgLVAjgDiAO3A7sDkwNDA9ACQQKiAQEBbQD3/6X/dv9i/2D/Z/9r/2L/TP8w/xX/AP/z/u3+8/4J/zH/Yv+Q/7H/yP/X/9v/yv+k/3X/T/88/zn/Pf9C/0v/W/9s/2//WP8r//j+yv6i/n7+ZP5d/nP+p/7s/jH/bv+h/8r/4v/o/+P/4f/o//P/+v/7//3/BgAXACcAKQAaAP//4v/H/7D/nf+Q/4T/df9l/1v/Xv9x/5D/sv/S//P/GQA/AFsAZwBrAHAAdwB6AHIAZABbAFwAZQBqAGQAWgBbAHAAmgDWACgBkQEGAnMCygILAzwDXANfAzQD1wJfAuQBcQEEAZkAOADt/77/oP+A/1n/N/8n/yX/Hv8I/+/+5f7y/gv/HP8c/xr/I/82/0f/S/9E/zv/M/8o/xf/Cf8Q/zX/Zv+K/5H/gv9s/1f/Qv8l//7+0f6p/or+df5o/mP+aP5z/oT+nf6+/t/++P4G/xP/Jv8//1T/W/9b/2f/j//H//L/+f/k/8v/v/+9/7n/s/+1/8n/5////wgAEQAuAGAAjACWAIEAZwBfAGkAdAB2AHcAiACpAMgA0ADCALcAxADoABYBTAGXAQQChwIDA1kDgAODA28DRwMDA6QCNwLLAWUBBwG4AIEAYwBSADoADwDV/5z/bf9C/w//1v6n/o3+if6R/pz+qf6+/tr+8v77/vf+7/7r/vD+//4W/y//Pf85/yv/Jf81/1L/Yf9H/wn/xv6b/or+ff5l/kX+Lf4l/ib+JP4h/in+Q/5h/nD+b/56/qr+9/5A/2b/bP9y/5L/w//s/wEAEwA3AG0AnACuAKYAoAC0ANoA9gD3AOgA4wDzAAoBGAEaAR4BMgFTAXMBgQF7AWkBVQFHAUYBXAGPAdoBMQKMAuoCSAOeA+EDBwQNBPYDygONA0ID8QKhAlUCBwK0AWQBHwHjAKEATwD1/6f/b/9D/wv/uf5j/if+Ff4c/iD+Fv4P/iX+Wv6R/qn+nP6E/n7+lP67/uH+9/78/vb+7/7x/gP/Hv8q/wv/v/5o/jb+P/5u/pP+iv5P/gH+x/25/dj9F/5h/p7+tf6d/mP+I/75/ff9Iv5w/sz+GP8+/z3/L/8+/4b/+/9uALMAvwCrAJ8ArADCAMcAtgCmALYA8wBIAYgBiwFPAfkAvACtALoAvgCrAJYApADgACQBOgEQAdAAvgD0AEkBeQFmATMBIwFWAawB7AH7AfUBBwI7Am8CfAJZAh8C6gG9AYQBNAHdAJoAcgBPABcAy/+F/1//Xv9t/3T/af9X/0z/S/9J/zj/G//9/vD+/P4W/yb/Gv/3/tj+2/4H/zz/R/8P/6z+Uv4o/iX+Iv7+/cD9j/2J/aj9zP3a/dL9x/3L/eH9/f0Y/jX+VP5q/mz+Y/5t/qr+Hv+p/xoATwBQAEEASABtAJ0AwgDWAOwAGQFgAaUBwQGjAWcBRQFhAa4B8AHsAZsBMgH9AB8BewHYAQ4CIgInAiICAAKuAT4B4gDNAP8ASwF9AYIBbwFrAYYBtQHlARACNgJQAk0CKQL3AdoB5QEHAhYC9AGuAW8BUwFNATMB7gCPAEMAJgAsAC8AEQDV/5n/c/9g/0z/Mf8Z/xL/Hv8t/yP/9f6r/lv+Hv4E/g/+Lv5J/lH+Sv5D/kX+R/40/gD+vv2W/aX92f3//er9nv1S/Ub9lf0g/qj+/v4e/yf/O/9r/7H/9P8cACIAGQAmAGIAwAASASMB5AB9ADIAKQBNAGIARAADANT/3/8eAGgAlwCvAMQA4wD+AAAB5QDBAK0AqwCjAIEATgAtADgAagCgALkAqwCMAIAAmwDZACIBXwGBAYQBbQFBAQcBxQCMAG4AdACLAI8AaQAvAB4AcAAoAf0BiAKSAjkC0wGgAZ0BmAFqAR8B5wDhAPQA7gC0AF0AFwD+/wIA/v/d/7D/kf+E/3X/Tf8P/9T+uf7E/uH+8P7X/pL+M/7d/bT9zv0e/nn+sv66/qD+f/5f/jP+7f2U/Uf9Kf1B/X39yP0d/oT++P5h/6L/qv9+/zP/3v6T/mT+Zf6g/gT/bP+0/9L/1P/G/6n/ef9E/yb/O/+D/97/KABSAG0AjQC5AO0ALwGKAfkBUwJeAv0BWQHTAMAAJgG1AQ0CBwLPAa0BxwEDAicCEgLbAbYBwgHqAfgBxAFYAewAwgDyAFkBswHPAbkBqgHQASACXAJMAvYBpQGrARMCkALBAoUCGALVAeIBCwL1AXgBxAA6ABYAQABrAGMALwD///H/9f/b/4X/BP+Q/lj+X/56/nX+Nf7K/Wn9Rv1y/cb9CP4N/t39qv2i/cb98f3//e392v3i/QH+Ff4A/sj9lP2D/Zf9uP3Z/QL+RP6c/u/+H/8j/w//A/8O/yv/Uf+E/8r/HQBnAJMAmgCMAIEAiQCkAMMA1gDVAMAAoACHAIQAlgCnAKYAnwC4AA0BjAHvAfABgwHoAH8AfgDIABABIwEPAQoBOwGWAekBDAL9AdYBqAFvASgB5QDKAPEATgG1AfcB/wHgAcEBwwHlAQ8CJQIaAv4B7wEEAjICTQIpAsABOAHHAIUAYQA1AO3/lv9P/x//7/6o/lH+EP4B/hr+Lf4T/tD9iP1T/Sj97vyi/Gj8cPzH/EP9of27/aX9kP2b/bv9zv2+/Zf9ev2J/c79PP64/ib/b/+F/2X/H//L/of+b/6c/hH/rv80AGQAJwCg/x3/4v7//k3/lv+9/8P/t/+i/4j/bv9n/4X/yP8bAGUAmACuAKQAfwBRAEIAeQD+AKQBIwJOAjQCEQIUAjgCVAJCAgkC0AG+AdgBCAI4AmYCmgLSAgADHwM+A3UDzwM5BI0ErASVBGEEJwTsA6cDTgPgAmIC4gFxASAB9ADgAM0AogBSAOH/Yf/f/mz+Hf4D/hz+Uf58/oX+bv5L/iX+7v2X/TL98vz//Ev9mv2w/Y79ef27/Vr+Cf9o/1r/Fv/x/gr/NP8j/7n+Jv7G/dP9PP64/gT/Dv/w/tT+zf7U/tn+3f4A/2D///+tABgBBwGHAO3/nf/G/0kA0wAjATABHQEJAewArwBVAA8AFQB2AAUBdAGPAVgBAQG9AKoAzAAbAYMB4AEIAuYBiwEoAfUADQFnAeIBYQLSAiwDagOUA8MDDQRvBMgE7QTIBGgE8gOBAxADiQLkATgBpwBCAP7/wf90/wv/jf4D/oH9IP30/Pv8Gv00/Tz9O/1F/WL9g/2W/Zb9k/2j/cz9B/5O/qD+9f45/0//Kv/W/nb+Jf7o/a/9cv0+/ST9If0c/QD9z/yj/JL8lvyS/G/8OPwW/C/8ifwJ/Y39/f1P/oL+n/66/uf+Mv+T//P/RQCQAOgASgGNAYABEgFwAOf/uP/u/2UA5wBQAZUBtQGqAXcBMAH0AN0A8AAYATsBSgFHAUABRwFiAY8BwgHqAQACFAJKAr8CcQNBBA0FwwVgBtwGFwfrBkoGXAVsBLIDMgPFAkkCvAEuAaMABgBA/13+kf0S/en87Pzl/Mr8vvzx/G39D/6f/vj+G/8i/yL/I/8s/0v/i//r/1AAjAB5AA8AaP+w/g/+kv0p/bf8Mfyz+2n7bPui+9L70fuo+4j7n/vk+yT8NPwj/DL8lfxE/QD+if7T/gv/ZP/p/3EAzgDxAPEA8AD+ABgBLQErAQgBxgBzAC4AFwA/AI8A2wD8AO4AywC1ALoA0QDwABkBWAGtAQsCZAK1AgoDdwMGBLIEagUZBq4GGgdMBzwH6AZXBpEFpgSyA9QCGQJ5AdgAKAB//wb/zv63/n3+8/0s/XT8HfxA/LX8Pf24/S3+r/49/8P/MQCIANYAHAFCASsB1QBfAPX/q/95/0X//v6c/ib+of0S/Yn8HPzX+7n7tvvI++/7MPyH/OH8Jv1K/VP9Vv1o/Zb95/1S/sT+J/92/7//FAB4ANIA/wDxAMIAowCrAMIAugB2AAsAsP+M/53/xP/r/xcAVQChAOIA/gD1AN0AzgDFALAAkgCYAAEB7gFEA7QE6gW1BhUHJgcAB6kGGAZJBUoENgMyAlkBrQAZAID/2f4z/qf9Pv3r/J78Wfw5/GL82/yG/TX+z/5V/9H/OgB7AIsAgwCQANIAOQGQAaQBbAEAAYEA+v9k/7j++v0//aH8MPzw+9z76vsO/Dz8cfyy/AD9TP2B/Zb9l/2e/bz97f0e/kn+fv7a/mD/7v9QAHAAYgBSAFkAcAB9AHEAVwBFAEAANAAIALf/WP8H/9j+0v73/kb/vf9LANQAOAFqAXoBjAHMAV4CVQOsBEAG4AdXCXYKEAv8CigKpAi0BrME6QJtASgAAP/2/Sf9pfxY/AP8e/vS+lH6Qfq2+o/7lvyt/dL+CwBEAVQCFgOGA7YDtgOHAyIDiwLaAS8BoAAoAK3/FP9R/mz9efyL+7L68/lT+eD4u/gD+b35xvre+8r8cf3i/Tz+kv7g/hr/Q/9o/5L/uP/J/77/oP99/1//Rf8t/yH/Lf9S/3n/hv9w/0H/C//R/ov+OP7s/c79+P1h/uD+UP+r/wMAYwDAAAUBLgFdAc0BsgIXBNkFugd5CdoKrAvNCzIL5QkKCNgFiANUAW3/8/3z/GX8N/xK/HP8gPxQ/Or7gPtX+6b7c/yb/fH+VwC7AQED/AOABHoEAARBA2gChgGbAK//1/4n/pz9JP2u/Dv82vuU+2f7Svs7+0b7fPvi+2z8Dv29/XD+D/90/3v/Hv+D/ub9eP1M/Vr9lf32/Xr+HP/E/1AAoQCuAIoAWgBHAGsAxAAwAYcBqwGVAUYBxAAYAF3/wP50/pn+JP/p/7cAcwEPAnoCmAJfAvIBpQHaAccCVgQ1BgcIigmVCgMLrAp6CX8HAwVqAhYARv4Q/W78Sfx9/Nr8MP1d/VP9HP3R/Jf8lPzg/IH9aP55/5IAkAFUAsACvQJKAoEBiwCN/57+0v1A/f/8FP1m/b/96f3J/W799/x9/A78uPuV+777PPz3/L79Wf6l/pr+RP63/Q/9c/wQ/Af8Y/wW/f798P7B/1YAqQDGAMQAuACmAIkAXwA3ACMAJwA0ADQAIAAMABgAWQDFADkBjgGyAaIBYwEEAacAhQDpAA0CAQSZBnkJMwxbDpcPog9cDtkLYwhzBJoAWv0I+8D5Yvms+VT6I/vv+5f8/PwT/fj86Pwv/QD+W/8RAd4CgwTJBX4GewayBT0EWQJOAFj+n/w/+1j6BvpP+g77Avzp/Jr9CP43/i7+9f2V/Sf9zvyu/Nf8Rf3g/Yf+FP9p/3n/Sv/r/nP++P2S/VL9Rv1w/cX9Lf6O/tf+/P73/sr+hP47/gH+3P3F/bT9qv21/ef9Qf6y/iT/jP/r/0IAjwDPAAcBSQGlARgChwLGArwCbwL+AYwBMAECASEBtgHlArYEAwd+CccLgA1ZDhwOugxUCjQHwQNrAJr9lvt++kT6uPqT+4r8Zf0A/lD+Yf5U/lT+iP4L/9v/3gDwAe0CtwMsBDAEtAO/Am0B6/9o/gz98/sw+8f6rfrL+gn7XfvE+zf8pPz5/C79Tf1s/Zn9zP3v/fT95P3Y/eL9Av4t/lj+hf6+/gn/W/+c/7X/oP9n/xv/x/5x/hn+vv1m/Rv96PzS/Nn8/vxB/aP9Jf7C/mv/CgCWAAwBbgHAAf8BKgJHAmYCkwLHAuUCygJlAr8BAAFfABYAVgBGAfgCVwUfCOgKPw2+Dh8PSA5NDGkJ+QVuAjj/sPwF+zr6NvrD+qX7nfxy/QD+Pv4+/iL+FP47/q/+c/91AJUBqAJ/A/AD3AM5AxICiADP/h79pfuI+uH5v/kd+tz6zPuy/Fz9r/2p/V/98vyI/En8U/yt/E39Ev7S/mX/r/+h/0H/q/4H/n/9MP0n/Vv9tf0Y/mr+l/6T/mD+EP68/X79bf2Y/QH+n/5g/y4A7gCIAesBEAL6AbABRAHNAGgAKQAbADwAewDCAPgACQHtAKoAWAAjAD4A1wANAugDTwYGCbcL/w18D+MPEA8ODRQKeQaqAhr/LPwh+hP59fiZ+b36Fvxi/XP+Mf+d/8z/2f/e//H/IgB3AOsAawHfASkCMgLrAVQBeABr/0b+Kf0z/Hv7Efv6+jL7p/tC/On8gf36/Uv+cv50/l3+O/4c/gv+EP4q/lH+ef6Y/qX+mf50/j7+Af7I/Z79jv2c/cj9Cf5U/p7+2v4A/w7/A//i/rP+hP5j/lz+dv6z/hL/h/8EAHsA3wApAVUBaAFnAVkBRAEvAR4BEQEDAfIA4wDfAPIALAGfAVoCZgPCBF4GFwjACSgLHwx4DBYM7woVCbAG+wM5Aa7+k/wS+0T6Jvqb+nX7gPyI/WH+7P4c//v+ov44/uP9wv3j/Un+7P62/4YAMwGdAa4BXAGsAKz/ef44/Rf8P/vM+sf6KPvf+838y/2s/k7/nv+a/07/z/45/qj9Nv37/P/8Of2X/Qf+ef7g/jD/Y/94/3X/Yf9B/xT/2f6W/lj+Lv4i/jb+bP7E/jn/vP8+ALEADwFfAaoB+gFSArQCIwOZAwUETwRgBC0EtQMFAzECUgGDAOH/gP9m/4b/zf8xALAATAEHAuIC3wP8BCoGTwdCCNkI+QiVCLAHUgaTBJoCnADM/lD9P/yi+3f7r/sx/Nf8d/3y/Tv+Uf41/u/9j/0z/ff88vwq/Zr9NP7l/pX/KAB9AIMAPAC9/xz/b/7J/UL97/zc/Af9X/3N/T3+oP7i/vD+vP5L/rT9E/18/AD8rfuR+7n7JfzJ/I/9ZP46////nAD5AA0B5ACTADMA1P+E/07/Pf9S/4L/uf/n/wwAMABVAHkAmwDDAPkAQgGXAeoBMAJmApUCwALkAvsCCAMPAwwD8AKrAjgCogEAAWgA6P+J/1j/Yf+q/ykAzwCTAXYCdQODBIYFYQb+BlAHUAf0BjUGGAW5AzkCsgA3/9r9s/zX+1H7Gvsg+1L7qfsh/K38NP2i/e/9If49/kT+PP44/lL+m/4U/6b/NQCpAPgAGQEBAa4ALgCb/w//lP4o/sj9dv05/RP9/Pzm/ND8xfzS/PX8JP1V/Yr9xv0I/kr+hf69/gH/Xf/J/y4AdACSAI4AbgA2APH/uP+m/8v/IgCTAAYBbAHBAfwBDQLsAaIBSQH6AMQArQC3AOcAOQGcAewBBgLeAYABAgF1AOb/av8e/xf/Wv/Y/3wANwH/AckCfQMABEYEVgQ/BA4EwwNcA+ECZQL1AY0BJAG5AFYABwDM/5f/Xf8l/wX/C/8x/2X/mP/B/9n/1/+w/2X/C//H/rL+y/4C/0f/lP/l/y0AWQBfAEQAGADo/7T/dP8u//X+3f7j/vP++P7r/s3+nv5W/u79b/3y/JL8XfxN/F78lPz4/IH9Ff6X/vn+Qf98/7D/2P/w////EAAlADAAJQALAPv/CgA7AIAAxgAFAT4BbQGHAX4BVQEhAfEAxACLAEMA/f/P/8T/0v/q/wQAIgBHAG0AhgCPAJgAtgDtACwBYAGCAZoBrgG3AagBeAEyAekAqABrACwA9P/X/97//P8ZACgAKwAvADUAMwAcAPX/0//G/8//4v/+/ysAbwDAAAUBLQE6AUUBYwGYAdQBCAIxAk0CTQIfAr0BPAG9AFgADADI/4D/OP/+/tP+rv6M/nf+ff6j/tn+BP8a/yT/Mv9B/0L/KP/6/sn+oP54/kX+Bf7I/aP9mP2b/aT9vv37/Vz+zf4y/4H/xP8JAFQAlwDEANsA5QDgALoAZADr/3H/GP/o/tb+0v7Z/vH+Gv9E/1z/Yv9k/3D/gf+G/3//g/+x/xkArwBVAfQBfgLoAh4DCwOtAiECkAERAaUARQD1/8T/vP/R/+n/8f/r/+f/6f/j/8r/pP+I/4L/if+K/33/b/90/5D/s//F/8P/u/++/8v/2f/p/wwATgCiAOgAAgHtAMIAnACGAHoAdAB/AKQA2QAEARgBHQEqAUwBdQGGAXABOAHtAJUALACx/zP/zP6M/mz+Wf5Q/mX+q/4f/6T/IgCRAPgAVgGbAbMBmgFhASAB3ACLACUAuf9f/x7/5v6i/k7+Af7U/dP98/0m/mr+w/4o/3z/p/+r/6f/t//g/xAANABLAGMAgwCfAKoApwCmAK4AsgCXAE8A7f+W/2T/VP9U/1v/bv+K/5r/hP8+/9v+e/4z/gD+2f3E/dj9J/6m/jX/vf89ALoALgGCAZ4BfwE3AdkAZQDV/zP/qP5c/mL+q/4Y/5X/HwC0AEMBtQEHAkoCjgLHAtECjAL1ASoBUAB//8L+KP7O/cj9Df57/vD+ZP/f/2QA4AA5AWIBagFrAW0BYwE+AQYB0wCxAJoAfgBgAFUAbwCpAOQAAgH/AO0A3QDKAKQAbAAzAA0A9//i/8b/tP/H/wwAbADBAPMABgEIAfgAywCBACsA5//C/6//l/94/2j/ev+n/9L/5f/f/9L/yv/B/6n/iP93/4n/uP/r/xQAPgB+ANQAJwFUAUoBFgHNAHgAEwCj/0D/Bv/1/vP+5f7I/rb+x/7//kn/k//d/zIAjgDYAPwA/QDzAOsA2ACgADgAsv8x/83+hf5V/kn+dv7k/n3/GgCcAPoANwFMASMBrwAIAGH/4/6Z/nb+bv6E/sD+Gf94/8j/DQBcALoADQExARkB2gCZAG4AWQBUAGAAgwC3AN4A1QCWAD4A9P/H/6r/jf90/2//h/+u/8v/1//g//j/HQA1AC4AEAD2/+z/5P/I/5b/Yv9J/0//XP9c/03/PP8q/wr/z/6D/kr+Rf50/rb+7f4U/zv/a/+d/8T/5f8SAFQAmwDGAL8AkwBjAEQALwASAOz/0v/W//L/FAAvAEoAcgCkAMMAsQBvAB0A3f+2/5v/g/97/5T/z/8XAFQAgQCqANcA+ADsAKgAQgDj/57/bf9C/x7/Ev8m/07/c/+J/5//y/8LAEUAXQBUAEYASQBYAF8AVQBGAEYAWABqAGkAWgBTAF0AZABKAAgAuf+C/3T/hf+f/7z/5P8bAFEAbwB3AIYAuAAGAUoBXQE0AeIAfQAOAJb/H//F/qD+qf7A/sv+z/7n/iP/ev/T/yIAbQC/ABABRwFSATwBIwEdASYBLQEvATsBWgF6AXgBQAHfAHsAMgAIAO3/2f/R/9X/0f+q/1v/BP/T/t3+Ef9K/3D/hf+Y/6r/tf++/93/KgCZAP4AKQEOAcMAawAZAM7/jv9p/3H/oP/S/+b/2//I/8b/1v/k/+T/5P/4/xwANQAnAPb/wv+o/6z/vP/G/87/3v/r/9j/kP8m/8/+tP7a/iL/bP+r/+H/CQAWAP//1//E/9r/CQAmABQA2/+b/2//YP9p/4z/0P8xAJEAyADEAJQAWgAoAP3/0/+y/6z/yP/6/y0AVwCCALsAAAE8AV8BbwF6AYEBbgEvAcwAZgAdAPr/6//f/9b/2P/e/87/lv9I/xX/H/9g/7P/9/8sAGQAqQDpAA8BGwEnAUcBbAFvATwB6ACgAIIAhQCIAHgAYgBbAGIAXAA0APX/wv+s/6j/nf+D/2//ev+n/93//f/8/+v/2P/C/5//cv9O/0D/RP9H/zz/J/8X/xP/Ev8E/+b+w/6l/oj+aP5M/k3+ev7K/iD/Zv+g/+D/LgB2AJkAjwBrAEUAIADs/6X/Yv9H/17/jP+m/5n/fv98/6P/3f8MACwASwByAIwAfQA/APH/vP+y/73/uv+h/4j/if+m/83/8v8bAFQAlgDHAM4ApwBmACQA6P+s/3P/VP9m/6v/DQB1ANwAQwGlAfMBHgIrAjICRQJeAmECOwL6Ab4BnQGSAY8BjAGRAaABnwFqAfYAXwDU/3P/Nf8B/8f+jf5f/jz+E/7b/aT9iv2V/a79uP2r/Zj9lP2l/b390v3r/Rn+XP6f/sv+3P7j/uv+7f7a/rb+m/6m/tv+IP9W/3X/kP+3/+D/+P/+/wgALwBsAJwAoAB+AF4AaQCiAOkAIgFLAXUBoQG2AZoBUwEGAdgA0ADUAMgArACcAK4A3QAOATIBTwF1AagB3QEJAiwCUQKBArsC9AImA1UDhQOzA9QD3wPOA5UDKgORAt0BMQGnADwA2f9w/wn/t/5//lD+GP7a/bH9s/3S/eH9vf14/UP9Qf1h/Xf9av1R/VX9hf3A/dn9yv28/d79Lv5+/qP+pP6q/tP+CP8S/8/+Vv7j/Zz9e/1h/T/9Kv1B/Yj95P02/n/+3P5k/wwArgAhAVoBaAFnAWgBbQFxAXMBdAF1AXQBbQFdAUIBIgEQARsBQQFuAYwBlQGeAcMBCwJiAqwC5QIqA5YDIAScBOQE9gTwBOoE2gScBB4EeAPYAlECxwEPASUAO/+M/iz+/v3Y/az9j/2Y/bz92P3a/dr9AP5X/r/+B/8a/wn/9/7y/u7+2P6x/oz+cv5Z/i3+8P25/aD9qf3D/dz98P0E/hr+J/4c/vr90P2t/Y/9bf1I/TH9Ov1j/Zz91f0P/lr+xP5H/8z/QQClAAABUAGHAaABoQGgAakBtAGrAYIBPQHsAKAAZQBEAEQAZwCoAPsAWQHEAUkC6QKXA0AE2wRkBc8FBgb2BaUFLwW0BDoEqgPtAgwCLwF2ANz/Rf+k/hL+uP2k/bn9yP3C/cb9/P1k/sv+//7//vf+C/8v/y3/4f5d/t79lP16/Wv9Uf1G/XL92f1Q/qD+tf6u/rT+0f7g/rD+Mf6C/dX8QvzJ+1/7Cvvm+gj7Z/vj+1r8w/ww/bz9cP44/+r/agC+AAMBUAGcAcwBzwGyAZkBmgGmAZMBSgHlAJ4AmQDEAPIAEAE9Aa0BbQJNAwUEdgTEBCcFqQUWBjEG7wV7BQgFmQQBBB8DCwIMAVgA3/9g/7D+4P0t/cX8ofya/Jf8qvz3/Ib9Mf7G/jX/lv8KAJUAFwFkAWgBMwHpAKAAWAAHAK7/X/8v/yP/Mf9C/0L/MP8a/wr/+v7V/ov+If6w/VL9Dv3T/I/8S/wr/E78s/w3/bv9Ov7I/nX/NwDtAIMBAwKIAhgDkQPHA6wDWgP9AqgCUQLkAWIB5wCRAGcAXgByALgASQEmAjEDQAQ4BRMG0QZqB8kH3AekBykHcAZzBTAEugI2AcL/aP4q/Q78KvuS+kv6RPpo+rL6L/vj+7j8i/1E/uL+cf/t/z8ATgAYALr/Xf8U/9f+lP5N/hX+AP4M/iv+TP5u/pf+y/75/gH/zP5c/sn9NP2w/EH83ft/+zX7FPsp+3D72vtb/Pn8xP2+/sv/vAB2AQICgAICA3YDswOkA2ADFgPgAqQCOAKUAeQAZgAzAC8ALAAhADsArQB1AVkCGgO0A1gELwUjBucGOAcQB6MGIwaKBasEbQP1AY4AZv9u/nb9aPxr+8L6k/rC+hD7U/uY+wj8s/x3/R/+j/7b/i7/nP8JAEIALwDs/6//mP+W/4D/RP/8/t3+BP9X/5j/oP9+/2H/Yf9j/zH/sP7//Vz96fyO/Bv8hPv/+tf6J/vF+2v8+/yV/Wv+hf+uAKIBTwLfAoEDMQSyBM0EhQQVBLQDZQP8AlUCgwHHAFUAKwAhABoAKAB2ABwBBAL6AtkDnwRjBSYGyAYXB/wGhwbcBRIFJAQAA6ABGgCW/jT9/fvu+gj6XfkD+QL5TfnH+Vj6/vrD+6z8pf2M/kj/0/83AH8AqgCsAIAANADl/6f/ef9P/yb/Cf8G/x7/Qf9d/2b/Y/9Y/z//DP+0/jj+pP0E/WL8xfs9+936tPq/+vT6Ufve+6L8l/2q/sX/3wD3AQcD9gOjBAIFJwUvBSQF+ASZBA0EdAP1Ap0CXQIkAvoBBAJdAvgCqwNTBPEEnQVhBiQHswfoB8oHegcOB3IGgAUqBJEC7ABj//f9lPw5+wn6Ofnh+Ov4J/l++QD6zvrs+zH9Xf5K/wMArgBXAeABFwLtAYMBEAGvAEsAuv/1/in+mv1h/Vv9Tf0j/QL9G/1z/dT9+P3H/Wj9Fv3d/JD8+/sm+1j63PnB+dr59PkS+nD6Q/uB/N79Ev8UABIBMwJeA0wExQTUBLkEqQScBFsEwQPtAisCsgF3AUUB/gC/AMkARAEYAgADzAOIBGEFagZ5B0YIowieCGcIGQiYB64GRgWPA9cBTgDs/or9IPzX+vD5iPmD+aj52vky+tz62vv6/Pj9t/5Q/+z/lwAoAW8BYwEpAfQA0wCpAE4Aw/82/9n+tv6q/pD+Zf5H/lL+f/6k/pn+Wv4E/rX9av0E/W78tfsA+3T6G/rk+cX5zPkU+qv6hfuE/I39mv62/+MADgIYA+wDiAT4BEIFYQVMBQIFjwQKBIID+wJ2AvoBlwFcAVABdwHOAVEC+wLEA54EdQU5BtoGSgd4B1YH4gYkBicF8QOIAvoAYP/Z/YH8Y/t++tP5cPlm+bP5Rvr/+sj7o/yY/Z/+m/9qAP0AYQGsAeUB+AHOAWYB4gBoAAUApP8u/6n+Of4B/gP+Hv4q/iD+G/43/mn+gv5c/vn9g/0i/dn8hvwM/H37E/v7+i77fvvI+xf8l/xm/W3+bv87AN8AiAFRAiIDvwMABP0D7wP4AwME2wNlA8UCQAIBAvEB3AGvAZEBwwFgAkIDJQTjBJIFXwZRBysInAiBCPwHSQd8BnIF+wMXAgkAJ/6W/Dv76Pmi+Kb3NfdZ99z3evgg+fT5Ifua/Bb+S/8oANkAjAE6AqsCqwJCAq8BMgHSAGIAuv/v/kP+7f3n/fr9+P3n/fb9Sf7G/in/Pf8K/8X+k/5i/gT+X/2P/NX7XPsc++b6ofpo+nD61Pp9+zf85vya/Xz+nP/ZAPgB2AKGAycExAQ9BWUFLwW6BDUEugM/A64CCQJ4ASwBNgGDAfMBeQIiA/8DBAUIBtsGZQesB78HmgclB1AGIQW3AzYCrwAi/5H9Dvy3+qj56/h6+Er4W/i1+Fj5NPow+zP8MP0g/vv+tv9IAKsA4ADwAOAAtgB2ACoA2v+K/z7///7X/s3+4v4P/0r/jv/Z/ygAbACPAH8APgDZ/17/zf4g/lr9jPzT+0T73vqP+k76Kvo9+pL6HPvC+3j8R/1H/nz/ygAHAhwDDATrBLoFXQauBp8GTgbmBXoF/QRbBJoD5AJpAj0CRgJfAn8CwAI+A/YDuAROBacF3wUZBlEGWQYGBlgFeASSA6sCoQFTAND+VP0b/C/7bvq6+SH51/gC+ZP5Tvr8+pz7VfxE/VH+PP/Z/zIAeQDSACwBUQEfAa8ARAALAPj/2v+X/03/M/9l/8P/CQANAN//tP+j/43/N/+M/rX98vxk/PP7bPvA+hf6sfmq+eL5Ivpa+rP6Yvtw/Kz91v7U/8EAyAHqAvQDrAQGBS4FVgWIBZ8FcAX7BHIEDgTaA7EDagMKA8MCwQIBA1UDkQOzA+EDPgS/BDMFbgVxBWAFVQVBBfYEUQRbA0ACJgEQAOP+k/0+/Br7TPrQ+Yf5XPla+Z75NfoI++n7u/yB/U/+J//w/4QA0QDjANYAvACRAEgA4v96/zL/Fv8a/yr/PP9V/37/s//j//f/6P/A/4v/R//q/mr+y/0Y/V78pfvy+kr6vPlc+TX5Tvmn+T36DvsT/EH9hf7S/yEBZgKVA5wEbwUJBm4GngaSBkQGuwUNBVMEoAP6AmUC6wGfAZYB0AE2ArACNAPMA3wENgXbBVEGkQaoBqEGcwYCBjoFJQToAqABUwD1/oT9Gvzi+vz5ZPkA+b34q/jo+ID5WvpJ+y38Cv3z/ev+0P9wALMArgCNAGcALgDJ/zr/qP5H/i3+QP5Y/mn+i/7g/mr///9pAJUAmgCaAJEAVwDC/9T+vP2z/M77/Pon+l/52/jK+Cr5zfmD+kP7KvxP/aH+6//9ANcBngJyA0QE4wQpBSIF+gTYBLYEcQTyA1ADwwJzAlcCRAIiAgUCGgJ6AhMDtAM7BLYEQwXsBY0G7AbmBogG+gVVBYgEdgMdAqkAU/87/lX9gfy1+wn7pfqV+rr66voW+1L7u/tS/Pb8e/3P/Qb+QP6D/rj+w/6m/oP+f/6h/tb+/v4W/zX/cv/L/ycAawCSALEA3QARATEBHwHXAGwA8P9i/7T+3f3p/Pj7KfuG+gj6p/ls+W75vPlR+hn7BPwK/S7+bP+xAN8B2wKdAygEgQSnBJgEWwQABJ4DSQMKA98CxQLAAtMC/QI4A38DzAMdBHMEzQQkBXIFrwXSBdUFtQVxBQoFggTcAx0DSgJrAYkAq//S/v79Nf2G/Pz7oPty+277kPvY+0T8yvxT/cj9H/5c/of+ov6r/qD+h/5y/nH+iP6q/sj+4v4E/zn/gP/L/wwAQQB1ALEA6gAHAfAAowAxAKv/E/9h/pP9uvz1+2D7/fq8+o36ePqS+uf6bPsH/Kb8Sv0D/tv+v/+QADkBvQEyAqUCDgNUA2wDZwNjA3ADgQN9A1oDJwMCA/sCCQMSAw0DDAMtA3YD0QMcBEoEaASNBMIE8gT/BN4EoQRjBCgE1gNRA5MCtQHaABMAU/+I/rb9+vx1/Cf89fvA+4L7UPtG+2j7ovvd+xr8dPz//LL9Zv72/lb/mv/W/wgAGwAEANT/sv+6/+z/LABcAHkAkwC0AMwAuwBvAPb/bv/v/nj+9v1b/bT8Hfyp+1H7Avu1+n36ePq0+ir7wPtl/Br97f3c/s3/pABRAdoBUQK/AhgDTANcA1kDWwNqA4EDkwOfA7ED2gMZBF0EkgS0BMwE5QT8BAkFAgXoBMUEoQR6BEEE6ANvA+ACRAKeAe0ANwCI/+7+cv4R/r/9c/0r/en8q/xw/Dj8Dfz6+wv8Rfyk/Bz9o/0v/rP+If9r/5D/l/+N/3v/a/9k/23/iv+7//b/KwBNAFgATQAsAPL/n/83/8T+Uf7g/Wv97fxq/Or7dvsT+8P6iPpr+nv6wvo6+9b7ivxU/TP+Iv8RAO8AsAFTAt4CVAOtA94D5wPXA8EDrgOeA4kDcQNhA2EDbgN6A3YDXgM7Ax0DCgP+AvIC7QL8AicDZQOhA8gD0QPBA50DYAMBA3sC2gEzAZYAAQBq/8v+LP6f/TH94/yp/H/8bfyA/Ln8Cv1f/af94v0X/kv+e/6c/q7+v/7f/g//Q/9s/4X/lP+h/7H/uP+u/5X/eP9k/1z/U/84/wP/uf5l/gn+n/0n/an8Nfzb+6T7jfuQ+6n73fst/JP8Bv2B/Qj+ov5R/w8AzgCAASACrwIrA4wDyQPeA9QDuAOTA2kDNQPzAqcCXAIcAusBygG9AcgB8gE9AqcCJgOpAyAEgATABNsEzASXBEAEywM/A6QCAgJdAbgAFQBz/9H+OP6z/Uz9Df33/AT9Lf1t/b/9HP59/tj+Jf9c/3v/iP+J/4H/bP9I/xL/z/6K/lb+P/5G/mX+kv7H/v3+Mv9f/3b/bP87/+P+bf7n/WL95/x9/Cr88/vc++v7JPyC/Pj8cf3d/TL+cP6f/sn+9f4i/0r/bv+T/8P/BgBkANwAZwH9AZgCMQO+Ay4EcAR1BDQEtAMLA1kCvAFIAQgB9gANAUsBsAE+AvACugOGBDwFzAUvBmAGVgYGBmcFdQQ8A9gBcAAl/w3+Mv2Y/EH8M/xx/Pb8qf1m/gv/gP++/83/tf95/xH/fP7J/RT9fvwe/Pn7Avwp/Gn80fxz/VT+XP9jAD0BzwEbAjICJALoAWcBjQBj/xP+1/zd+zP7wvps+in6EfpM+vD66fv+/O39kf74/k3/s/8pAIsArQCCADEAAwAxAMAAeAELAkcCLQLxAc4B4QEWAkYCXAJvAq8CQwMfBAYFqAXZBa0FbAVYBYUFyQXbBYcF1QQBBFED4AKNAh4CaQF7AI3/3/6I/mX+Nv7U/U793/y//Pn8Xf2a/YD9Gf2n/Hb8pPwK/V39ZP0m/eP87fxu/Ur+M//i/0QAgwDdAG8BHQKeAq0CPgKGAdUAXwAZAMX/Hf8J/rT8dvuc+jv6Lvo5+jr6Pfpy+gT77Pvr/Kv99/3Z/Zj9jP3u/bv+vf+yAHgBFgKrAk4D+AOGBNQE2gS5BKIEtwTyBCsFLwXoBG8EAgThAyUEswRNBbUFwwV8BfoEVgSbA8gC2AHVANr/Bf9j/uv9h/0o/dP8ofys/Pf8Y/2//eP9yv2O/Vz9Vv18/bP92v3k/eH97P0a/mv+zv4y/5n/GQDEAI4BSAK1AqwCMwKEAekAjwBnADMAtf/Z/sD9r/zi+2X7E/u++ln6CfoN+or6bvtr/Cb9bf1Z/Tv9Zf34/dL+rP9LAKoA9wBlAQACnAL4AusCjAImAg4CawIdA9UDTgR+BJYE4gSPBYcGegcSCCMIvQcVB1kGkQWeBFoDwgEGAHH+Qv2P/EH8Lfwz/FH8mfwV/az9K/5e/jH+vP01/dT8sfy9/NX84/zv/Br9hf08/ir/IQD4AKIBKwKsAi4DogPjA8kDRANoAmIBXwB8/7z+E/50/eX8ePw+/Dz8Xfx9/IH8Yvw1/Bz8KfxO/GT8SPz2+5b7avuv+3b8k/23/pz/KQB7AMgAOQHJAUkChQJxAjYCIQJ3Ak4DfgS9Bc8GogdMCOcIbgm6CZMJ2ginB0IG9gTmA/kC9QGrAB7/i/1I/I77WPtr+337Y/sg+936xfri+hz7Tftk+3L7n/sS/Nj84P0E/yIAKgEZAuoCjgPyAwUExwNIA6IC7AExAX0A5P9//2H/if/X/xUAFgDG/zP/ev61/en8CfwO+w36OPnE+M34RPn5+bj6b/sy/CP9TP6H/4wAGQEXAbIAPwAKACoAfgDOAPcACgFHAfQBLgPVBJwGOgiJCY0KXgsFDGMMOwxaC7oJkwdDBSYDcgElABb/Fv4P/Q38LPuF+hn60/mU+Un5+/jF+MP4Avl9+SH64Pq++9D8Jv6z/0UBjgJJA1oD4AIvAqMBeAGsAQ8CYAJ1AlICHQL9AfoB+AHIAUMBXwA0/+b9k/xF+wP64fgK+K/36ves+L/52/rN+4z8Nv3v/cP+nf9WANAACgEkAUMBdgGwAdgB5QHuASMCtAKuA/AEPQZkB08IEgnLCYQKIwt1C0cLggovCXIHbAUzA9cAe/5a/Lz61/mt+QH6avqD+hz6T/lp+MX3mffn94L4Ovn7+dj69ftx/UD/KgHkAisE4gQUBewEkwQfBJUD+gJfAugBtwHVAR4CQwLzAQQBj//o/XH8a/vV+nP6APpf+a74M/gm+I34MvnN+Tb6jfoj+0X8A/4ZABEChANSBK4E7gRJBbQF7gW1BQMFIgSLA6UDigQBBqQHGAkwCucKQQsrC3kKBQnbBkYEtQGP/wf+Dv1p/Nv7RPud+ub5GPkn+BT3+vUT9aL02PS+9Tr3Jfla+7b9DAAhArcDpQT5BPYE9wQ7BcQFXwbJBt8GrQZaBvMFTwUeBCcChf+y/Fv6DPnf+HP5J/p5+kn60Plk+TL5GvnS+Cz4UPe19t32CvgR+nr8x/65AGYCCAS0BTUHIQgkCEUH/AX/BOIExwVXB/sINQrdCiALRQtqC2ALygpiCTEHmwQxAmsAaf/w/pL+8P3f/Gz7vPns9wb2FPRC8urwffBJ8U7zLfZK+Qz8H/6J/4sAawFMAicD6wOgBHgFswZmCFMK8wuxDDMMhgoRCF4FzQJ0ADj+BPz2+Vf4bfdA94b3x/em9x/3gfYz9mr2Bveu9x/4bPj9+EX6Yvz1/kkBwgI5AxkDEwOmA8gE9wWgBpIGLAYiBgQH1Aj6CqQMSg3zDBoMRguiCugJpQisBlUEVAJCASkBbwEpAan/7vyc+Zf2efRP87/ycfJg8ubyZvTl9tn5ZPzS/QH+dv0P/X397v4EASoD8gRGBksHJgjLCAEJlgiSB0AG+QTmA+UCpgHx/9z9yvsv+kX53viI+Nv3wvaI9av0ivQy9WD2vfcX+XH65/t5/fr+JADRACQBfwFCAn4D3ATNBe0FUgWXBI4ExgUpCAYLbg2wDqsOxA2TDHgLbwo4CacH4wVeBHsDMgP2AvcBpv8f/DP4A/Vi81zzRfQv9Yn1cPWF9Wv2QPh4+j38Bv0D/f/83P3u/7gCMwV9BnAGtwVNBckF8QbhB60HFwa3A5gBewBMADAALP/j/Ov5a/dU9rz2zvdl+N33iPZu9YT1/PYa+cL6QvvX+oD6PPtN/QcASAJMAzAD0QIfA2UEGgZaB7AHiAfsB7kJ4Aw9ED8S5xFzDzMMpwmOCIIIYwg8B/YETgIsANr+xv0A/BD5e/WP8obxofLt9N72YveU9p/12/XU9+D6n/0A/wT/sf5H/0kBGgRwBkkHqQaYBVYFaQY3CHUJGAkPB0YE9QG7ADUAZ/+S/dv6OPi99sr2vfdn+Oz3avbg9G/0iPWZ9375V/os+tn5XfoR/Gb+VAAhAeoAigDtAF4CWQQDBusGcQeDCNYKPA6REWMT4xJvEFYN9grmCawJOQm8BzMFVwLx/y7+hvwx+uf2SfOW8NnvMvGu89/1vvZP9oX1kPUN96/5jfzL/iUA+gDiASsDoATHBVoGkAb2Bv0HkAkAC2ULMgqPB0MESAFK/2L+L/4p/uj9Of0S/IP6tPj09rP1WvUM9nz3BvkH+j366Pmg+fD5APuE/AH+If/d/2YA5ABWAaYB6QGLAicEGwcZCxcPwBErEmYQeQ3XCooJqglvCsIK6wnhByAFMwJU/2n8VvlV9vTzvvLJ8o7zK/T68wjzHfI78u/z8/ZT+gD9b/7W/uj+WP9yAA8C2QOhBXQHZAlEC5MMuwx4CxEJRQbjA1YCegHOAOH/mv4z/fX76vrX+XX4yfZD9Yb09vRo9jH4i/kW+hX6Pfoz+xn9ef+RAcgC/wKLAvEBnQHCAX8C/wNtBrYJUQ1CEIERjhDRDYIKFAhzB4IINQonC1cKmgeLAyb/TPt3+Lf23fWa9Yr1N/VB9JrytfB078XvG/IR9n36/v2w/5z/p/4E/pT+fAA9AxgGgQhFCmsL9AvIC8wKGgkWB0oFDgRNA40CRgFA/8T8b/rP+Ab4u/di96f2o/XF9Hv05vTF9bD2cfcy+Ff5L/ul/TIAJgIIA+ACMAK3ARoCpwNFBo8J8gzND4kRyBGVEHkOWwwhC0ILdwzNDRQOewzxCC0ETv9b+9r4tPdi9zf3ofZG9R/zgvAg7t/sgu1H8Jv0NPma/N39Gv11+436lvu+/h0DOgfYCYsK0wmoCOIH0Ac4CKEIqAgqCDEHxwXiA4EB0v5F/Fv6X/kq+S/5w/iL97T12vOq8oDyPvNz9LP15fZD+Br6c/zu/usA6AHfAWQBZgGyAoQFXQk+DRgQRBHIEEgPuA3pDDsNew78D+AQbRBVDtEKhgZPAur+t/yU+/b6JPqM+Ab26vL17/3tne3u7nbxVvSt9u/3JPjb9+r3A/lk+73+XwKGBa0HtAjiCK8IjgjACEkJ9QluCl0KhAnYB4QF4AJRAB7+Ufy++iP5VPdf9YjzJ/J68YPxD/Le8sbzxvT79YP3XPlh+1z9JP+mAOkBBQMeBF8F9Ab4CF4L3Q3yDxsRGhEmEN8OAQ4DDskOpQ+wD0UOWAt6B4oDSQAE/of8Ufvj+fv3o/Ud88vwEu9J7qLuEPA28nX0K/YI90X3jvey+C371/7sAnUGyAjZCSgKZgoEC/ULyAwADWMMEQtbCYAHiAVMA68Ayv3y+oT4q/ZL9Rz06PK58dTwifDz8ODx9/L48+z0F/bD9/v5ePzH/p4AFAKXA6AFVwhoCycO7g+DEDsQww+1DzsQABFlEeAQSw/vDEwKzQeXBZADfAE4/8f8Tfr09971HPS78sbxSPE28WzxvPEQ8n3yQvOo9Nf2s/nc/Nb/QQL+AzQFMAZAB4sIAwptC3sM4gxvDBkLDgmqBlwEfgIvAUYAYf8c/kf8/vmc9431G/RT8xLzKPN58/7zsfR/9Un2/Pa198T4jfpF/bsAYASDB64J4gqWC2oMuw1nD+IQhxECEX8PjQ3BC2gKZQlbCPAGCwXUAocAQ/79+6T5TfdG9fbzm/MX9O30jPWh9U/1EfVv9aj2kPix+qD8Ov6n/ygB2QKRBPsF1gYjBxcH8QbBBmAGkgVKBMsCiQHdAMYA2wCLAHT/pf2Z++f57vim+Lr4y/io+F/4G/j/9xX4a/gu+aX6/PwFACYDkAWuBo4G8gXxBU4HAQoqDYcPIhDSDkYMjwmKB3oGDAaqBdoEdwOkAZv/jP2e+wf6Bvm/+A35dPlY+WL4z/Zq9S31qvam+Sb98/9AAQsBCAAo/xT/5P8zAX0CaQPdA9oDVAM5ApgAyf5f/d/8Yv1r/if/6P6a/dX7fvo6+gH7Lfzu/Nn8I/xq+zv7r/tr/P38T/3M/RT/cwGGBFwHAQkdCTkIbgewBy0JMAuTDHcMyQpBCOUFaQTXA64DUwN5AjYB0v99/iz9uvsu+tz4PPiW+Lv5Evvk+9n7L/uW+sP6AfwK/jUA3wHGAhIDIgNHA5UD7QMgBAwEoQPPAn4Bo/9r/UD7q/kG+UP54/k4+tH5vviH99H2+fbg9xH5F/rI+lT7Avzo/NP9ev7R/jP/QgBzAqYFDQmSC3oM2wuVCtEJRwrQC3oNHw4XDYwKWQeABJkCngETAW4AZf8B/nv8A/ux+Zv48vf499L4Ufrp++788vwb/CD76PoJ/Gn+SwG0A+0E3QQEBCEDxwIjA/wD5QR0BV8FiQT3AtMAcv5K/Mn6HfoP+hn6qPl0+Lb2C/Uf9Eb0VvXG9gn41vhG+ar5QvoZ+xf8OP2y/tgA1gNoB9MKLg3pDSwN2AsLC4MLKw0fDygQZw/GDPoIFgUFAiUAQP/F/ir+Gv2G+5T5i/fF9aj0kfSj9ab3A/r/+xX9PP30/AP9CP4aAL8CLQWyBgwHfQaaBfQE0wQnBaEF4AWWBZkE7QLDAHL+afwI+3D6Zvpr+vf5yfgP91P1NPQH9K30rPWD9vn2NPeT92X4uflg+yX9CP88AfcDJgdRCsoMDQ4iDqcNew0vDp8P+hAxEZgPUAxACJYEJgIKAawAMADx/s/8Kvqa95z1cPQc9Ir0kfX59nD4m/k6+ln6Yvru+nX8/v4KAsoEfwbgBjcGOAWfBNMEwQXxBsYHxAfCBukEnQJVAHb+MP1x/O77R/s0+qr46/Zq9Y/0g/Qa9fL1pvYA9w33Cfc799X3+fjA+kL9fAAzBOkH9grODFIN8Qx4DKsM0g2OD/8QOhHKD+wMawkzBuEDhQKyAcwAXf9J/c36U/hH9vv0lPQK9S32pfcH+fz5Yvpl+m769fo//DX+agBQAnwD1QOfA1ADVAPXA7YEmAUTBt0F5gRhA64BMQAr/6X+aP4X/ln9Bvw/+lz4yvbd9az1EfbA9m/37fcu+En4c/jv+AX66vus/hICnwWvCLwKkwt1C/0K3Qp/C88MPw4OD6EOzAzrCbgG+QMxAm4BVQFMAb0AUv8Z/Xz6GviN9jL2Bvej+Gz6yftf/DD8kvsK+xb79/ug/bv/wwE2A8MDawODApEBFQFUATACNQPRA5oDfgLGAPP+fv2i/Ez8MvwE/Iz7wfq/+bf44Pdl92T34/fG+Mz5qfop+1f7h/s3/Nf9gADaAzQH0Qk8C3YL7QpDCvsJQgrmCnsLkQvcClAJIQevBGQCmQB7//r+z/6d/hn+Lv0D/Of6LvoF+mj6KPsP/PD8sP1J/rj+/v4n/0z/i//5/5MANQGnAb8BgAEYAckAuwDlABEB+AByAI//hv6T/dD8L/yO+9f6Fvpu+fz4wfim+Jj4n/jd+HD5V/pf+z/8zfwn/bL95f4FAe8DFgfBCVsLuwsuC0gKmgluCawJ8wnRCQIJiAefBZ8D1AFsAGz/wP5E/sr9J/1J/Ef7Xvrh+RD68fpL/L397f6p//f/BAAFACAAaQDmAJIBVAL9AlMDLQOKApwBtwAgAOr/6P/R/2b/nP6a/aP85vto+wj7n/oW+nP51PhY+A/4+vcX+HL4Hvke+lL7e/xV/cj9Cv6V/un/PAJHBVkIqAqyC34LkgqkCTAJRgmSCZ0JEgnrB2MGyQRUAxEC9gDz/wP/LP52/d78WPzX+1v79fq9+sj6I/vM+7D8s/24/qP/XgDfACwBWwGHAckBKQKUAuQC8wKxAiwChwHiAE4AwP8f/1z+ff2c/M/7IPuO+hP6sfly+Vz5Y/ll+Ur5Fvn2+C355/kW+3D8n/1y/gH/qP/QAK4CFQWHB24JYgpaCqgJzgg6CBAIIwgdCLgH4QbCBaAEsQP6AlkCqAHYAP3/OP+f/in+uf05/bD8Q/wa/EP8q/wh/Xf9mv2V/Yz9q/0V/tL+zP/SAKMBBwLpAWoB0QBmAE0AbwCLAFoAuf/B/rP91PxH/AX85/u/+3T7CPuO+h76z/mx+dT5P/rv+sv7o/w//X39c/1z/e/9RP9/AT4E0waOCBUJjgiDB5gGOgZtBtwGFQfRBhMGGgU4BKEDWAMvA+wCawKwAeYAQgDo/9H/0P+z/2T/9/6b/nb+jf63/rz+fP4K/qP9gf27/Tf+vP4X/zT/Kf8c/yr/T/9v/2H/C/9y/r79Iv3D/KH8nfyP/GH8Ivz7+wr8QPxp/E/85/tj+xr7UvsO/Av96v1t/pv+s/4E/8X/+wB+Ag0EZAVJBqAGdgYHBqIFfgWcBckFwwVnBdAEQgTvA9gDygOGA/YCPAKXATIBCQH1AMsAfwAnAOr/3f/2/xMADgDQ/1b/uP4j/sv9zf0h/pT+3v7L/lz+y/1f/T/9V/1z/Wb9Kv3e/Kf8ivxu/DT84fue+5779/uO/CP9d/1y/Sr91Pyo/Mr8Q/39/cX+Yf+s/7H/rf/6/9gAQgLjAz8F+AX2BW4FuAQjBNQDyQPsAyoEcgSwBM4EuARoBOUDQQOSAu4BawEdARIBPwF7AZEBXwHpAFoA5/+v/6r/sf+c/1//Df/F/p7+lf6W/oj+YP4o/vT9z/20/Y79Rv3W/FH85Pu3+9X7Ifxo/H38W/wl/A/8NfyF/NP8+vz2/Ob88Pwp/Yv9/f1v/uT+Yf/m/2sA6wB4ATACIQMvBBQFjAV8BQsFiAQ5BC4EQAQ2BPoDpwNzA4MD0gMrBEoEAwRaA3wCqQEZAeYAAwFBAWkBXwErAesAtgCBACYAiv/C/hr+5/0//uD+UP8t/3X+h/3i/Mr8G/1q/V395vxE/Mv7pfu8+9z75/vr+wj8Tfyj/OT8+/zv/Nz81vzd/On8//w4/ar9Sf7p/lz/nf/Z/1UAOAFqAp4DiAQKBTsFRAU7BR4F4gSTBFMERQRsBKMEtQSFBCAEqgM/A+MChQIcArcBcQFXAWABbAFfAS8B5QCPADAAxf9Y/wT/5P7+/jP/UP8r/8T+Q/7b/aj9oP2j/Zb9bf0v/ej8nvxR/Ar81/vH+9X77/sA/AL8//sK/C78Y/yW/Ln80Pzq/BP9Sf2H/cn9Fv56/v/+oP9PAAcB0gG9AsIDwASFBecF4gWfBV8FVwWLBdEF8AXBBU0FwwRfBDsEOwQdBKADtgKOAYYA9f/1/1gAxQDyAMYAWgDW/1j/5v5+/jD+Gf5L/rD+C/8h/+H+cP4S/vT9Df4m/g3+vP1a/Rb9Af0F/fr8yvyD/Eb8JfwU/Pr7z/uj+5L7p/vU+/z7Ffwy/HP84/xr/eL9Kf5O/oP+AP/b//4AOwJlA1sECQVnBYAFdQV9BcUFUQbqBj4HGAeFBssFOgX2BN4ErAQrBFkDYAJvAaYAEQC4/5//uv/k/+H/h//g/jL+1P3s/Vr+zf4C/+/+vP6a/pL+gf5N/gL+2f0F/n/++f4X/7H+9f1D/ej87PwY/Sb99/yk/Ff8JPz8+8f7hPtP+077j/v4+1j8jvye/K384/xa/RT+Af8GAAkB8gG0AlED2QNkBPoEjgUHBlgGigayBtoG9gbpBp0GHQaPBRIFpAQjBG8DiQKeAecAhgBoAFcAHwCz/zD/vv52/lr+Xv5z/pH+r/7C/r7+pP6D/m7+Zv5b/jv+Bv7U/cj97/0t/k7+K/7L/V39Dv3q/NT8ofxC/NP7jPuX++77Xvyp/Kr8Z/wK/M/75PtX/BP95P2T/gf/Vv+4/2UAbgGoAsEDdwTBBNEE7AQ+BcQFVwbPBhkHMgcXB7wGHwZYBZkEDgS7A3oDEgNnApEBzABGAPv/w/96/yP/3/7P/uf+8/7G/mX+Cv72/Tz+pv7c/qb+Hv6a/W79s/01/p3+qP5T/tP9av09/Ub9XP1S/Qv9jfwB/KD7kPvQ+zL8d/x2/Df89Pvs+zn8vvxG/a39+/1U/tn+g/8tALkAKgGjAUAC+gKqAyoEcQSfBN8EQAWqBfkFGQYWBgYG8AW+BVYFvAQYBJgDTgMdA9ECRwKQAeEAawA0AB0AAQDW/6v/lf+Q/4L/UP/+/rH+jv6c/r7+z/69/pf+ev53/ob+i/50/kX+Df7S/Y/9P/3q/KT8evxn/FP8KPzm+6j7ivuM+5f7kvuD+4v7y/tF/NH8Qf2J/dH9Uf4X//b/oQDsAPAA/gBdARIC4gKHA+EDDAQ6BH4EvQTMBKYEeQSABMwELQVRBQIFUgSNA/wCrgJ7AjECxwFfASYBIAEiAe4AcQDX/2//bf/H/zgAcwBSAOn/d/84/0b/kv/v/ygAFQCx/x3/lP5H/j/+WP5a/h7+rv1B/Qv9Ev0p/RP9s/wq/MH7s/sD/Hf8yPzW/Lj8o/zE/CP9of0X/m3+qf7k/jX/o/8kAKEA/wAyAUcBYQGgAQoCgQLSAtgCmgJQAj8ChQIEA3ADfwMZA2sCygF9AZUB5wEtAjMC7wGAARgB3QDTAOMA6QDRAJ8AcgBrAI8AvwDLAJsASAANABkAZgCyAK8ARgCt/0P/Qv+T/+D/2f9y/+z+mP6P/qP+jf46/t79yf0Z/pf+2v6c/vn9YP06/Zv9Nv6f/p3+Tv4E/gX+W/7b/lH/qv/t/yQARwBLADUAJABBAJwAGgGHAb0BvAGcAW4BMgHmAKMAlADYAFMBsgGgAQ0BSwDS/+v/dQD/AB0BsQD5/1//Kv9Y/7P/+/8SAP//3P/B/7b/uf/K//L/NwCMANMA8QDiALwAmQCGAHoAawBfAGsAkwC3AKoAWwDy/7b/0/8zAIYAfwANAGX/2/6m/sj+GP9k/4f/ev9Q/yT/BP/t/tX+wv7N/hL/jP8JAEsAOgAEAPL/KgCMANEAzgCWAGMAWwBxAHoAYAA7AC4APgBKADAA8f+2/6f/yP/x//P/w/+B/1b/V/91/5H/lv+I/3n/d/+C/5b/sf/b/xkAYwCZAJcAVwD9/8D/wf/x/yYAQQBGAFIAdACZAJ4AdQA6ABUAGAAuADkALgAiADEAZQCtAOUA8gDLAHcADgC2/5v/0v88AI4AhwAiAKL/aP+o/z4AxgDjAIcA9f+P/4//5f9MAH8AZwAhAN7/u/+3/8T/1//o/+n/z/+e/3X/gf/Q/zEATgD3/1n/5P7x/m//6f/n/1v/tP6I/g//6P9hAAYABf8S/uX9q/7f/7AAmAC+/9j+nf49/0YAAwEKAXkAy/93/6n/PgD1AJIB8AH9AcYBeQFSAWgBmAGjAW4BIQH/AB8BUgFMAewAWwDk/7L/tv/J/9L/yf+g/0X/yP5t/nz+9v55/4j/Af9R/hr+nP5v/+H/lv/e/mr+qf5p/xQAPgD8/7//3v9KAKgArgByAFIAmwA3AbQBpAH6AB0Amv+t/xIARwAKAJn/bv+6/yIAFQBf/3b+GP6a/o3/GgDL//7+iv75/g0AAgE9Ac0ASQA/AMQAcwHYAckBeAE7AUcBkgHZAc4BUwGWAPz/2f8sAJIAkwAEACr/f/5Q/o3+4/4G/+f+qf55/m7+i/7K/hv/Zv+Y/7b/2f8UAF4AlACbAHsAWABNAFMAUwBMAFYAgwC4AL0AdgAIALz/u//p/wIA4/+t/57/wv/g/6//Kv+j/nr+yf5H/43/dP84/0D/tv9aALoAngBBAB4AgAA6AcsBzQFYAewA/ACEAQgCCAJvAagAPQBkANQACAGvAOz/Nf/1/kP/1v87AB0AhP/R/nr+sv49/53/eP/n/mX+Yf7Y/l3/hv9W/zj/iv82AMAAvAA4ALb/uP9JAPkAQQH4AGEA4/+t/6X/mP92/2X/kf/x/zkAFwB+/8j+dv7M/ov/HAAMAHf/+/4p//7/4wA0AdUASAAtALMAcQHWAa8BRwEMASMBWgFsAUkBEgHlAL0AgAAtAOL/wP/B/8D/nP9Z/xf/9v4F/z3/fv+c/3f/Hv/e/g3/r/9SAF4ArP/I/o7+Y//HAK0BXAETAMz+bf4T/yIA3ADxAI0ABwCZ/1j/R/9l/5n/tv+h/3T/b/+t//3/BwCq/yX/4v4X/5n/CwAvAA4A3f/G/9X/CQBkANUALwFFARoB7QAFAW0B4QEHArsBNQHNALcA5wAoAUUBIgG6ACAAh/8z/07/u/8YAAwAkv8C/8D+5P4u/0P/CP+3/qX+8f5m/6r/kP86//v+E/9+//L/HADi/33/TP+D//7/ZABzADcA9P/f/+b/zv9+/yj/Fv9Z/7D/zP+k/4X/vf9AAKoAogA8APD/IQC0ACkBGQGeADYARgC0AAYB3gBhABYAZQAnAcYBvwEYAVQAAgBEAL0A7gCqADAA4f/e//L/0v9z/xz/I/+Z/zIAfgBGAK7/Ff/N/u7+Xf/g/zsASgAUAMz/sf/e/ykAQwD+/33/Gv8O/zn/S/8a/9H+xv4d/5z/5P/O/4z/a/+J/8D/3P/X/9T/7/8SABMA6P+9/8f/DABcAIMAegBlAHIArQD8ADIBLgHtAJAAUABfALwAIwE6AecAcQA/AG0AqQCHAAMAlP+5/1sAyABYACn/JP4v/kr/gwDVABgAGP/N/m//UgCbABYAXP83/9//0gBRAQcBQACZ/4H/6P9fAHcAGQCM/zr/WP/A/xMABQCd/yb/5/7v/iD/V/+D/5T/bf8J/6L+oP4+/zEAywCNALj/Jf9+/5AAcAFnAasALACbAK0BXwL6AdIA8v8TAPAAmAFkAYgAvf97/5j/o/93/13/of8ZAD8Axf/7/pj+C/8JAM8AzAAfAHX/af8DALgA8QCNAPn/y/89APoAYwEWAUsApP+d/xMAXgDw/+T+7/3E/Wr+MP9M/5v+v/2M/UT+ZP8hABwAp/9n/7v/aADfAMIAPwDh/xsA4ACtAecBWQFgALL/0v+tAKEB+wF3AXMApf+N/xoAxwAGAa8AEwCy/8z/LQBhAB0Aif8h/03//f+mALcAGQBP/wD/Yv8MAF8AHgCi/3z/3v9vAKsAawAMAP7/SQCIAFkAz/9i/2//0f8AAJz/2P5Y/pT+Y/8dAC0Alf/i/qv+D/+e/8//gf8h/zz/7f+zAN4AMwA4/8n+WP+EAGcBaAG6ABsAHACpADsBawFOATkBVAFrAToBygBpAEcAPgAJAKX/Zv+V/wEAGwCX/9r+rv5w/5YAJQGjAJv/Gf+l/7oASQG/AI//u/7h/r//hgCdABkAi/91/+L/bgCrAHQABADH//3/eAC0AEEAN/8+/gz+w/69/xwAlP+y/k7+uP5y/8H/c/8K/yf/0f9mAEEAcf+2/sf+pv+lABEBzABJABAASACwAPgACwETAT8BkAHYAeMBmQEUAZMAVwBsAJkAhwAWAIj/UP+m/0oAsACIAAcAs//f/1wAqwB4AOf/Zv9E/3L/p/+x/5r/if+T/67/wP+0/4L/Of8A/w//hf84ALkAoQD3/zX/5v4u/63/3P+T/yT//P4v/27/Zv8h//r+Pv/T/08AWgAAAJ3/hv/E/yAAYwCAAIUAfQBoAEYAJgAcACwARgBZAGkAkgDgADgBZwFMAfwArACFAH4AagAxAPX/+P9UAMcA5ABxAKz/KP9Q/wAAoQCzAEIA0f/Y/1IAzADeAJoAbgCsACcBXwECAT0Alv9z/8n/MgBLAPj/ZP/M/l3+LP46/m3+mv6m/p/+sv7y/jn/Rv8E/67+nP7r/ln/hv9a/yP/RP/J/1sAmABzADkAOgB8ALkAsQBrACIACAAeAD8AUgBbAHIAngDMAN4AvABpAAkA3/8hAMYAcAGtAVgBxgB6AKsACgETAZ8AFwAPAJ8AOAEuAWkAiv9N/9L/ggClABEARv/l/hv/iv+5/4z/Q/8s/1r/qv/s/wIA4/+U/zD/5/7g/hn/YP+D/4L/h/+n/8P/p/9V/w//GP9t/8z//P8KACkAZwCRAH0AWACMAD4B+AH5Af0An//j/k3/WQABAbcA5f9n/5//GAAYAHr/5/4w/2sAyQFKAp8BWwBg/x//Yv+w/83/2P8HAFYAhQBnABcA3//2/0kAkgCaAHEAUwBnAIwAdQD4/0T/y/7h/mr/5v/i/2X/6P7c/jr/iP9c/9f+k/4U/zMAMAFSAYwAgf/y/iT/wf8+AFUAIwDu/9b/y/+4/6n/v/8HAGgAwAD5ABEBDQHvAMIAngCiANAA/ADfAFIAev+9/n/+1v55/+7/5P9w//z+7v5X/+z/TQBXADwARwCVAP0AQAFMAUgBXwGJAYoBLgF8ALb/Kf8D/0f/0/9sAMYAlwDJ/6b+vv2K/RT+9f6m/+X/2f/Y/wkARwBKAPb/ff8//33/GACXAIIAzf/5/rr+Z/+cAIMBhQHWAEMAaAAOAVkBrgBa/17+eP5u/0kASQCZ/wz/Mf/E/wsAs/8s/yz/3/+3AP4AlwARAAYAdADQALAATABBANsAsgEJAokBlQDq/+//YACbAEMAjP8B/wD/b//f//D/nf85/yn/iv8SAFEAEgCR/0v/jP8oAKEAmQAkAKj/cP9l/0T/AP/k/jz/8/+TALEAVgDr/8H/uv+C/xL/5P5+/9IAIAKNAucByQAJAPb/KwAQAIb///4E/5//TABvANX/2/4g/hH+q/6G/ykAVgArAAEAIgCHAOEA5wCoAI0A7AChARYCxQG8AJ//J/+K/1wA+AAHAaYAIQCh/yT/tf6J/tT+if9FAI8AKAA0/xz+Tf0V/Zf9xP5OAKwBWAIWAh4B9/8o//b+Vf8IAMQARAFPAc8A7P8U/77+If8GAOsAWgEyAawAHgC2/2X/Gf/u/iL/zv+uAD0BHgF2ANb/xP86AK4AmAD//3f/mv9xAGoB3QGYAf0AjwBzAGAAAwBl/+b+3v5J/87/EwACAMb/mf+P/5j/n/+a/4z/ev9r/2v/gP+Z/5P/Xf8O/+P+F/+2/5AATgGdAVUBhwB3/4H++f3//X3+Pv8RAMcAKwEHAVcAbf/f/iL/JABKAeEBpAHgACIAuv+a/4//mf/k/3sAEgE0AbYA7P9v/5//XwA2Aa0BmgEgAYAA7/+M/17/U/9P/0j/Tv94/7T/zf+d/0f/Jv94/wgAUgD9/0n/4/5B/yYA1AC/ABIAff+L/ycAxgD/AOsA9ABQAcAB2wF9AfEArADcAEQBcQEbAUsATv+G/j7+jP5E/wkAgACAABsAgf/V/iX+i/1C/YH9Nf7s/iL/sf76/Z/9/f3s/vD/oADlAOMAsQBEAJz/7v6b/uT+qP9xALgAOgAf/9399/zJ/Gr9tP5XAPoBUwM1BI0EXATGAw0DfQJOAn8C2QISA/sCkQL2AVwB8wDRAOoADwENAcsAXQDp/3//Cv9v/sn9cf26/Zr+nf81ACwAy/+N/6//+f8CAJ3/Df/A/ub+SP+B/2T/IP8I/zX/X/8Z/zT+9vzq+337uPtK/Mz8+/zL/FD8p/v++qb6/vo+/Dv+cAA+AkgDmgOXA7gDTgRwBf0GmgjGCf4J/wj2BnoESwLxAIwA1QBSAX8B+gCt/+L9Mvw5+zz7//vy/JD9rP1x/SL96/zo/EH9KP6o/3cBBwPdA+MDfAM6A3UDEgSeBKIE7QOlAikB0//G/un9Fv1L/LH7bftq+1H70/r2+Sz5/via+bL6yPug/GL9S/5P/wUABwBa/4r+TP4G/6AAswLVBLUGCwiVCDcIKwfzBRgF1QT9BCcF+gRVBEAD0gEoAHb+BP0U/LX7t/vE+5j7LvvH+rr6NPsU/Aj9xP0+/qv+Uf9DAFUBTgIhA+wDxwSPBfgFzAUkBVcEpgMDAywC/wCt/4/+y/0z/YD8o/vb+nX6f/q9+vT6KvuZ+1b8Gv10/Tj9wvy4/Iv9Gf/HAO8BSgL6AVcBsQBFAFAACgGCAnYEWAaGB5sHrAZCBRAEmgPsA5cE6QRFBHoCz//f/Fr6zfh5+Er52vqM/MD9Gv6q/eH8V/yD/JX9ZP+GAXQDuwQlBdAEHAR6AzADOgNfA2cDOQPYAkkCigGVAHP/R/49/XL87ful+5X7vPsP/HX8yvzx/On80vzd/Cv9u/1t/hX/hv+r/4r/Rv8U/yv/n/9IAMwAzgAqABX/Df6X/fz9NP/9AAAD3QQvBp0GCQazBDMDMAIGApcCYgPdA7gD9AK+AVYA/f75/Yf9vP1v/j//u/+g//r+E/5M/fP8NP0Y/oT/NwHQAt0DFAR+A30CngFUAb4BowKbA0EESAR5A8YBY//Y/Nr6+PlG+lH7Yfzk/LL8Bfw8+6j6fvra+rT71vzm/ZD+vP6f/pz+/f7E/68AYwGbAUABcAB6/8L+mP4N/+D/mQDIAEsAYP+M/lj+HP/VACEDVwXKBhAHNAaoBBkDIwIcAvcCUgSNBQIGSQVsA+0AjP7t/FL8jvw9/f/9mv71/hP/EP8b/2r/GAAUASAC9AJkA2sDIQOfAvgBOwF1ALf/EP+N/jH+6v2b/Sf9h/zP+yv7xvq6+gT7jvs8/Ov8fP3g/Sr+jv4+/0kAhQGhAkgDTQO4Ar0BoQCp/wj/zf7h/g7/Hv/x/o3+E/6q/Wf9Sf05/Rv96PzB/O78vP1U/5kBIwRiBtgHQQimB1IGvwR1A+ACJgMRBCYF0QWmBYgErwKJAJL+K/2G/Jj8Hf21/QL+zP0T/RH8KvvJ+j77ofzD/jkBcAPgBDIFYAS6As8AQf+N/tj+5/82ASoCTQJ8AfT/O/7p/Gv81/zl/Q7/y//a/1T/n/47/oT+hP/kABACcQKxAeX/kv14+0L6PPo1+6D8zP07/tf99fws/BP89Pyo/qMALgKzAv8BZgCm/qb9FP4dAFMD0QaOCccKRAplCO8FtwNVAvABOgKdAn8CgAGe/zH9zPoI+Uz4tvgS+vT72f1R/yMAWgA1ABEARQAEAU4C7QOKBcAGOAfIBn0FnwOZAd7/yP59/t3+j/8jADkApP96/gr9vPvt+tD6Y/tv/J39kv4T/xP/tf46/uP92P0Y/oj+A/9s/7T/2v/i/8n/i/8r/8T+ff59/tb+dP8hAKMA0QCsAFoAFgAQAFEAugAVASoB2wA0AG7/4v7r/sf/egG+AwcGsAcxCFgHZAXzAr8AWf/1/lr/BABmACYAPv/y/av8zfuO++/7xfzV/ej+2/+gAD4BwgEyAosCwQLKAqYCYQIPAr4BZQHkABgA7/6C/Rf8EPvG+lv7q/xR/sv/qAC0AAoACP8p/tr9Vf6J/xsBigJiA2gDqQJ0ATQAOv+d/j3+4/1u/e38mPy2/Gr9mf71/x0BzAHtAaABIQGqAFkAKwAFAMD/O/9r/mz9g/wR/Hn89P1tAHQDWQZsCDcJpwgKB+gEzAITAd7/Iv+8/oP+S/7t/Ub9R/wL+9n5Fvke+R76/vtl/tQA2AIpBLwEuQRoBBsEDQRPBMIEGwUABSMEbgIUAIX9Tfvl+Y35Pfqr+2z9Fv9YAAIBDQGaAOb/QP/w/in/9P8uAZICzwOcBMYEOQQJA20Bt/8+/kf95vzz/CD9Hv3M/Ef84vv2+6n80/0Q//T/PwD5/2r/7P66/tH+//4D/7P+Ev5U/c/85Pzd/df/qQLaBbIIawp+Ct0ICAbgAlMA+f7a/nj/GwAoAGH/8v1I/Nr69vm2+RH68vpH/Pz9+P8OAgUEoAWwBhoH2gYHBtIEfANIAmQB1ABpANb/1v5d/ab7JPpZ+Zv57/oD/U3/QQF/AusCrgImAr0BvwFAAg0DwwP1A1wD+QEWAC3+r/za+6r76ftW/L38B/0x/Tr9IP3x/Mn81vxC/RL+F//7/20AUADO/0L/Cv9R//j/rAAWAQIBdQCi/9L+TP5J/vb+aQCOAhEFZQfmCBsJ5gefBe4CgwDR/u79rP3C/fz9SP6o/gz/R/8g/3r+dv1v/OH7MvyG/a3/NgKTBEEG4wZeBt4EzQK5AC3/gP6y/m7/LQBtAO7/yv5l/T78vPsM/Bz9p/5QAL8BsQIEA70CCAInAVoAyv+E/33/nP/K//j/EwD9/5f/2v7o/Q79p/zt/NL99/7a/xoApP/C/vD9lP3M/Wv+Fv99/3//MP/C/mP+Lv4v/mP+uP4J/yT/4v5F/pz9e/1//vcApASwCPgLeQ3BDBYKUQZ5AmL/dv2z/M/8af0k/rP+1f5m/m79K/wD+1/6h/qF+yj9Jf8yARsDtwTdBWEGJAYoBaID8gF9AIX/Fv8E/wv/6v6D/t79If19/Cj8T/wJ/Ur+3f9yAbcCcgOVA0IDsgIcAqcBYAFIAVMBaAFYAeoA9P93/rD8CPvs+Zn5+Pm1+nP7//ts/PT8yP3e/uz/kgCZABQAW//Y/tX+Vv8hAOIATAEuAW4AFf9c/bn72Ppu++b9FgIjB7wLmA73DuUMLgn8BFsB4v6l/Vv9m/0N/nH+lv5U/pz9hPxN+1P67/lR+nf7Of1i/8ABHAQwBqgHMQieBwYGzAOAAaX/hP4d/jT+eP6j/pT+S/7f/XP9MP05/aD9Wv5F/zIA9wCAAc8B8AHkAaMBKQGFAN7/aP9D/13/dv9D/6D+rP25/CH8FPx+/Br9ov38/T3+i/70/lz/jf9i/+3+bv4v/ln+2P5t/9v/CAD//9L/ff/s/hn+Pf3c/J799v/NA2YImwxGD7IP1Q1ACtMFaQGs/Qb7qvmW+Yr6C/xw/Rn+rv1O/Ij6HPmy+Jv5wvvC/hQCNwW/B1UJvwnxCBoHoQQQAuf/c/64/YX9k/2o/aT9gf1I/Qz94vzl/DL91v3F/tn/4gC5AUgCjAKKAkcCxgEZAWoA8f/S////NgAfAH7/Yf4h/Tb88PtS/BH9yv06/mD+c/6q/hD/gf/H/8X/jP9M/y//O/9O/0P/Ef/S/qD+dP4c/l/9OvwT+6f6uvui/gMD3AfmCxgOBg74C7AIDAW+ATP/mf3w/Bf9xP2N/v3+xv7m/a38lfsH+zD7+/sr/Y/+GQDRAa8DgQXtBpEHNQfmBfcD3wEJALz+Ef74/UL+s/4N/yL/5P5v/gD+1/0V/q/+eP83AMMAEQErARoB3QB0AO//cf8i/xP/L/8+/wn/f/7N/T79Cv0s/Wb9av0X/Zr8XfzD/OL9bv/dAK8BqgHuANT/uv7b/U79Iv1o/SP+Kf8VAGgAzP9f/sv8CPzn/KX/uwMTCHsLHw3NDOEKAwjcBPMBo/8p/p/98v3K/p3/3P83/8L96ftC+kn5OPkE+n77ef3P/1QCwASzBssH0AfPBiAFPQOUAWsAzv+h/7T/0v/K/33/5v4e/lr90/yx/PP8cv39/XX+2/5B/7P/KACAAJ8AhABQACsAIgAdAPD/hP/u/mr+Of5q/sn+/P6//hr+X/0A/UX9H/4p/+r/FgCy///+Rf6x/Ur9Df0N/W/9Qf5S/ywATgB8//79nfxK/Kj9rgClBHkIMAtADKoL1wlUB6QENAJdAFz/P//L/4EAxwArAKL+kfyd+lv5F/m7+fX6bvz2/YL/EwGcAvUD6wRdBU8F4AQ6BIEDzQIyArsBbQE8AQwBtwAmAGH/i/7R/VT9Gf0R/Sf9Uv2Y/QH+gP73/kj/a/93/5T/2f8zAGsATgDY/0D/0/7D/v3+Lf/3/jn+L/1R/A38hfx//Yb+Mf9Z/xj/p/4y/sX9Xf0M/QX9gP2E/sb/wAD3AFMARv+c/hj/AwEDBD0Hwwn3CrsKVgk+B+UEqALQAJr/Kf9q/wYAdgBBADT/h/3G+5L6UPoA+0z8wv0L/wsA0wCBASMCrgIRA0UDUAM5A/4CmgIRAnMB3ABnABsA6v+4/3L/Gv/C/nv+SP4e/u79v/2u/df9P/7I/kX/l/+//97/FQBnAK0AtABjANH/Ov/b/sj+1f6w/h3+Lf0//M/7I/wb/T7+Av8e/6v+Af5w/RP92vy3/L78Hv31/SP/QwDkANMASwDk/0sA4wGDBH4H8QkoC+kKdQlZByEFKwOcAYIA5v/E//L/FQDB/7f+Fv1f+zf6Evry+nX8Ef5Y/x4AcgCEAIcAowDuAGcB9AFnApUCbwIGAoIBEQHdAPkAXAHgAU4CdgI/ArEB6gALADD/dv79/dj99P0T/vH9bf2s/A388fuB/JP9xf63/zcASwAeAN7/m/9I/9b+Wf4K/in+xP6d/zwANABm/xn+zvzw+6n74Ptd/PD8f/0E/n7+5f4s/0r/Tv9s////WgGJAyAGXQiDCUYJ9wdGBtME3wNJA9MCWwLuAZ4BVgHWAOb/if4L/eD7Y/ur+4D8ev02/oT+ef5Y/mj+zf50/yMAogDdAOgA5QDwABEBSwGoATUC7wKtAygEIwSaA8UC7wFFAb8ANQCO/9r+PP63/SD9Q/wm+yL6uPk8+pP7Pv2k/mj/jv9d/x3/8/7e/tH+y/7f/ir/vf+DADoBiQEtASYAz/62/Ur9lf0+/sj+8f7U/sT++f5U/3j/IP9u/uP9Ef42/wYB3AIYBHYEHQR6A/YCxQLYAgEDGAMaAyEDRQN9A40DKAMrAsYAb/+Z/mv+sv4N/zX/Jv8J/wT/FP8b/wP/0/6n/pr+wf4k/77/egAxAbkBAAIYAioCUAKFArECwwK8Ap0CXgL1AWYBxQAkAHf/of6X/Yr80fuq+wX8lPwL/Vf9kf3N/fv9+P2//Xn9Xv2H/eP9Yv4M/+z/3QB5AVcBagAk/y3+6P01/qD+0/7Y/vz+dP8dAJAAeQDg/yb/xP4F/+f/JAFVAhoDQgPeAjsCuAGPAbcB9QEZAjECdgIOA88DRwQKBAwDuQGyAFwAmQD2AAwBzgB2AEAALgAMAK//Iv+b/kf+K/44/m/+5v6f/2kA9QATAdwAoACkAO0ASQGNAbsB7QEmAj0CAgJvAaoA5v8z/4T+1P1G/Rb9Wf3X/Sj+Bf6F/Qv9+PxZ/d79G/7s/Zj9nv1P/oz/0wCWAZkBDQFjAPD/vv+b/1T/6f6L/n7+6v65/5cAGwEBAV4Apf9q//j/EwEXAnACEAJrAQwBHAFGARMBXgCE/w7/Qf/q/5cA8ADzANIAuACkAIMAVwA9AFEAkADdABsBPAFBASIBxgAYAC3/Uf7j/Rb+zv6w/14AsgDFAMYAxQCzAIgAZwCRACAB3QFaAkwC0AFMAQwB+wDIAEEAkP8T//v+Hf8f/9j+df5D/ln+iv6h/pj+kP6U/oT+Rv4N/kv+SP+1AMUBzwHmAMj/Nf9L/4D/P/+E/ub9Af7e/uP/WQACADX/hf5T/qT+Rv/+/5wA+AD4AKoASAAXACkARwAhAKL/Df/O/h7/zP9cAGsAAACI/33/BADQAGYBdwEYAawAjwDTADYBWwETAXUAx/9O/yr/VP+r/wsAYAClAOUAKgF1Aa8BtwF8ARgBxQC7AAsBjAH3AREC1QFpAfwAmQAtAKf/Gv+9/sP+Kv+x/wYABADH/4L/QP/g/k/+xP2p/Uj+dP+XAB0B6wBjAPv/0f+q/1T/9P7r/mX/GwCDAFIAu/83/wX/+v7Q/ov+hP7//sX/RAASAF7/z/7p/pX/QQBsABkAsv+S/7D/w/+g/2n/X/+Y/+n/FwAUAAIA/f/3/9H/kP9s/5n/DABwAGwA7f87/77+rv70/lj/u/8qAL4AagH0AR4C2AFZAfQA2ADyAAwBEAEeAWMB0QEQArkBuwCE/73+xP5h//7/KgD3/9P/DwCJAMsAeACr/+H+j/7P/l7/5P8xAEYAOgAgAAYA9P/p/9b/pf9Y/xn/Kv+l/1cA1wDTAFAAo/8u/xv/Q/9e/0H/Av/X/uP+Fv9D/03/PP82/1b/j/+9/8//1f/n/wMAAAC8/0z///4V/3n/yf+z/03/B/9G//b/kQCTAPL/Kv/F/uT+Mv9M/yb/Df9L/9b/XACQAHIAOAAMAOT/q/92/4X//v+1AEMBXQEbAd8A9wBOAX4BOQGcABkAEAB5AO0ACQG/AF4AOwBbAHEAMQCg/xv/A/9r/w8AkQDAAKgAawAXAK3/Rv8a/07/wv8hADMAFQAbAG0AzADKAEwAwP/H/44AiAHhAUcBOQCZ/9b/jADrAHwAhv/B/qD+9/5F/zD/yf5j/j/+Xv6k/vf+SP+G/6f/xf8VALMAbAHTAZUBzQD3/5H/s/8KADEACQDD/53/qv/W/wYANABbAG0AVwAlAAkAMgCYAP0AJgEYAQoBIgFDASQBoADl/1v/Uv/F/2cA5gAhASYBDgHmALsAowC2APIAMAE8AQQBrwB5AH0AlAB9ABsAmP9G/1b/q//y/+3/rf+F/7X/LACVALIAkwCFALkADgEvAesAbgAWABMAMQAWAKf/K/8C/z3/i/+I/zP/8/4n/73/OAArAKb/MP9E/9z/fQCxAHgAOwBSAKoA1gCFANb/QP8k/3H/tf+R/xX/sv7V/n7/QgChAHAA9P+f/63/AwBYAIEAjACZALIAwQC0AJIAbwBOABsA1v+z//X/nQBAAVIBrQDM/2v/2v+pAAcBkQC1/0//yv+uABMBfQBX/4X+k/49/8f/tv88//P+O//m/28AfgAqANH/wv8IAHMAwQDJAIkAKADc/8r/5//6/9D/bv8Z/xP/Wv+i/5n/Nv++/oz+yP5O/9X/IAAbANj/h/9n/6v/SQDnABIBngDa/1f/Z//R/wcAsP8H/6b+8/67/2IAdQANAKj/rf8VAIcAtwCpAJcApwDKANwA1ADKAMoAuwB4AAgArv+4/y4AtwDXAFwAkv8E/wr/hf8FADEAFQABACwAewCbAF4A6P+Q/4P/m/+J/zb/4v7l/k//0/8PAO//t/+9/w0AXwBpAC4A+v8KAEYAXAAXAJ//T/9k/8P/GAAhAOP/kP9U/zT/If8c/zT/cf/G/xcATQBcAEsAKwAZADcAjwD4ACQB2wAtAHf/Hf9B/6P/2/+x/0j/+f4D/13/vv/c/6P/S/82/6P/dgA7AXgBDAFVAO//MgDkAGMBNwGBAN3/1P9hAPsAFwGdAPH/jv+Z/9T/7P/H/4//ff+q////UgB7AGkAKADd/7r/2/8qAGYAUgDs/3f/QP9d/6T/3P/2/xYAYwDNABAB6gBiAMz/iP+z/xAAOADy/2j/Av8L/2z/w/+4/0//4f7G/vn+If/2/pv+hP78/s3/ZQBoABAA9P9oABgBVAHKAOL/Yv+l/0YAhQALADj/t/7Q/jD/Vf8l//7+Pf/L/zgAOwABAO3/FwAxAOr/bP9H/9r/zgBOAdwA4f9c/+n/IAHoAYIBQAA3/z7/KwAPASEBcwC7/47/2P8RAOL/hf97//X/kwC9AD8Ae/8A/wL/Ov9H/yb/MP+m/00AnQBOALH/a//S/48A7gCMALf/H/8m/4z/xf+Y/1b/eP8PAKAAlwDc//L+g/7J/mv/2f/S/4f/YP+b/ygAugABAdoAZwACAAMAfwAiAWEB7AAHAF3/bv8PAI4AVAB+/8X+2f67/70AHgGzAPX/gv+U/+z/MABBAEgAegDiAF4BtQG7AV8BtgAGALD/7v+YACgBIwGFAMn/ff/C/zcAXQAXAML/zf9DALoAwQBOAMT/lv/W/ywAMADT/2T/Rf+S/xAAawB+AGcAYgCFAK4ArAB5AEUASACDALMAiQD6/17/Kv+J/yUAbwAaAGL/2v7q/nj/CAAtAOj/nP+q/x4AswAUAR0B4gCWAGcAbgCqAPoAJQH5AHkA7f+z/+n/SwBlAAYAc/88/7v/tgB8AXQBnACQ/xf/hf9/AEIBQwGTAMn/g//p/50ACgHgAEwAyv+6/xwAmwDcALoAWgABAOf/DwBKAFYAEQCY/zn/P/+u/y0ARgDE//L+Yv57/iD/yv/7/6T/Kf8G/2P//v9uAHoAPQD///r/MgB8AJkAcAAXAM3/xv8AADgAJwDH/2H/TP+X//T///+f/yb//v5A/5z/rv9p/x//Iv9t/7D/sP+M/5z/AgB6AJYAPADL/8P/QADdABUBxQBIABYATgChAKsAXAAEAPP/KgBaADgAz/94/4P/8f9xAK8AmwBpAF0AhgC1AKsAWwD4/8n/6f8zAGUAXQA2ACkAUgCMAJUATgDb/4L/aP96/4X/a/84/wr/8f7l/tr+2f77/kX/mf/M/9H/xP/T/w4AVwB3AEsA5v+M/4b/5v9wALsAewDB//7+sP72/m//jv8b/3H+MP6n/oP/FwD4/2X/CP9S/xYAtwC+AD0Asf+R//H/hgDwAPgAogAZAJ3/cv+7/1AAxQC6ADcAt//B/2sAOQGHASUBhQBPALsAVQF1AeQAGgDJ/zIA6AA5AdAABwCE/6H/KwCiALkAkwCFALMA6gDfAIkAKQABAAwABQC5/0X/Av8m/4b/vP+O/yr/9v4i/3//uf+5/7n///98ANEAqwAmALn/vv8WAE0AGACr/33/yf9DAGMA8f9E/+/+L/+v/+T/m/8i//X+Q//H/xMA9P+Y/1n/a/+6/xAAQAA9AAwAvP9p/zn/P/9v/5//qf+I/2L/ZP+g//v/RABZAEIAJgAzAHgA0QD4AMAARADf/+P/SwCzAKcAEwBd/xL/Zv/8/0EA9P9g/xb/aP8lAM4ABgHaAJwAiwCmALwAowBYAPf/of9v/23/lf/D/8r/mP9V/0n/lP8MAFoASgAAANL/9v9FAGYAJwC1/2z/ev+0/8z/pv9u/2f/mf/N/8f/j/9m/3r/rP+2/33/Pv9O/73/MgA+ANL/Vf87/4//5f/O/1X/+/4x/9T/QwAFAFH/5/5M/zwA4gCsANz/S/+N/14A7ACwAPf/iv/U/3kAwABfAM//y/+DAGIBpwEpAXwATQCnAPcAtQAGAJr/7P+0ACcBxADm/3D/7f/9AKkBTwE0AD//Jv/T/4cAlADw/y//8P5U//D/OQD//4v/WP+q/1YA4ADiAF0Auf95/9P/iQASAQcBcAC7/2T/kP8DAFYAUAAQAOL/9f8wAEsAEwCc/zf/Nv+g/yYAXQAXAIn/Iv8v/5//FAA3AAUAyv/S/yEAdwCTAHUAVABfAIsAngBxACAA8/8ZAHYAvwDFAJkAdQB5AJAAiwBdADIAQgCSAN0AzABLAKH/QP9o//n/iwDEAJsAVwBHAIEA1wAEAe0AtACUAKgA1gDoALkAVgD1/8//8P8wAEsAGACf/yH/5P4A/0v/fv9u/zL/D/82/5j/9/8nADcAVgCSAMAAqABKAO3/3P8ZAFEANADR/47/uv8qAFUA5P8W/5j+3v6r/z8ACgA7/5f+vf6N/0kARwCO/8H+iP78/qX/8P+x/zX/9P4s/8X/cwDpAPsArQA6APr/KgCzACUBCQFPAHn/O//c/98AXwHbALP/4P4c/zUAMwE1AT8AOP8P/97/1wAHAToAKP/D/lz/YADqAJsA3/9x/53/BwAdALL/LP8S/3//BAAdALf/Rf9E/7X/HQAEAHX/Av82/wsA3AD2AEIAXf8Q/5X/ZQC5AEYAhP85/7n/iQDWAEQAVv/w/n3/dwDjAEgALv+i/ij/NwC8AC4AH/+s/mD/oAA9AakAiv8X/93/LQG9Ae8Aa/+H/gP/WABBAe4Au//C/tH+vf+sAOkAeADp/73/9/87AEAACwDU/8D/zf/y/zUAlQDsAP4AuABhAGkA/gC/AfoBSgELABv/Iv/5/80A2wAYADX/9P59/0cAoQBWAMX/dP+R/9v/+v/c/7n/zv8XAFwAdABvAHMAggByACcAy/+5/yIAzAAqAdoACQBi/3b/PwAYAUcBnQCi/xr/YP8bAJcAYQCo/w3/E/+r/0oAaAD4/2v/Rv+p/zkAdAAlAI//LP89/5b/2f/M/43/bf+Y/+j/EgD2/8T/0P84AL0A9QCmAAUAjP+Q//j/VABKAOT/iP+W/w0AiQCeAD0Ax/+y/yIAxwAgAeQAMgBz/wv/Hf+E//b/MwAXAK3/Lv/u/iH/pv8OAPP/W//D/sD+df9iAMwAaQCx/3H/BwD+AHMB7gDb/zL/lP+xAJIBdwGBAIH/L/+V/ywAdABlAEsATQA7ANn/Tv8e/5z/bQC/ABUA5f5C/tv+NgAMAX8ACv8g/sv+kQDSAVEBcv/0/VD+TQAkAiYCTgBH/tr9SP8kAbYBmAD2/lv+Ov+cAC8BjQCC/x//nf9HAEwAq/8q/3b/XgAAAboA1P81/3D/KABzANX/0v5w/ib/VQDeADsADf99/hr/SADXACsA1v4M/oH+x//GAMoAGQCQ/73/ZADYALQAQAASAGUA3gD0AIgABADm/zsAlAB/AAEAkP+X/wAATwAoALT/eP/B/1IAmQBEAJb/LP9o/xQAmACKAA8AqP+z/xsAegCGAFEAKQBCAIMApwCMAFgATgCJAOMAFwEDAb4AfwBqAHgAhQB5AF4ATABQAF0AWgA4AAAA0P/C/9j/+f8OABcAKABTAIkAoAB3ABcAvv+s/+f/LAAtAN7/hf96/9D/PgBgAB0AxP/A/ysAqgDGAGIA3/+8/xkAlQCpACkAav/0/gX/av/H//X/EAA7AGQAXAAfAO7/FQCJANgAkQDF/xL/Gf/Y/6MAwwApAID/g/86AOMAtACq/6L+if5x/3oAogC4/43+Mv74/jQA6ACrAPP/iP/A/0AAdQA2AOX/7/9KAHoAHwBr//3+Qv///4IASgCL//r+GP+2/ysADACa/3z/AwDIAAMBWABG/73+O/9LAO0AjgCN/97+Gv/w/34AOQB2/w//d/8+AIQA4//m/oX+Kv9EAMsARQBC/8z+X/9yAAYBogDF/1//1v+mAPUAeAC6/4P/BQCwANgAbgAOAEgA8QBDAbIAmf/3/m7/lQBPAd4Apf/M/hn/LQDgAHQAVv+3/lP/pwBnAbwAHv/w/T7+yP8/AXYBYwAO/5P+Nv9JAOcAvAArANH/6/81AEkADgDG/7z/+P88AEQAAQCj/2P/WP9s/33/gP96/2//U/8f/+T+zv4E/4D/AgAvANr/MP+n/qj+O//9/2EAHwBv/9/+4/52/ygAfQBMANX/f/9//7f/3f/H/4//c/+b//j/VQCAAG8AQAAjADkAegC+ANUAqABUABcAIgBxAM4A/ADnALIAkQCbALcAwgC2AKgAoQCGADkAzv+Y/+j/sgBzAZIB7wAXANr/kQDBAXwCKQIOARUABADPAK4B0gEaASYAvf8fANcALQHFAOz/Uf9w/y8A9gApAZoApP/r/uf+kf9sANwAlgDP/xD/1/5A//f/fAB8AAIAZv8J/yL/o/9BAJ8AhgANAI7/af+4/zIAXwADAGP/FP91/0gA2QCaAKv/zv7D/qP/wgBBAcsA0/8o/0X/+/+vAOMAhQDm/2v/Sv9//97/KwAvANn/Wf8K/y7/pv///9j/RP/M/vT+uf+EAKwAGgBi/zn/yf+NANMAZgC3/2v/t/87AG4ALQDZ/+H/SACmAJYAJgDD/8T/DgAyAOX/Wf8S/1n/5/8hAK//1/5K/ob+af9LAIoADABK/+L+F/+t/y8AVQAyABMAMQB+ALIAkAAjAL3/uP8oAMQAEgHFAPr/Kv/R/hf/wP9kALgAtAB+AD8ACgDp/+7/JwCAALoAmQAeAJT/Xv+k/yUAbwBBAMv/g/+7/1EAwQCdAPX/Vv9V/wQA2gAgAY8AlP/+/k3/QgAOAQEBKQBB/xP/xf+9ACoBtQDD/xT/Fv+Y/xAAJADt/7z/u//H/7P/jv+g/xAAmQC4ADEAYf/3/k7/CgBiAOH/4f5F/qL+qv9uADoAQv9z/pn+pf/EABkBewCF/wb/Uv8YAL8A5wCaACIAyP+8/wUAiAD/AA8BjQC2/xj/Iv+9/1EAQQCB/63+iP5G/1QA1wBsAHr/1f4F/9v/pgDRAFcAtP9t/6r/LgCaALQAfgAlAN7/0f8GAF4AnACGABoAoP99/9z/ewDZAKIA/f91/4P/JwDcAAUBdACS/w3/Rv8EAKkAsAAaAGj/Nf+0/40AIwETAX0A3f+p//T/agCeAGgAAQDE/+P/NwBoADgAvP9L/zX/jf8dAI4AoQBWAOf/pP/C/zwA1AA1ASgBvgBDAAkAJwBpAIEASgDi/5P/jf/C//L/5/+i/1b/Of9e/67/AAAuACoA/f/G/6j/vv8BAEMASwAJAKz/g/+2/yAAaQBTAPH/m/+h/wQAdACVAFMA6v+w/8v/HABfAGYAOQAHAPz/JQBrAKsAwwCiAFIA+//V/wIAcgDoABkB4gBgAOH/sv/p/2AAywDuALkAUwD3/8z/zv/a/9v/2//5/0AAiACKAB4Adf8H/zr/AQDXACABpwDD/xT/AP9s/+b/EwD2/9T/2//0/+r/sP98/5L//P9yAJUASQDI/27/Y/+G/5//mf+Q/5//uv+0/3r/Nv8y/4r/AQA1APn/hP9B/2r/0P8FAMf/Rf/5/jP/y/8/AC8AsP8+/0r/1/96ALUAaQDs/7n/AwCRAPcA9gCrAG0AfgDUACsBSQEpAfYA2gDbAOMA3ADEAKgAkgB6AFMAIwABAAAAFgAiABAA6//W/+n/DgAUAN3/gP8+/0//sf8fAEQA+P9e/8n+gf6Z/u7+Qv9f/y//xf5I/ub9v/3e/TX+nf7t/gj/6v6n/mL+R/5x/tv+YP/N//3/7v/B/6H/rP/l/z4AqAAXAXwBwgHfAeEB7wEvAqkCNwObA64DegMyAwUD/wICA+cCmgIyAtwBvQHVAf4BAwLBATwBngAgAOX/3//c/6z/Pf+n/hT+p/1m/UT9Of1F/WH9c/1Z/Q/9vfyi/OH8Yf3X/QD+0/2K/W39mP3r/TT+VP5R/jn+Df7D/WH9FP0W/Xf9Af5b/lL+C/7p/UP+IP8yABkBowHiAQUCKwJXAo0C4wJuAx8EtQTfBIAE1gNWA1oD2gN0BLQEZASlA8sCIwLIAaYBlQFzAS4BvQAqAI7/Cv+y/oX+cv5l/lb+Q/4t/gv+1v2f/Y39xP0+/sX+FP8D/6f+Qv4Z/j/+l/7o/gP/2f5//iD+4/3h/RX+Wv58/lr+Af6k/XH9bP1w/Vj9Kv0h/Xb9Iv7O/hn/8P6y/u7+8/+EAfoCvAOwA0oDLgOzA68EqgU+BlAGCgamBUQF6gSeBG4EWwRDBPIDSQNiAoAB3QCHAFkAKQDp/6f/aP8R/4v+6f10/X79C/64/vT+eP6H/cf8yPyV/a/+bv97/wf/jv5w/rj+LP+L/7z/y//E/6D/TP/M/kf+8v3m/RP+Sv5c/jD+zv1X/fT8x/zg/DH9jv3H/cP9lf1t/XP9sP0V/pb+Ov8SABwBLQICA3EDjwOnAwgEzQTMBa0GGgfsBjwGWAWZBEcEawTJBP0EtATaA6wCjAHDAFkAIgDz/7//iv9I/9X+GP4y/Yv8jfxH/UP+y/5q/k39KPy8+0v8c/14/tD+eP7f/Yz9w/1x/kz/AwBiAFoA+/90/wD/0f7p/hv/Jf/j/mf+4v1+/UT9KP0k/UL9i/3g/f39q/0A/Wb8XPwY/U7+Xv+//2j/2v7G/pP/GgHKAgYEgQRkBCIELQSyBIoFXwbcBtoGbQbOBTIFsARCBNsDeAMZA7YCNAJ2AXwAfv/R/rD+BP9t/37/Bv8v/mL9//wf/ZL9BP43/hb+s/06/d/80Pwf/bX9VP66/sb+kf5b/lr+lP7o/jX/c/+t/93/5P+g/xv/m/50/r/+Nf9g//j+Jf5l/Sn9gf0R/mP+SP7y/bn9y/0M/kH+Uv5b/oz+7f5O/3P/V/87/3n/OABPAV4CFANbA18DYwOdAx4E0QSGBf0F+wVxBZMExwNmA4ADzgPhA3ADjgKUAdoAewBSACgA4/+Q/0j/Df/J/mT+5f10/T39S/18/Zr9fP0d/ab8V/xl/Nf8fP0E/jL+Cf7S/e79jP58/0oAlABUAOL/r//z/4IA+gANAbcAMACy/1f/Gf/t/tP+yv7B/pz+S/7m/aL9pf3j/Sn+T/5X/mX+kv7Q/vj++f7z/ib/rv9lAPwASQFrAbIBUQIsA+YDNAQeBPsDIgSdBCMFWAUXBYUE6QN3AzcDEgPyAtACngJCAqMBzwACAIT/eP+7//j/4v9n/7T+Ff7A/cT9Cv5m/qX+oP5M/sv9W/07/YH9B/6J/s/+0f6y/pz+pv7V/ib/lf8RAHgAnABnAPX/jP9p/5H/0P/e/5b/C/9w/vf9tf2n/cL99v0o/jL+A/65/Zr94P2A/ij/c/87/7/+dv6t/kv/6v8wABYA4v/k/zcAtgAzAaEBEwKXAhMDWANPAyEDHQN0Aw0EkQS2BG4E7ANxAyID/QLyAvgCCgMLA8kCHwIoAUEA0/8HAKIAKQEyAasA3P8v/+f+Bf9a/6z/zv+l/y3/ef63/Sj9//xC/cP9Of5t/lL+Bf63/ZX9s/0I/nX+zv7r/rj+Rv7J/Xn9df2x/Qn+Uv5w/l7+LP72/dr98v0//qT+7P7s/qn+Wf4//nn+6v5S/3n/Xv8t/xr/Mv9c/3j/gf+L/63/6P8jAEoAYACEAM8APgG5ASYCgALNAhMDSwNuA4MDoQPaAyEESQQpBMkDYwMzA0cDawNWA+UCQAK7AZABrwHNAacBOQG+AHoAhgC7ANUArABLAOD/lf93/3f/ev9n/zL/2f5n/vL9lP1k/WL9eP2H/X39WP0j/er8ufyf/Kj83Pwy/Yn9uf2r/Wv9H/3w/PD8HP1d/Zj9uv28/aP9gf11/Zj97v1c/rz++f4g/0v/jP/W/w4AIgAeACMAQQBrAIEAdgBhAGYAlwDfABMBHgEWATEBjgEYApwC8gIfA0oDkAPhAxUEFAT1A+gDCgRIBGsESwTyA5IDVwM9Ax8D4AKLAkICGwIIAuIBkwErAdUArwCsAKcAigBfAD8AMAAWAMz/TP++/l7+Qv5F/ij+yv1D/dH8pfy7/OL84/yx/G/8TPxe/JH8wfzQ/L38nPyK/J782Pwq/X39uv3d/fT9FP5I/on+xP7o/vv+Ev8//3r/p/+v/5j/gv+P/8z/JABwAJQAjABmADcAEgAKACwAdADHAAMBEgH9AOwADQFyAQYCnwIfA38DyAP9AxoEHgQZBCYEWASiBNgEzgR9BAgEoQNlA0sDNAMFA7oCYQIJArQBYAETAdkAtwCgAHwAPgDs/6D/cP9V/zL/6f57/gT+qf19/XX9df1k/Tv9CP3h/NP83fz2/Bb9Nv1U/XT9lv21/cz92v3n/f/9Jv5W/nj+df5J/gz+5f3s/Rn+Tv5q/mL+SP47/k/+gP67/u/+Df8T/wP/5v7N/tD+/f5K/5X/vf+5/6L/ov/Z/0YAyAA4AYoBywERAmsC1QJFA7IDGQR5BMQE6QTeBLEEggRoBGMEWQQqBMoDSgPTAoQCYAJOAi8C9AGiAU4BBgHNAJwAbgBGACoAFAD4/83/k/9X/yX/Av/k/r7+jP5Y/jD+Ff76/dX9rP2P/Yj9kf2U/X39Uv0w/TD9Tf1j/VD9Ff3V/Lz82fwN/Sv9Hv3//Pz8K/13/bb9zv3M/dj9Ef5x/tH+DP8d/x7/K/9J/2r/fv+C/4X/m//N/xEAVgCOALUAzwDrAB8BfAH7AXwC1ALuAtkCyALpAkQDrgPuA+kDtQOCA3QDhwOWA34DNwPaAoUCRwIaAvIByQGcAW0BQQEaAfwA5ADOAK8AgABLACAABQDu/8P/c/8M/7T+jP6P/pP+b/4c/r39gf1//aD9uP2p/X39VP1E/Uv9V/1Z/VT9VP1j/X39lv2j/aX9oP2Y/Zb9p/3a/S3+h/7E/s/+sf6U/qH+4/49/4P/oP+f/5//sv/S/+v/8P/n/+b///8xAG4AqQDZAP8AHwFFAX4B0AE1ApgC4wIMAyIDPQNnA4wDigNXAwoDzwLCAtkC6wLUApICRQIOAu0BywGWAVwBPAFJAXEBiQFrAR0BygCeAKIAtQCuAHcAGACs/0n/9f6s/m3+OP4L/tv9pv14/WX9c/2R/aD9jv1k/UP9RP1i/X39ef1h/Vv9h/3e/TP+WP5B/hD++f0Z/mL+qv7U/t/+3/7o/v3+EP8X/xX/Gv80/17/hP+S/3//VP8m/xD/JP9g/7L/AwA+AGMAhQC6ABEBhAH/AWkCuQL6Aj0DiwPcAx4EPgQzBAYEywOUA2gDQgMZA+gCsgJ/AlgCOgIeAv0B2gHBAboBwAHGAbYBgQEpAcIAaAAtABUAEgAKAOD/if8P/5L+Mf79/fL99f3p/b79fv1B/Rv9Ev0g/Tf9Tf1d/Wf9a/1l/Vf9S/1N/V/9eP2M/ZL9kP2T/an91P0I/jb+Wf53/pf+uP7W/u3+Af8b/0L/cf+V/53/iP9o/1f/bP+s/wgAZQCrANMA5wD9ACoBewHqAWACwwIEAyYDNQM+A0sDXgN4A5cDuQPXA+IDzgOcA1sDHwP6Au8C7QLYAp4CQgLfAZEBZgFVAUMBGgHaAJ0AewB4AHsAaAAyAOX/mv9h/zP//P6z/mT+IP7y/db9vP2Z/XL9Uv0+/TD9J/0m/TH9Q/1M/T/9IP0I/RX9Tf2V/cP9wf2e/X/9gv2u/fL9OP51/qf+zf7i/uT+4/7z/h3/Vv+J/6b/r/+4/8r/2v/W/7j/lv+T/8b/JgCMANcAAAEeAUoBjgHiATgCiQLZAi8DhQPKA+sD5QPCA5MDZwNHAzcDMgMuAx8D/QLHAoICOgL4Ab0BigFiAUkBPgE2ASYBBQHWAKgAiAB3AGQAOADs/4r/Jf/Q/pD+X/4w/vv9wv2L/Vv9Of0o/ST9Kf0u/Sv9IP0V/RX9JP0//WH9iP2x/dj99/0H/gr+DP4f/kz+hf6z/sb+w/67/sD+1v7y/gr/IP89/2T/hf+J/2v/Qf8t/0b/iP/V/xEAMwBGAFoAcQCJAKkA4AA3AaEBAgJEAm0CnALvAl8DwgPvA+EDvQOqA7EDtgOTAzwDyQJiAh0C9wHiAdQBzgHOAcgBqQFvASwB9ADKAJwAXAAUAN7/yv/J/7L/af/7/p7+fv6X/rf+rP5p/g/+yv2w/bL9tP2n/Zr9of2//eX9/P39/e392/3V/dz98P0M/iT+LP4l/iD+Nf5s/rb+7f71/tD+pP6b/sD++/4o/zH/Hv8I/wH/C/8X/xz/Hv8s/07/hP/B//f/GAAlACsAQwCBAOcAYgHVASYCVAJzAp0C2gIcA0sDWwNQA0ADPQNMA2EDagNhA0YDHgPrArECbgIrAvIBygGvAZUBbQExAe0AtwCeAKAAqwCuAJ8AfgBNAA8AyP9+/zz/CP/a/qX+ZP4l/gD++/0D/vf9yP2F/Vf9Wf2E/bD9vv2w/ab9tv3Y/e/95P2//Z39mf2z/dn9/f0j/k/+fv6i/rT+vv7V/v7+I/8p/w//8v73/iX/Xv94/2X/RP9G/4D/1/8bADAAIwAXACUATgCIAM0AJQGZASICpwIQA1UDegOKA40DkAOeA7sD2gPlA8kDiQNBAxAD/QLzAtUCnQJdAi0CEgL9AdcBlwFGAfwAyQCuAKQAoQCbAIUAWwAgAOP/sf+G/0r/6v5p/uf9if1g/WL9d/2I/Y79jP2C/Wz9Tf01/Tf9Wf2L/bf9zv3R/cn9w/3C/cf91P3v/RX+Of5K/kb+O/4+/lv+j/7J/vf+D/8T/w7/Df8d/0X/ff+w/8n/xf+y/6X/q//I//n/PQCYAAMBaQGsAb8BtAG0Ad0BMQKcAgIDVQOVA8YD5gPvA+EDyAOxA5oDeANFAwUDwAJ2AiACvgFmATsBVgGlAe4B9gGqASsBrwBcADcAKwAiABUAAgDk/6//Yf8H/7n+h/5v/mb+Zf5r/nX+fP5x/kn+Bv60/WL9G/3t/O78Lf2g/R7+bv5j/vf9Uv2y/FP8Vfy6/Gb9JP62/u3+x/5s/hf+9f0U/mX+0/5K/7X/+v8DAM7/d/8t/xP/J/9K/2D/Zv9x/5H/xv8CAD4AfADIACkBnAEeAq4CSQPcAz8EUgQbBM0DogO2A/IDIwQjBPIDqQNgAxUDuwJPAt0BeAEnAeMAogBkAC8ACwDz/9z/wf+l/4j/Zf8z//T+tf6B/lr+M/4G/t/92v0O/mz+xf7o/sr+gv5A/iT+Mf5W/oD+n/6n/pL+Zv41/hf+GP4y/lD+Xv5Y/kP+Jf76/cf9oP2k/eP9Sv6r/t7+2v68/qz+vP7c/vL+8v7j/tn+4v4E/0H/l/8EAIMAEQGtAV0CJgP7A7sEQwWCBX0FTQUPBdQEogR8BFwENQTwA38D4AIlAmQBswAbAJ//QP/6/sP+if5G/gb+3P3R/df91/3H/bP9u/3r/TH+aP5y/lL+Iv4C/gH+Hv5Y/rH+IP+L/9L/5v/X/8L/t/+u/5f/bv9H/zX/Mv8Z/8z+Uv7W/Yb9bP1x/XX9cP12/Zv93f0h/k/+Zv53/o7+qv7F/uT+EP9O/5P/z/8DAEwA0gCkAasCvQO7BJ0FYwYBB10HYwcXB5kGDAZ8BeEEMARwA7IC+wFBAXkAqf/k/jz+sf01/b/8WPwa/BH8M/xo/Kf8+vxr/e79Y/6t/sb+xP7G/t3+A/8v/2D/nf/j/yMATgBfAF4AUwA5AAMArP9J//z+2f7Y/t3+1f7A/qn+kf5t/i3+zP1d/fz8wfy3/OD8O/3B/Vv+7f5k/7z/+v8fACcAFAD3//T/LwC0AHQBVgJQA2gEmQXJBsoHdAi1CJQIIAhmB3EGVgU4BDgDZQK8ATgB1wCOAEMA0f8d/zL+O/1u/N77gPtC+yb7Qfum+0f89vyK/ff9Tv6d/t/+A/8E//H+5/76/iz/cv/G/yUAfwC2AK8AbQAQALv/dv8q/8D+O/7C/YD9ff2b/a/9pv2H/WX9R/0r/RH9/vz8/A39LP1W/Zv9Ef6//oz/TgDnAFMBnQHPAewBBAI+As4C1gNABcYGFQj3CGEJXQn4CDwINgcBBr0EiQN3ApQB7QCGAE8AHQDK/0z/wP5J/vT9rf1W/eX8c/wn/Bb8OfyC/Oz8fv0y/uz+gv/W/+b/x/+W/2r/Tv9H/1n/ev+U/5f/i/+H/57/w//K/4j/+/5N/rP9SP0H/d38u/yl/KT8t/zV/Pf8I/1d/Z391f3//Sb+XP6r/gb/Wv+d/9n/IwCDAPUAewEuAi4DhAQLBnsHkQgyCWoJVQkCCWwIjgd1BjoF+QPJAsMB/wCIAE0AJADd/2b/0v5H/tn9fP0c/bf8Yfwy/C/8S/x5/L38Jv2+/XD+Fv+P/9j///8TABkADQDv/8j/nP9o/y7/AP/1/hb/Rv9T/xT/jP7p/WP9Ff3v/M/8o/xt/Dn8D/zy++n7APw+/J38B/1n/bz9Ff5//vL+YP/E/yoAmwASAX4B2wE9As4CqwPGBO4F8gbEB3IICgl7CaAJVAmKCFQH1wVABL4CfQGYAAsAsP9f/wj/vv6Y/pj+o/6U/lr+Af6g/UP95vyN/FL8Wfy0/E/9Af6k/iz/oP8KAGgArADNAMgAmQA8ALb/Jf+x/nb+af5g/jT+6f2m/ZH9rv3Y/eD9rP1E/cL8O/y7+1D7DvsD+yv7cvvI+y78rfxK/ff9nf4v/7D/LACgAP4ARgGVARsC8wINBDYFOgYEB6IHKgicCN0I0QhsCLUHugaOBUsEEAP3AQYBKgBN/3X+wP1O/Sf9Mv1Q/XH9nf3h/TP+df6O/oL+a/5f/l/+Yf5k/nn+tv4k/7f/UgDaAD8BcAFdAQMBegDq/3L/D/+o/ib+lP0Y/dn82/z//B39Jf0j/ST9KP0l/RL98vzP/K78ivxl/FD8Yfyg/AP9d/3w/XP+Cf+s/0gA0gBZAf8B1wLQA8AEhgUdBp0GGweQB9wH3AeHB+YGCgYIBfQD4wLoAQQBJgBB/1/+o/0p/fL84vzX/Mb8vvzS/AT9Qf13/a399f1W/sH+Gv9R/2z/hf+x//X/SQCgAPEALQFAASEB3gCXAGMAOgD//5n/DP96/gj+vv2I/U/9Ef3j/NX85fwB/Rv9MP1F/Vv9av1t/Wn9cf2P/b799f00/oj++/6D/w4AkgAhAd4B4wIgBGUFfQZSB+YHQAhbCCgIpQfgBvQF9wTwA+IC1AHWAPH/If9h/rb9Mf3a/KX8evxH/BX8Afwg/Gv8vvz9/Cv9ZP3B/T/+yP5D/6b/9v84AGwAjwClALgAywDSAMAAkwBZAB0A3v+N/yb/vP5z/lr+Xv5V/h/+w/1l/Sn9GP0Z/RH9+fzc/Mv80/z+/FD9x/1S/tj+Q/+T/9r/LgCSAPcAWQHOAYACiAPUBC8GXQc8CMgICAn6CJEIywe9BosFVAQoAw0CAwEHABP/If46/Xn8BPzv+yb8c/yi/Kb8lfyR/KX8yPzq/A79SP2r/TP+yP5O/7v/EQBWAI0AvgDxACgBUQFSARIBmgAQAJ7/Uv8d/+T+m/5Q/hX+7f3I/Zb9XP0u/Rb9Dv0C/en8yPyx/LP80fwM/Wb94/16/hD/jv/2/2EA7gClAXgCUgMrBBAFDQYaBxUI1ghJCWsJPQnACPsHAQfyBeQE2QO4AnABDQCz/o79tvws/N/7vfu0+6/7m/t6+2n7kPv++578QP29/Qr+O/5q/qP+5P4u/4z/AQCCAPEAMAE4ARoB6QCtAF8A+v+C//7+dP7s/XP9H/0A/RP9N/1G/TH9Ev0T/UT9i/24/aj9YP0I/dH82Pwj/aP9Rv71/qD/QwDvAL4BuwLVA+sE4QW1BnQHJQi3CAsJEwnkCKEIXQgGCHMHhwZEBc0DUQL1AMr/0f4C/lD9rfwV/Jn7Tvs5+0T7UvtZ+3H7xftl/DX9+f1+/rj+yf7g/hr/cv/V/zAAfAC2ANwA8QD1AN8AmwAYAFj/fv6+/T79//zd/LT8e/xI/DP8Qfxf/HX8efxz/HD8c/x3/Hj8gfyk/PH8b/0h/gL/AQD+ANsBkAI1A/cD+AQwBm8HfAg7CbQJ/gklCh8K1gk2CTwI+AaHBQ0EswKXAcAAEgBn/6b+1/0V/Xf8BPyx+3H7QPsj+xr7Ivs7+3f77Pui/Ij9ev5U/wEAfgDRAAMBHAEmASwBLgEbAdwAcADv/37/M/8I/9v+iP4A/lD9lPzs+3D7MPso+z77T/tE+yP7Dfsk+3X77ftr/Nz8R/3C/Vv+Ef/Y/6sAjQGFApgDwgT5BTAHWAhZCRoKjAquCoIKBAotCQAImgYrBeQD2QL6ASEBNgBE/2v+xv1V/Qj9wPxr/AT8l/s4+wH7Afs0+4r78vtt/Af90P3B/rf/gwAHAU8BewGmAcwB1wGvAVMB2QBjAAYAwf9//yf/qP7//UD9kfwU/NL7s/uR+1P7/fqt+oH6hPqq+uX6Ofu0+1/8Lf0D/sr+fP8rAPYA9wE1A58EFgZwB4sIVwngCTgKYwpNCtYJ7QilBzEGzASUA4QChAGDAIb/nf7a/Ub94Pyb/GP8JfzV+3T7FPvR+r763/o0+7z7dvxd/V7+Vf8mAMgASQG2AQ4CQgI/AgMCoAE4AekAwAC5AMAAtQB0AOX/D/8V/iX9YfzO+1z79/qZ+kz6Ivoj+lT6tfpE+/P7q/xT/dv9Rv6p/iL/x/+nAMoBNQPbBJcGOAiPCYMKDAsrC+MKNAonCdUHZgb+BLYDlwKkAdgAJwCA/9n+NP6c/Rr9p/wt/Jb74fou+qz5gPm4+U36Jvso/DX9Lf71/oT/4/8iAE4AbwCJAJ4ArwC7AL8AugC0AL4A4QALARMBzgAqADv/Lf4y/Wr83PuC+1D7PPs++1b7ifvb+0X8sfwI/Tz9Vv1y/bH9LP7v/gAAZQEZA/4E4gaKCMoJjQrWCrUKOApuCWsITActBiUFQQSIA/YCdgLoATABRgA5/yj+L/1W/Jb76PpW+vX52vkP+pT6WvtN/FH9Qf75/mb/if94/1L/NP80/1v/pv8JAG0AuQDgAOUA0gCoAFcAzf8E/wr+BP0e/Hv7LPs0+4b7BvyK/Oj8CP3q/KL8TPwE/OD76vsp/J78S/0w/lX/wwB7AmUEUAYCCE8JIQp5CmcK/QlQCXkImQfMBiQGowVBBesEhATuAxMD7AGHAAH/gv0x/Cr7gPo8+lr6wvpO+9/7ZPzf/Fn91f1I/p/+zv7a/t3++f5K/9z/oABsAQoCTgIlApsB0ADr/wj/Nv58/eP8dfw0/Bf8EvwV/BH8/PvR+437MfvL+nT6Tvp2+vn60fvi/Pr96f6R//v/UADKAJoBzwJRBPEFfAfJCLwJRQphChMKZwl2CGMHWAZ2BcoESQTUA0ADbgJZARIAuf5u/U/8dvv2+tv6JPu9+3/8P/3a/UP+gP6j/sD+4/4K/zH/Xf+h/xMAvwCZAXMCDgMyA8kC6AHAAI3/f/6w/SL9yvya/IT8dfxZ/Bz8sPsY+2n6zPln+VH5ivkC+qb6Zvs3/BH94/2T/hH/Z//A/1sAbAEDA/cE8gaSCJQJ5QmkCQsJVgisBxsHpQZKBgYG0QWRBR8FUgQYA38Btf/3/X/8c/vd+rH63/pU+/r7s/xa/cv98f3Y/a79rP36/Zr+bf9EAPgAewHXARsCRQI+Au0BSgFwAJr/Bf/U/vf+N/9T/x//lv7S/fr8K/xt+8P6Nvre+dD5E/qT+ib7ovvy+yf8ZfzM/GX9IP7j/qD/aABhAakCOATXBTcHFAhVCBsIsQdhB1cHiwfOB+YHrQcZBzUGEAW5AzwCrQAz/wH+P/3z/Pn8Ff0Q/dH8Zfz2+6z7mfu3+/r7Y/z+/NT92v7j/68ADwH/AK4AYwBWAJEA7AAoARgBwABHANv/jf9Q/wD/hv7q/VX98vzP/M/8w/yC/Ab8bvvw+rT6xfoM+2r7zPsy/K38Sf0C/r3+YP/p/30AVwGlAmUEUAb2B/AIGAmZCNkHQQcNBzIHcweLB1MHyQb7BfcEwQNbAtkAaP9B/ov9PP0h/ff8lPz7+177APsM+377K/zf/Hz9AP54/uj+P/9e/zr/9P7T/h3/5v/9APkBdwJMApoBsQDg/0r/4P5//hn+vP2D/Xn9hv17/Sj9gvyr++H6X/pE+on6CPuR+//7T/yV/O/8av0A/pr+Lf/P/7cAFgLpA+UFkAeCCKEINQi+B6YHAgiNCN0IpQjcB7cGewVSBEUDSwJlAaQAGwDF/3b/8f4P/uD8qfvN+pj6GfsV/Cj98/1I/jH+4P2L/VT9RP1e/bj9b/6N/+gAIgLNAqMCtgFpAD//lP51/q3+8v4P//v+yf6I/jD+rv36/Cb8XPvM+pb6vPoc+4f70/vx+/r7G/x7/Bz92P16/uX+OP/F/9wAjAKGBEYGXAewB4wHZgePB/wHXAhYCM8H7AYABkkFywRWBLEDygK6Aa8Azf8T/2n+vv0d/a38mfzs/IL9DP49/vX9U/2p/Ez8a/z6/MD9g/4q/73/SwDRADABQAH0AGsA6f+o/7j/9v8nABoAwf83/6n+O/7x/bL9X/3j/EX8qPs8+xn7NPti+3L7U/sp+zD7kfs6/Oz8Z/2n/fX9vv5BAFMCbAT2BagGrgaGBq4GTQcoCM8I6AhfCGsHXwZ5BcYEMgSbA+4CLgJsAbUAAQA//2j+jv3e/I/8uPw6/b796f2S/d/8Mfzo+zH87fzS/aH+Rf/M/0MAngDBAJ0ARADp/8H/4/87AJ0A4QDxAMgAawDn/1P/x/5O/t/9Y/3K/Cb8p/t3+5H7uPum+0b7zPqW+t/6jftA/Kf8z/wk/SH+7P8kAhcENAVyBUoFYAUUBkoHhQhBCT0JjAh1B0gGPAVrBNMDYgP7AoMC6gEwAV8AgP+U/qf94Px4/Jb8I/3K/R3+3P0n/Wz8GvxZ/Pn8pP0g/nT+zP5I/9b/RwB7AIMAkADGABsBZQGAAWgBMwH2AKkANACO/9L+Lf61/Vr9+/yK/CP88Pv5+wv82PtF+4n6EPoo+sD6ePv2+0T8z/wP/hMAXAInBPYE7gS+BB4FTQbvB1QJ6gmOCYcISgcxBmIF2QSCBD8E6QNXA3YCUgERANr+yP3t/Fr8Lfxy/AL9gv2N/fn8Avwx+wb7oPuv/Lb9YP6r/tL+DP9e/6v/4f8bAIsAQAEOAqMCwwJyAuoBZwH4AH8A4f8r/4z+JP7i/ZD9Av1F/Jj7OPst+0P7P/sX+/X6BftC+3v7ifuQ+wH8S/1y/+kB4gPTBNsEpwT5BCIG0AdQCQcKzgnwCN0H4wYSBlMFkATJAwsDXgK3AQcBQwBo/3n+iv3A/Ev8Rvya/AH9JP3U/DP8ovt/++T7nvxZ/eb9U/7U/oj/VQD7AEgBQwEiARcBLQFIAUsBMwEUAfoAzgBfAJb/lf6r/R398Pzq/ML8U/y1+x77svpu+kH6LPpO+sP6hPtj/C/96P3H/goAsQFdA44E/wTpBOIEewXTBn0IwgkYCnUJQAgCBxEGagXSBAwECgPrAd0A+v9A/53+/v1h/db8ePxc/H/8v/zv/O38vPyI/I387vyc/V3+9/5W/5X/6P9yACwB6QF5Ar4CtwJzAgUChAEKAacAWwANAJP/0P7O/cL87vtz+0T7M/sT+9X6ifpB+gL6yfmc+ZP50flr+lb7dPyx/RX/tQCHAkoEnQU9BjsGBwYwBggHaAjDCXkKMwoLCXMH7AXFBP4DYwO8AuwB+AD0//P+/P0L/Sj8a/v8+vn6ZPsa/N78c/3A/dn98P0w/qj+Sv/3/5UAHAGTAQICawLLAhwDUgNXAxgDlALqAU4B7ADCAJEAAgDj/lD9q/tn+r75mPmp+bD5m/l9+Wv5X/lG+R/5Evlj+Tn6fPvm/Dr+b/+wACQCvgMzBTAGoQbRBjYHHQhqCZsKGAuQCiUJSweIBTMEWwPTAlgCsQG7AHH/7/1o/Bn7Lvq8+cD5KPrX+qr7efwd/YT9vf36/XL+P/9LAGIBUAL7Am0DwgMWBHUE3QQ+BXIFRwWRBFADwgFPAE//1v6g/j7+aP0t/OP64fk/+dX4afju95P3mPcQ+Mf4a/nP+Q76bvop+0L8lP3//osAVQJYBEQGpAcxCBAIygfyB8MI7wnSCtsK4wkyCEUGhAQdAwcCJAFTAHf/bf4b/YX73/l/+Lb3q/dT+H756/pf/Kj9n/4z/3f/pv8GAMUA2wERAyAE1AQnBTYFLgUyBUkFXgVGBdME6gOTAv4Acf8i/hj9Lvw8+z36WPnE+J34xfj4+P340fio+L34KvnZ+Z36Vfv++6z8cf1V/mb/vwB8ApMEugZ+CHwJowlCCdsIzwghCXwJdAnLCIoH7AUzBIgC/QCg/4D+n/3g/BP8Efvf+a34w/dX93r3G/gf+XT6B/yz/T//dwBMAd4BbQIxAzMERwUtBroG6gbcBrMGfAYkBoIFegQTA3oB7f+b/o39ofyf+2T6APmz98f2ZvaM9hH3wvd++DX52vlc+rP68PpD+9z7zvwB/k3/oAAWAt4D/gUoCNkJpgqMCvcJgAmHCfUJVQorCkQJwgfsBfYD8QHp/wb+ivyk+z77/Pp2+oX5W/hj9/T2JPfQ98j4/fl7+0P9Jf/SAAwC1gJzAzcETAWTBrYHYwh8CBwIeQe8Bu0F9gS8AzgChwDh/nn9Y/yH+6v6nPlU+Az3Gva+9fv1nfZl9zD4B/n8+Qf7+/ut/CD9iv0p/g3/DQDyALkBqgIjBDUGcgggCrQKNwpCCZIIfwjKCNkIOwj2BmsF8gOOAv8AGf8I/Ur7Ufoj+lP6U/rl+UD51vj0+Iz5Vvoe+/f7Iv3D/qgAXwKLAycEhQQNBesF9QbOBzMIHwi+BzYHhQaKBSYEXAJdAG/+0vyl++P6aPr++XX5vvj89273RfeE9/v3bvjD+Bf5ovmF+qX7wvyr/V3++v6c/z4AywBNAQcCUANDBYMHXwk6CvgJCwkgCKEHeQc6B48GggVnBH4DqwKJAcr/iP1P+7/5H/kz+Xz5nfmU+Z356flv+gL7jfs6/Fv9G/9CAU8DxQR7BacFqwXQBR8GegbHBggHQwdeBxcHKAZ4BDICu/+A/c37tPoc+tD5lfk3+aD47vdo91r35/fv+CD6Lvv/+7L8dP1O/h3/sf/5/w4AIABLAIgAxAAGAX4BYAKtAyEFWAYPB0sHRQc0BxUHtQbqBccEngPAAjwC0AEXAdr/Pf6o/IH77/rS+vH6I/tg+6z7AfxH/HD8kfzk/KP94P51ABgCgAOCBBcFVwViBV0FaAWaBfAFQgZOBtgFwwQiAzEBP/+M/UT8dfsI+8r6fvr7+UT5kfgy+Fz4DPkJ+hD7//vd/L/9pf5p/9b/2P+S/0//Sv+K/+P/HQAjABcANQCoAG4BZQJsA3IEcQVTBuwGCweeBs4F8ARTBAkE3gN/A60CaQHs/4f+b/2s/C385vvW+wL8XPy2/Nf8pfw9/Ov7CvzO/Cr+1f9xAbwCnwMoBHAEjgSPBIAEeASNBMEE8gToBG4EcwMQAn8A/v61/bD86/tp+zD7Oftm+4T7Z/sI+5T6WvqY+lj7Yvxg/Qv+Tf5B/hr++/3n/c/9qf2A/XX9pv0a/sX+mP+QALoBHwOyBEMGjwdjCLUInghHCMkHKAddBmkFYgRmA4MCowGdAFj/4/12/FP7nvpH+h76+PnV+df5J/rT+sb72Pzt/QP/JgBUAWsCOwOoA8UDywP6A3UEKgXgBVgGaAYBBicF6QNiAsAAPf8Q/lb9/fzP/I38Ffxy+836Vfop+kn6o/od+6T7K/yh/PX8GP0G/cf8cfwl/AD8Ffxo/PP8rf2M/o//ugAQAoYDAQVfBoEHVwjgCCsJRQk2Cf8IowgkCHsHmgZtBekDFgIWAB7+Xvzy+t/5F/mM+Dz4KPhL+Jj4AvmD+SP68/r/+z39j/7S//YAAwIOAykETgViBj0HwAfhB6QHFgdBBjIF+wO0AngBXgBs/5r+1/0b/Wb8vvst+7r6a/pB+j36XPqW+tz6G/tF+1b7U/tI+0j7Yvuc++/7Tfyq/AP9av0C/ur+LQC9AXkDPQXpBmQIlglgCqoKeAr0CV8J7QiqCG4I+QcWB7gF8gPlAa7/av1B+3D5OvjC9+z3ZvjW+Af5BPn/+C/5qfll+lr7kPwW/uH/vwFhA4cEIQVbBXoFqwXpBRMGDwbiBaQFZQUXBZkEywOvAmQBEADB/nH9F/zA+pH5s/g/+Cv4Wfis+BH5gPn2+W363PpE+6/7Jfye/Af9UP16/Zb9wP0R/pj+Yf93AOEBkgNeBQYHWAhECd4JSQqXCrsKmwouCoMJtAjDB5YGCwUhAwMB+/5E/en7yfrC+df4Lvjq9wn4Xvix+Oz4LPml+Xf6kPvC/Ov9Ev9RALUBIANWBCQFiwW7BecFJAZdBm0GRgb4BZkFIQVpBEkDvAHv/y3+tPyV+776F/qc+VX5Pvk/+Tf5Gfn8+Av5ZvkL+tX6oftk/Cf96/2Z/gn/H//s/qn+mv7k/oP/YABzAcQCVgQKBp8HzQhzCacJpQmbCY0JWgnnCDIITgdGBgwFgwOiAY//mv0N/AD7UvrP+Vj59/jI+Nn4Fvla+Zb54flj+jb7TPx+/aj+wP/UAPABCgMBBLsEOgWWBeMFGwYnBvQFhwX+BHYE7gNEA1UCHQG8/17+If0I/Ar7Kvp7+RP58Pj1+AH5EvlJ+c/5q/q2+678X/3I/Q/+W/6w/vn+Jv9K/5D/FQDIAGsBwAG/AaMBxwFkAnMDvAQDBigHJgjwCF0JNglkCBMHnwVhBHwD1gI5AoYBxAAMAGP/pv6s/XL8Lfsx+r351vlM+uL6d/sQ/Lr8bf0K/nb+tP7k/i7/p/9DAOoAjgE2AucCjwMEBB8E2gNXA8kCVQIAArMBXQEDAa0AWQDy/1z/j/6p/db8NPy/+2P7F/vs+gP7a/sI/J/8A/0z/Vf9lf3x/U7+k/7I/hz/uP+VAGsB4wHQAU4BpQAaAMb/oP+d/9L/aABrAbAC4gOyBAkFCQXkBKcEOwSJA6MCzgFWAVsBtAEOAikC/gGtAVAB3wA8AFz/Yv6W/Tf9U/2+/Tz+qf7//kH/Y/9O//z+j/5N/nH+Av/K/3sA5wARARwBHwEZAfcAtwB0AFUAZwCOAJkAcwA0AA4AIwBkAJwAmQBUAOn/ev8K/4n+8/1r/S79ZP37/aP+Av/0/p3+RP4a/hv+Jf4f/hP+H/5P/of+kv5P/tf9aP02/Uf9dv2f/cD9/P19/kj/NwAcAesBugKqA7YEpgU1BkUG9AWEBS8FAgXiBKkERwTAAxoDSgJCAQ4A4v4A/pT9lf3K/ff9AP73/fr9FP4z/kX+T/5u/rv+Mf+j/+H/3v/C/83/IwC6AGcBAgJ+AuACJgM3A+8CSgJ2Ab4AVgA6ADYADwC0/0H/4f6h/mX+Cf6M/Rv98Pwg/Y399/0t/jD+Jf4s/jz+L/7m/W398Pya/HX8aPxY/En8ZfzS/I39YP4K/2r/lf+//xIAkQAeAaEBHQKoAkYD3QM7BD0E5ANVA8ACQALXAYABSgFOAZYBCQJwApQCYgLzAXUBCwG4AHQARAA/AHkA6QBiAa0BqgFlAQkBvACGAFoAMwAjAEUAnwATAWsBeQE6AdIAaAAEAJT/CP9x/v794v0j/pf+//4x/y7/Ev/0/tH+lf5B/vf96P0p/pr++/4T/9b+ZP7x/Zv9ZP1E/Ur9k/0v/gP/zP9BAD8A3f9W/+H+jv5Q/hr+9P3w/RH+Qf5Z/kP+Dv7n/fX9O/6b/vP+Pv+V/xUAyACWAV0CCAOdAygEngTlBOAEkQQnBOED5gMxBJkE8wQnBTIFEgW6BBcELQMnAkEBqABYACUA3v9s/+D+XP71/aX9Xf0h/Qr9Mf2R/QP+VP5q/lb+Sv5t/sD+KP+E/8r/CQBNAIoAowCDADgA6//B/8T/2//j/9L/vf/C/+b/CwAJAMr/XP/h/nL+Dv6i/Sj9t/x4/H78t/zx/AH92/yb/Gf8UvxX/Gr8kfzk/HT9Nf79/qH/DgBbAK8AIQGkARUCXwKKAq0C1wL+AgoD7QK8AqMCwQIOA2EDkwOYA4EDZQNGAxADrQIkAp4BRwEvATsBQAElAe4AtQCKAGMAJgDL/2z/N/9G/43/4f8YACMAEwABAPT/3v+2/43/h//C/zoAwQAgATkBGQHiAKwAeAA8APb/uf+f/67/x/+6/2//+f6G/kD+LP4x/i/+Hv4V/iv+X/6T/qj+mP54/mb+af5m/jr+2f1h/Qr9+/w7/bP9R/7n/ov/IgCMAKUAZQDx/4f/VP9d/4L/nf+g/5//tP/h/wsAEwDv/7b/i/9//4P/e/9i/1T/e//p/4kAKQGcAdMB4QHdAc8BrgF9AVQBWwGpATECwAIeAzMDEAPbAqkCeQI+AvkBvQGkAbMB0AHYAboBhAFYAUoBUAFIARsB0gCMAGAASgAzAAcAzf+n/7D/4/8TAAwAvf8+/77+Xf4f/vP9zP2z/bz96/0p/k/+SP4k/gj+Ev5C/n/+q/6//sz+4/4B/xD//v7S/qn+nf6x/sz+z/60/pX+kP6p/sX+v/6K/j7+Cf4M/kL+h/63/s3+4f4I/0L/ev+c/6r/v//3/1MAtwACASQBLAE4AVoBiwG6AeMBFQJeArgCBAMbA+0CkwI+AhICDQISAgYC5wHKAcQB0gHbAcQBjgFUATMBNgFMAV0BXwFjAXwBpgG+AZwBNAGiABsAyv+0/8D/0P/d//T/GgBAAEMACQCS/wH/gv4w/gr+Av4T/kD+g/7B/tL+mP4X/n39Bv3Y/O/8LP11/cL9Fv5o/pn+hv4k/pT9Gf3x/Cz9rP1D/tD+T//L/0gAuAAHATEBSwFtAZ4BygHZAcEBkwFqAVcBUgFAAQ4BxAB7AEUAIAD6/8f/j/9o/2L/af9c/yH/w/5u/lX+jv4F/4//EACFAPsAcgHYARACDQLkAb4BvAHfAQwCKAItAiQCGgIOAvABuAFxATkBKQE7AU4BPgH/AKEARQAAAM3/mf9Z/xr/8P7i/ub+6f7m/un+B/9G/5H/wv/A/5n/cf9t/5T/zf/6/xUALgBXAI0AtACtAHAAHADl/+v/JgBrAI0AdgApALn/Ov+8/lD+C/7+/Sn+cP6r/sL+uP6l/qD+p/6l/ob+UP4l/if+Xv6w/vr+Lf9X/5L/7/9dALkA5wDrAN0A0wDNALsAjQBHAAAA0//F/8P/u/+p/5r/oP+7/9L/yf+Y/1D/Dv/p/uf+Af81/4n/BACcACsBiAGfAYABVAE+AUwBcwGkAdsBIQJ5As8C/gLsAp4CNwLgAa8BmgGDAVgBIgH2AN4A0AC1AIEAOgD4/87/uf+k/3z/Rv8a/w//Kf9Y/4X/ov+y/77/xf++/6P/d/9M/zT/Mv83/zT/MP9B/3z/2P8wAFYAMwDX/3L/K/8K//P+yP5//iz+7P3R/dL92P3U/cv9zP3i/Qz+RP6E/s3+If96/8j/+P8LABYANQB0AMUAEAFFAWkBiwG2Ad4B5QG3AVoB7QCSAFUAKgD9/8X/i/9j/1T/Uf9G/y//Gv8b/zz/cv+o/8//7f8ZAGIAuwAFASUBFAHpAMQAuADDANgA7QD+AAwBFwEZAQ8B/wD6AA4BMAFGATcBAAG2AHYAVABLAEcANwAeAAsABQABAOv/t/9z/z3/NP9Z/47/rf+j/3v/Uf8+/0n/av+W/87/HACCAPIAUAGHAYoBYAEYAb4AXQAFAMf/rv+0/8P/w/+m/3f/T/9C/0v/Tv81///+xP6j/qn+yf7l/uz+5f7o/gT/Nf9m/4D/gP93/4H/rf/2/0cAjAC2ALkAjgA2AL//R//x/tX+8P4i/0X/R/8x/xz/IP9C/3b/qf/L/9n/0f+z/4T/Wf9O/3n/2/9YAMgACAETAQAB7ADkAOUA5ADiAOoACgFBAXoBlgGEAU8BFwH6AAABGgEuASgBAgHHAIQARAAOAOr/2f/U/8//wf+s/57/qf/X/xsAWgB8AH8AcgBoAGYAYQBMACUA/v/z/xUAWACdAMgAzQC2AJMAbgBFABAAz/+O/17/Rf84/yb/BP/T/qD+e/5w/n7+n/7K/vb+Fv8g/xj/D/8b/0v/mv/s/x0AGQDs/7X/lP+W/7b/4/8QADYAVgBtAHAAWAAsAP//5v/t/w8AOgBeAHUAhgCUAJsAkABwAD8ADADn/9P/xf+0/5z/hP92/3j/hv+T/5T/h/9z/1//Vv9h/4j/yv8cAGsApQDAAMgA0wD1ACgBUwFZATEB7QCzAKQAxQD6ABgBAwG8AFsAAQDH/7H/tf/D/9L/2//a/8//vP+o/5j/jv+M/5T/pP+8/9n/8v/7//D/2P/D/8b/5/8aAEgAYQBnAGkAeACcAMwA9QAFAfgA0gCZAE4A8/+S/zv/Af/x/gX/Jv8//0H/LP8P//r+9/4G/yT/S/9v/4b/i/9+/2T/SP81/zH/Pf9U/3b/of/R//3/GgAkAB8AFgAWACUAPQBUAGMAawBwAHYAewB6AG0AWQBIAEIAQgA9ACoACQDn/9b/5P8MADgAUABGACMA+//p//z/NAB9AL0A4wDrAOAA0wDUAOQA9wD5AOEAtgCJAG8AbwCCAJMAkwCFAHUAdACEAJYAkABlABwAz/+f/6L/1v8hAGEAfQBsADgA8/+z/4b/bv9k/2D/Wv9Q/0T/P/9J/2H/g/+l/7//yP+7/5r/a/82/wn/8v76/h3/T/+A/6H/q/+d/33/Vf8s/wn/9f74/hH/N/9d/3b/fv99/4f/qv/k/yIASwBMACMA5P+u/5r/rv/g/xsATABmAGUATwAxABQAAgADABkAQABrAI0AnQCUAHUATAAmAAwAAgAEAAkACQADAAEAEAA1AGUAjgCaAIMAVAAtACsAWwC0AB4BfQG+Ad8B6AHhAccBkwFGAe4ApAB9AIEAogC/ALsAjwBKAAgA4v/i//3/HQAxADUAMAAsAC4ANgA9ADgAHQDr/6f/W/8a//H+5f70/hT/Nv9R/2P/bf9t/2D/Rf8e//L+yv6y/rH+x/7x/iX/V/91/3P/Uf8c/+j+xv6+/sb+zP7D/q/+pv6//gf/cv/i/zIASwAyAP//0P+3/7f/yP/h//3/HgBCAFsAWAAwAO7/rP+K/5z/2v8rAHEAnwC7ANQA8wAdAUwBewGkAcQB2AHaAckBsAGcAZYBlgGMAWoBMQH0AM8A0ADtAA8BIwEiARAB8wDIAIoAOADl/7P/t//t/zYAZgBhACsA4f+e/23/Sv8u/xj/Ef8g/z//Xf9o/2H/Vf9O/0r/Of8O/9D+mv6N/rX++/41/0P/If/l/qr+gv5r/mD+Z/6O/tv+QP+Y/7z/n/9a/xf/8v7t/vX++/4B/xj/Sv+N/8D/zP+0/5r/oP/S/x4AZwCeAMwACAFcAbIB5gHiAbABdQFcAXgBvQEKAj8CTwI6AgoCygGOAWgBXwFnAWIBNQHbAHcAPgBVAK4AEAE4AQgBlAAXAMf/sv+//8n/wv+4/7//3v8EABUAAQDY/7f/t//Y/wMAGQAEAMX/a/8J/7D+b/5T/lz+gP6o/rv+rP6B/lX+Qf5M/mn+h/6a/qL+p/6v/rn+wP7H/tf+9f4X/yX/D//a/qj+ov7d/kP/ov/M/7j/hv9h/2P/hv+w/87/4P/1/xMALAAtABkAFABJAMoAfAEhAoIClgKFAokCwgIiA4IDuwO+A48DPQPTAl0C7AGWAWEBOwECAaQAMwDc/8H/3v///+z/lv8s//f+G/96/8j/xv92/xj/8/4i/4T/3f8CAPn/6P/s/wMAGAAdABYAEQAOAPv/xv9w/xj/6f7y/hn/Lf8O/8b+fP5X/lr+aP5b/ij+5f23/bH9yP3k/fL98/32/QP+Ev4V/gv+Af4S/k3+rf4V/2z/rf/q/z0AsgBBAdUBVgK7AggDRQNvA30DbANFAxsDAAPyAtkCmQIpAqQBNAH4AOgA3ACnADYAoP8a/9H+0f4C/0H/dv+Y/6X/n/+K/3P/cP+X/+r/TwCjANUA7QABARwBLQEUAb4AQQDV/67/2f8vAHgAiQBcAAoAsv9l/yP/6P62/o/+b/5L/h7+7P3A/Z39ev1K/Q793PzY/BH9cv3N/QL+Fv4w/nn++P6G//D/GwAbABkAMwBvAMQALQGvAU8C+AKCA8sDzQOjA3MDUAMzAwwD3QK7ArACoQJWAqcBpQCe/+z+u/7m/hj/C/+7/l3+Kv4z/mL+lf7E/gH/XP/K/yYAVwBuAJkA+AB5AeEB9gGxAUUB/gABATYBXgFJAfoAlwBHABAA2P9//wP/fv4T/s79oP1z/UH9FP39/AH9D/0R/f385Pzo/B/9gv32/V3+rP7n/hz/SP9e/0//JP8H/zH/xv+0AMEBrgJYA8YDFwRaBHwEXwT/A4gDOQM1A18DbQMZA1UCVAFmALv/Rf/T/kv+wP1c/Tr9VP2O/cv9A/4//n7+ov6T/mT+Zf7n/vH/MwEvAo4CTgLGAWoBdwHQASwCXgJ0An8CdgI4ArIB7QAPAFX/5/6z/nv+G/6s/Vz9K/36/Lf8cvxC/D38evz0/Gv9nv2S/ZH9u/3j/ef97/0l/mr+n/4D/+T/8gBgAd4A\" type=\"audio/x-wav\" />\n",
       "                    Your browser does not support the audio element.\n",
       "                </audio>\n",
       "              "
      ],
      "text/plain": [
       "<IPython.lib.display.Audio object>"
      ]
     },
     "execution_count": 67,
     "metadata": {},
     "output_type": "execute_result"
    }
   ],
   "source": [
    "IPython.display.Audio(\"/home/amitli/Datasets/MyVoiceTests_16SR/2RpZkeaTIm4/2RpZkeaTIm4_0059.wav\")"
   ]
  },
  {
   "cell_type": "code",
   "execution_count": null,
   "id": "52f26acf",
   "metadata": {},
   "outputs": [],
   "source": []
  },
  {
   "cell_type": "code",
   "execution_count": 11,
   "id": "b42a09d9",
   "metadata": {},
   "outputs": [
    {
     "data": {
      "text/plain": [
       "(18406, 6)"
      ]
     },
     "execution_count": 11,
     "metadata": {},
     "output_type": "execute_result"
    }
   ],
   "source": [
    "df_vad[(df_vad['Spealing Percentage'] > 0.4) & \n",
    "       (df_vad['Duration (Sec)'] > 3) & \n",
    "       (df_vad['Text Length'] >= 5)].shape"
   ]
  },
  {
   "cell_type": "code",
   "execution_count": null,
   "id": "55b5be96",
   "metadata": {},
   "outputs": [],
   "source": []
  },
  {
   "cell_type": "markdown",
   "id": "05347660",
   "metadata": {},
   "source": [
    "<h1 style=\"background-color:LightGreen;\"> <center> <a id='add_to_git'></a>  Add To GIT </center></h1>"
   ]
  },
  {
   "cell_type": "code",
   "execution_count": 7,
   "id": "e84c8045",
   "metadata": {},
   "outputs": [],
   "source": [
    "def add_to_git():\n",
    "    repo = git.Repo(\"/home/amitli/Repo/Voice\")\n",
    "    repo.index.add([\"Main_Notebook.ipynb\", \"Results/*\"])\n",
    "    repo.index.commit(\"Add new results\")\n",
    "    origin = repo.remote(name='origin')\n",
    "    origin.push()"
   ]
  },
  {
   "cell_type": "code",
   "execution_count": 76,
   "id": "7ffe05e7",
   "metadata": {},
   "outputs": [],
   "source": [
    "add_to_git()"
   ]
  },
  {
   "cell_type": "markdown",
   "id": "16683b16",
   "metadata": {},
   "source": [
    "<h1 style=\"background-color:LightGreen;\"> <center> <a id='play_audio_cell'></a>  Play Audio </center></h1>"
   ]
  },
  {
   "cell_type": "markdown",
   "id": "641eda0c",
   "metadata": {},
   "source": [
    "[Table Of Content](#start_cell)"
   ]
  },
  {
   "cell_type": "code",
   "execution_count": null,
   "id": "4c61fbc4",
   "metadata": {},
   "outputs": [],
   "source": [
    "#IPython.display.Audio(PART)"
   ]
  },
  {
   "cell_type": "markdown",
   "id": "b6ed19cf",
   "metadata": {},
   "source": [
    "<h1 style=\"background-color:LightGreen;\"> <center> <a id='whisper_cell'></a> Whisper </center></h1>"
   ]
  },
  {
   "cell_type": "markdown",
   "id": "b1c5efeb",
   "metadata": {},
   "source": [
    "[Table Of Content](#start_cell)"
   ]
  },
  {
   "cell_type": "code",
   "execution_count": null,
   "id": "42a79d67",
   "metadata": {},
   "outputs": [],
   "source": [
    "def Get_HF_Whisper_Text(whisper_model, whisper_processor, file_name, device):   \n",
    "    forced_decoder_ids = whisper_processor.get_decoder_prompt_ids(language=\"hebrew\", task=\"transcribe\")\n",
    "\n",
    "    speech, sr     = librosa.load(file_name, sr=16000)\n",
    "    inputs         = whisper_processor(speech, \n",
    "                                       sampling_rate  = sr, \n",
    "                                       return_tensors = \"pt\")\n",
    "        \n",
    "    input_features = inputs.input_features.to(device)     \n",
    "    \n",
    "    #with torch.no_grad():\n",
    "    predicted_ids  = whisper_model.generate(input_features, forced_decoder_ids=forced_decoder_ids)            \n",
    "    transcription  = whisper_processor.batch_decode(predicted_ids, skip_special_tokens=True)\n",
    "    \n",
    "    return transcription[0]    \n",
    "# print(f\"WER Whisper: {wer_whisper}\")\n"
   ]
  },
  {
   "cell_type": "code",
   "execution_count": null,
   "id": "eac0edcb",
   "metadata": {},
   "outputs": [],
   "source": []
  },
  {
   "cell_type": "code",
   "execution_count": null,
   "id": "71a80ae6",
   "metadata": {},
   "outputs": [],
   "source": [
    "def Get_Whisper_Text(whisper_model, whisper_processor, file_name, device):\n",
    "    \n",
    "    # load audio and pad/trim it to fit 30 seconds\n",
    "    audio = whisper.load_audio(file_name)\n",
    "    audio = whisper.pad_or_trim(audio)\n",
    "    mel   = whisper.log_mel_spectrogram(audio).to(whisper_model.device)\n",
    "\n",
    "    # decode the audio\n",
    "    options = whisper.DecodingOptions(language = 'he', beam_size=8, patience=2, fp16 = False)    \n",
    "    result  = whisper.decode(whisper_model, mel, options)\n",
    "    \n",
    "    return result.text"
   ]
  },
  {
   "cell_type": "code",
   "execution_count": null,
   "id": "fd7e6a95",
   "metadata": {},
   "outputs": [],
   "source": [
    "WHISPER_OPEN_AI = True\n",
    "\n",
    "if WHISPER_OPEN_AI is True:\n",
    "    whisper_model     = whisper.load_model(\"large\", device=\"cpu\")\n",
    "    whisper_processor = None\n",
    "else:\n",
    "    whisper_model_name = \"openai/whisper-large\"\n",
    "    whisper_model      = WhisperForConditionalGeneration.from_pretrained(whisper_model_name)\n",
    "    whisper_model.to(\"cpu\")\n",
    "    whisper_processor  = WhisperProcessor.from_pretrained(whisper_model_name)\n"
   ]
  },
  {
   "cell_type": "markdown",
   "id": "6db672f1",
   "metadata": {},
   "source": [
    "<h1 style=\"background-color:LightGreen;\"> <center> <a id='wav2vec2_cell'></a>  Wav2Vec2 </center></h1>"
   ]
  },
  {
   "cell_type": "markdown",
   "id": "9fae432c",
   "metadata": {},
   "source": [
    "[Table Of Content](#start_cell)"
   ]
  },
  {
   "cell_type": "code",
   "execution_count": null,
   "id": "befbce29",
   "metadata": {},
   "outputs": [],
   "source": [
    "def decode_hebrew(transcription):\n",
    "    heb = \"\"\n",
    "    for ch in transcription:\n",
    "        if (ch == '[') or (ch == 'P') or (ch == 'A') or (ch == 'D') or (ch == ']'):\n",
    "            continue\n",
    "        heb = heb + ch\n",
    "    return heb"
   ]
  },
  {
   "cell_type": "code",
   "execution_count": null,
   "id": "43f77af1",
   "metadata": {},
   "outputs": [],
   "source": [
    "def Get_Wav2Vec2_Text(wav2vec_model, wav2vec2_processor, file_name, device):\n",
    "    speech, sr       = librosa.load(file_name, sr=16000)\n",
    "\n",
    "    inputs           = wav2vec2_processor(speech, sampling_rate=16000, return_tensors=\"pt\")\n",
    "    input_values     = inputs.input_values.to(device)     \n",
    "    with torch.no_grad():\n",
    "        logits           = wav2vec_model(input_values).logits\n",
    "        \n",
    "    if False:\n",
    "        # Beam search - check why it works worse than naive method\n",
    "        vocabulary       = list(wav2vec2_processor.tokenizer.get_vocab().keys())\n",
    "        decoder          = build_ctcdecoder(vocabulary)\n",
    "        hebrew_text      = decoder.decode(logits[0].numpy(), beam_width=8)\n",
    "        \n",
    "    if True:\n",
    "        predicted_ids    = torch.argmax(logits, dim=-1)\n",
    "        transcription    = wav2vec2_processor.decode(predicted_ids[0])\n",
    "        hebrew_text      = decode_hebrew(transcription)\n",
    "    \n",
    "    return hebrew_text"
   ]
  },
  {
   "cell_type": "code",
   "execution_count": null,
   "id": "3f87696d",
   "metadata": {},
   "outputs": [],
   "source": [
    "model_name         = \"imvladikon/wav2vec2-xls-r-300m-hebrew\"\n",
    "wav2vec2_model     = Wav2Vec2ForCTC.from_pretrained(model_name)    \n",
    "wav2vec2_model.to(\"cpu\")\n",
    "wav2vec2_processor = Wav2Vec2Processor.from_pretrained(model_name)"
   ]
  },
  {
   "cell_type": "markdown",
   "id": "5d92e330",
   "metadata": {},
   "source": [
    "<h1 style=\"background-color:LightGreen;\"> <center> <a id='compare_cell'></a>  Compare </center></h1>"
   ]
  },
  {
   "cell_type": "markdown",
   "id": "4c9228dc",
   "metadata": {},
   "source": [
    "[Table Of Content](#start_cell)"
   ]
  },
  {
   "cell_type": "code",
   "execution_count": null,
   "id": "531f6c55",
   "metadata": {},
   "outputs": [],
   "source": [
    "def count_num_of_words(arr_asr_res):\n",
    "    res = []\n",
    "    for item in arr_asr_res:\n",
    "        res.append(len(item.split()))\n",
    "    return res"
   ]
  },
  {
   "cell_type": "code",
   "execution_count": null,
   "id": "16414121",
   "metadata": {},
   "outputs": [],
   "source": [
    "def comapre_ASR_models(whisper_model, whisper_processor, wav2vec2_model, wav2vec2_processor, gt_list, post_name, test_path):\n",
    "    \n",
    "    arr_whisper     = []\n",
    "    arr_wav2vec2    = []\n",
    "    arr_gt          = []      \n",
    "    arr_wav_len_sec = []\n",
    "    num_of_files    = len([entry for entry in os.listdir(test_path) if os.path.isfile(os.path.join(test_path, entry))])    \n",
    "    \n",
    "    for i in range(num_of_files):\n",
    "        \n",
    "        part          = \"%04d\" % (i,)\n",
    "        test_file     = f\"{test_path}{post_name}_{part}.wav\"          \n",
    "        wav_duration  = get_wav_duration(test_file)        \n",
    "                \n",
    "        whisper_text     = Get_Whisper_Text(whisper_model, whisper_processor, test_file, \"cpu\")\n",
    "        #whisper_text     = Get_HF_Whisper_Text(whisper_model, whisper_processor, test_file, \"cpu\") \n",
    "        wav2vec2_text     = Get_Wav2Vec2_Text(wav2vec2_model, wav2vec2_processor, test_file, \"cpu\")        \n",
    "                \n",
    "        arr_whisper.append(whisper_text)\n",
    "        arr_wav2vec2.append(wav2vec2_text)\n",
    "        arr_gt.append(gt_list[i])\n",
    "        arr_wav_len_sec.append(wav_duration)\n",
    "                        \n",
    "    return arr_whisper, arr_wav2vec2, arr_gt, arr_wav_len_sec"
   ]
  },
  {
   "cell_type": "code",
   "execution_count": null,
   "id": "3cd52ae8",
   "metadata": {},
   "outputs": [],
   "source": [
    "def calc_cer_per_sentence(gt_list, model_list):\n",
    "    res = []\n",
    "    for i in range(len(gt_list)):\n",
    "        gt_text    = gt_list[i]\n",
    "        model_text = model_list[i]\n",
    "        cer        = jiwer.cer(gt_text, model_text)        \n",
    "        res.append(cer)\n",
    "    return res"
   ]
  },
  {
   "cell_type": "code",
   "execution_count": null,
   "id": "c15e4ec9",
   "metadata": {},
   "outputs": [],
   "source": [
    "def calc_wer_per_sentence(gt_list, model_list):\n",
    "    res = []\n",
    "    for i in range(len(gt_list)):\n",
    "        gt_text    = gt_list[i]\n",
    "        model_text = model_list[i]\n",
    "        wer        = jiwer.wer(gt_text, model_text)        \n",
    "        res.append(wer)\n",
    "    return res"
   ]
  },
  {
   "cell_type": "code",
   "execution_count": null,
   "id": "99ccc455",
   "metadata": {},
   "outputs": [],
   "source": [
    "def create_file_name_title(file_name, num_of_items):\n",
    "    res = []\n",
    "    for i in range(num_of_items):\n",
    "        part = \"%04d\" % (i,)\n",
    "        res.append(f\"{file_name}_{part}\")\n",
    "    return res"
   ]
  },
  {
   "cell_type": "code",
   "execution_count": null,
   "id": "2cde590d",
   "metadata": {},
   "outputs": [],
   "source": [
    "def compare_models(wav_folder, compare_list, df_desc, df_result_path, whisper_model, whisper_processor, wav2vec2_model, wav2vec2_processor):\n",
    "            \n",
    "        \n",
    "    for i, file_to_compare in tqdm(enumerate(compare_list)):\n",
    "        \n",
    "        gt_list = df_desc[df_desc['file'] == f\"{file_to_compare}.mp3\"]['text'].values        \n",
    "        \n",
    "        arr_whisper, arr_wav2vec2, arr_gt, arr_durations = comapre_ASR_models(whisper_model, \n",
    "                                                               whisper_processor, \n",
    "                                                               wav2vec2_model,\n",
    "                                                               wav2vec2_processor,                                             \n",
    "                                                               gt_list,  \n",
    "                                                               file_to_compare, \n",
    "                                                               f\"{wav_folder}/{file_to_compare}/\")\n",
    "        \n",
    "        \n",
    "        \n",
    "        whisper_word_cnt  = count_num_of_words(arr_whisper)\n",
    "        w2v_word_cnt      = count_num_of_words(arr_wav2vec2)\n",
    "        gt_word_cnt       = count_num_of_words(arr_gt)\n",
    "                \n",
    "                \n",
    "        wer_wav2vec2 = calc_wer_per_sentence(gt_list, arr_wav2vec2)\n",
    "        wer_whisper  = calc_wer_per_sentence(gt_list, arr_whisper)\n",
    "        \n",
    "        cer_wav2vec2 = calc_cer_per_sentence(gt_list, arr_wav2vec2)\n",
    "        cer_whisper  = calc_cer_per_sentence(gt_list, arr_whisper)\n",
    "        \n",
    "        names        = create_file_name_title(file_to_compare, len(gt_list))\n",
    "                \n",
    "        df_tmp       = pd.DataFrame(data = {\"File\":           names,\n",
    "                                            \"Duration (Sec)\":     arr_durations,                                            \n",
    "                                            \"GT\":                 gt_list,\n",
    "                                            \"Wav2Vec2_Text\":      arr_wav2vec2,\n",
    "                                            \"Whisper_Text\":       arr_whisper,\n",
    "                                            \"Wav2Vec2_WER\":       wer_wav2vec2,\n",
    "                                            \"Whisper_WER\":        wer_whisper,\n",
    "                                            \"Wav2Vec2_CER\":       cer_wav2vec2,\n",
    "                                            \"Whisper_CER\":        cer_whisper,\n",
    "                                            \"GT Words Len\":       gt_word_cnt,\n",
    "                                            \"Wav2Vec2 Words Len\": w2v_word_cnt,\n",
    "                                            \"Whisper Words Len\":  whisper_word_cnt,})\n",
    "        df_tmp.to_csv(f\"{DF_RESULT_PATH}/{file_to_compare}.csv\")\n",
    "        add_to_git()\n",
    "        "
   ]
  },
  {
   "cell_type": "code",
   "execution_count": null,
   "id": "f5bcebc4",
   "metadata": {},
   "outputs": [],
   "source": [
    "DF_RESULT_PATH = \"/home/amitli/Repo/Voice/Results\""
   ]
  },
  {
   "cell_type": "code",
   "execution_count": null,
   "id": "087683a4",
   "metadata": {},
   "outputs": [],
   "source": [
    "FOLDER_LIST = ['2RpZkeaTIm4', '1KpCbxgsGUU', '0XLKQME2ZJc', '0WTBFu4kJyQ', '1Ls2KdQYYu4', '1SlSJ5YeyfY', '2KoqxFUJd2c', '4PprAxJ2KPs', '3yDUlw5C5wk', '0HXHLe9GNpU', '0RN1xVXOemU', '2yZfyjjpp5Y', '-3dd58g7rQQ', '3gNAqdgwJPo', '4SkK1VrkJKc', '4_GQkF3MiIU', '2-gLlE-j3_U', '4A-SzBqUZ0E', '2eaXPCSUZbQ', '3WR5XZMvz8I']\n",
    "len(FOLDER_LIST)"
   ]
  },
  {
   "cell_type": "code",
   "execution_count": null,
   "id": "3e4f7f17",
   "metadata": {},
   "outputs": [],
   "source": [
    "RUN_COMPARE = True\n",
    "if RUN_COMPARE is True:\n",
    "    compare_models(WAV_SPLIT_SR_16_FOLDER, FOLDER_LIST, df_gt, DF_RESULT_PATH, whisper_model, whisper_processor, wav2vec2_model, wav2vec2_processor)            \n",
    "    #compare_models(WAV_SPLIT_SR_16_FOLDER, [\"0qGUNd5488I\"], df_gt, DF_RESULT_PATH, whisper_model, whisper_processor, wav2vec2_model, wav2vec2_processor)    "
   ]
  },
  {
   "cell_type": "code",
   "execution_count": null,
   "id": "fc5e695a",
   "metadata": {},
   "outputs": [],
   "source": []
  },
  {
   "cell_type": "markdown",
   "id": "64d61e3c",
   "metadata": {},
   "source": [
    "[Whisper](#whisper_cell) </br>\n",
    "[Wav2Vec2](#wav2vec2_cell) </br>"
   ]
  },
  {
   "cell_type": "code",
   "execution_count": null,
   "id": "29c70879",
   "metadata": {},
   "outputs": [],
   "source": [
    "source_folder = WAV_SPLIT_SR_16_FOLDER\n",
    "folder_list   = [f for f in listdir(source_folder) if not isfile(join(source_folder, f))]        \n",
    "print(folder_list)"
   ]
  },
  {
   "cell_type": "code",
   "execution_count": null,
   "id": "cfaac821",
   "metadata": {},
   "outputs": [],
   "source": []
  },
  {
   "cell_type": "code",
   "execution_count": null,
   "id": "d5cf12d3",
   "metadata": {},
   "outputs": [],
   "source": []
  },
  {
   "cell_type": "code",
   "execution_count": null,
   "id": "7b8bac26",
   "metadata": {},
   "outputs": [],
   "source": [
    "csv_file_naive       = \"/home/amitli/Datasets/df_res.csv\"\n",
    "#csv_file_beam_search = \"/home/amitli/Datasets/df_res_openai_bs.csv\"\n",
    "csv_file_beam_search = \"/home/amitli/Datasets/df_res_openai_bs_large.csv\"\n",
    "csv_file_wav2vec2_bs = \"/home/amitli/Datasets/df_res_wav2vec2_bs.csv\"\n",
    "df_res_wav_bs        = pd.read_csv(csv_file_wav2vec2_bs)\n",
    "df_res_naive         = pd.read_csv(csv_file_naive)\n",
    "df_res_beam_search   = pd.read_csv(csv_file_beam_search)\n",
    "df_res_wav_bs.head(10)"
   ]
  },
  {
   "cell_type": "code",
   "execution_count": null,
   "id": "503bb875",
   "metadata": {},
   "outputs": [],
   "source": [
    "naive_Whisper_text = df_res_naive['Whisper_Text'].values\n",
    "bs_Whisper_text    = df_res_beam_search['Whisper_Text'].values\n",
    "gt_text            = df_res_beam_search['GT'].values\n",
    "wav2vec2_text      = df_res_wav_bs['Wav2Vec2_Text'].values\n"
   ]
  },
  {
   "cell_type": "code",
   "execution_count": null,
   "id": "92a0c009",
   "metadata": {},
   "outputs": [],
   "source": [
    "wav2vec2_wer      = jiwer.wer(list(gt_text), list(wav2vec2_text))\n",
    "naive_Whisper_wer = jiwer.wer(list(gt_text), list(naive_Whisper_text))\n",
    "bs_Whisper_wer    = jiwer.wer(list(gt_text), list(bs_Whisper_text))\n",
    "\n",
    "print(f\"Wav2Vec2 WER:      {wav2vec2_wer}\")\n",
    "print(f\"naive Whisper WER: {naive_Whisper_wer}\")\n",
    "print(f\"bs Whisper: WER:   {bs_Whisper_wer}\")"
   ]
  },
  {
   "cell_type": "code",
   "execution_count": null,
   "id": "ed1d414d",
   "metadata": {},
   "outputs": [],
   "source": [
    "# Wav2Vec2 WER:      0.7964601769911505\n",
    "# naive Whisper WER: 1.0206489675516224 (small HF)\n",
    "# bs Whisper: WER:   1.0206489675516224  (openAI small beam search)"
   ]
  },
  {
   "cell_type": "code",
   "execution_count": null,
   "id": "258dbda3",
   "metadata": {},
   "outputs": [],
   "source": []
  },
  {
   "cell_type": "code",
   "execution_count": null,
   "id": "7d8b0b26",
   "metadata": {},
   "outputs": [],
   "source": [
    "df = pd.read_csv(\"/home/amitli/Datasets/df_res_openai_bs_large.csv\")\n",
    "df.head(5)"
   ]
  },
  {
   "cell_type": "code",
   "execution_count": null,
   "id": "240f67cd",
   "metadata": {},
   "outputs": [],
   "source": []
  },
  {
   "cell_type": "code",
   "execution_count": null,
   "id": "2ab190cf",
   "metadata": {},
   "outputs": [],
   "source": []
  },
  {
   "cell_type": "markdown",
   "id": "8fa5814f",
   "metadata": {},
   "source": [
    "<h1 style=\"background-color:#B61FEB;\"> <center> <a id='shiri_cell'></a>  Check With SHIRI: </center></h1>"
   ]
  },
  {
   "cell_type": "markdown",
   "id": "22d6214e",
   "metadata": {},
   "source": [
    "[Table Of Content](#start_cell)"
   ]
  },
  {
   "cell_type": "code",
   "execution_count": null,
   "id": "093eea36",
   "metadata": {},
   "outputs": [],
   "source": []
  },
  {
   "cell_type": "markdown",
   "id": "55082873",
   "metadata": {},
   "source": [
    "<h1 style=\"background-color:LightGreen;\"> <center> <a id='bs_cell'></a>  Beam Search </center></h1>"
   ]
  },
  {
   "cell_type": "markdown",
   "id": "9f1b2e8f",
   "metadata": {},
   "source": [
    "[Table Of Content](#start_cell)"
   ]
  },
  {
   "cell_type": "code",
   "execution_count": null,
   "id": "c46402dc",
   "metadata": {},
   "outputs": [],
   "source": [
    "#IPython.display.Audio(\"/home/amitli/Datasets/MyVoiceTests_16SR/0qGUNd5488I/0qGUNd5488I_0025.wav\")\n",
    "IPython.display.Audio(\"/home/amitli/Datasets/MyVoiceTests_16SR/-3dd58g7rQQ/-3dd58g7rQQ_0000.wav\")"
   ]
  },
  {
   "cell_type": "code",
   "execution_count": null,
   "id": "4219af9d",
   "metadata": {},
   "outputs": [],
   "source": [
    "#file_name   = \"/home/amitli/Datasets/MyVoiceTests_16SR/-3dd58g7rQQ/-3dd58g7rQQ_0000.wav\"\n",
    "#file_name    = \"/home/amitli/Datasets/MyVoiceTests_16SR/0qGUNd5488I/0qGUNd5488I_0011.wav\"\n",
    "file_name    = \"/home/amitli/Datasets/MyVoiceTests_16SR/0qGUNd5488I/0qGUNd5488I_0025.wav\"\n",
    "simple_text = Get_Whisper_Text(whisper_model, whisper_processor, file_name, \"cpu\")"
   ]
  },
  {
   "cell_type": "code",
   "execution_count": null,
   "id": "06c5a509",
   "metadata": {},
   "outputs": [],
   "source": [
    "simple_text"
   ]
  },
  {
   "cell_type": "code",
   "execution_count": null,
   "id": "ac2b206a",
   "metadata": {},
   "outputs": [],
   "source": [
    "result = whisper_model.transcribe(file_name, task='translate', beam_size=8, patience=2, fp16 = False)"
   ]
  },
  {
   "cell_type": "code",
   "execution_count": null,
   "id": "3b16c4c3",
   "metadata": {},
   "outputs": [],
   "source": [
    "result['text']"
   ]
  },
  {
   "cell_type": "code",
   "execution_count": null,
   "id": "faad2b72",
   "metadata": {},
   "outputs": [],
   "source": [
    "# audio = whisper.load_audio(file_name)\n",
    "# audio = whisper.pad_or_trim(audio)\n",
    "# mel   = whisper.log_mel_spectrogram(audio).to(whisper_model.device)\n",
    "\n",
    "# # decode the audio\n",
    "# options = whisper.DecodingOptions(language = 'he', beam_size=8, patience=2, fp16 = False)    \n",
    "# result = whisper.decode(whisper_model, mel, options)\n"
   ]
  },
  {
   "cell_type": "code",
   "execution_count": null,
   "id": "9230549b",
   "metadata": {},
   "outputs": [],
   "source": []
  },
  {
   "cell_type": "code",
   "execution_count": null,
   "id": "e062d76d",
   "metadata": {},
   "outputs": [],
   "source": []
  },
  {
   "cell_type": "code",
   "execution_count": null,
   "id": "954a8aed",
   "metadata": {},
   "outputs": [],
   "source": []
  },
  {
   "cell_type": "code",
   "execution_count": null,
   "id": "60b27422",
   "metadata": {},
   "outputs": [],
   "source": [
    "from pyctcdecode       import build_ctcdecoder\n",
    "from transformers      import Wav2Vec2ForCTC, Wav2Vec2Processor\n",
    "from torchaudio.utils  import download_asset\n",
    "\n",
    "import torch\n",
    "import librosa\n",
    "\n",
    "processor        = Wav2Vec2Processor.from_pretrained(\"facebook/wav2vec2-base-960h\")\n",
    "model            = Wav2Vec2ForCTC.from_pretrained(\"facebook/wav2vec2-base-960h\")\n",
    "\n",
    "FILE_NAME        = \"tutorial-assets/Lab41-SRI-VOiCES-src-sp0307-ch127535-sg0042.wav\"\n",
    "SPEECH_FILE      = download_asset(FILE_NAME)\n",
    "\n",
    "speech, sr       = librosa.load(SPEECH_FILE, sr=16000)\n",
    "input_values     = processor(speech, sampling_rate=16000, return_tensors=\"pt\").input_values\n",
    "\n",
    "with torch.no_grad():\n",
    "    logits           = model(input_values).logits\n",
    "\n",
    "vocabulary       = list(processor.tokenizer.get_vocab().keys())\n",
    "decoder          = build_ctcdecoder(vocabulary)\n",
    "text             = decoder.decode(logits[0].numpy(), beam_width=5)\n",
    "text"
   ]
  },
  {
   "cell_type": "code",
   "execution_count": null,
   "id": "9eaaad04",
   "metadata": {},
   "outputs": [],
   "source": []
  },
  {
   "cell_type": "code",
   "execution_count": null,
   "id": "0d3e913c",
   "metadata": {},
   "outputs": [],
   "source": [
    "from pyctcdecode       import build_ctcdecoder\n",
    "from transformers      import Wav2Vec2ForCTC, Wav2Vec2Processor\n",
    "from torchaudio.utils  import download_asset\n",
    "\n",
    "import torch\n",
    "import librosa\n",
    "\n",
    "model_name       = \"imvladikon/wav2vec2-xls-r-300m-hebrew\"\n",
    "processor        = Wav2Vec2Processor.from_pretrained(model_name)\n",
    "model            = Wav2Vec2ForCTC.from_pretrained(model_name)\n",
    "\n",
    "speech, sr       = librosa.load(\"/home/amitli/Datasets/MyVoiceTests_16SR/-3dd58g7rQQ/-3dd58g7rQQ_0000.wav\", sr=16000)\n",
    "\n",
    "inputs           = processor(speech, sampling_rate=16000, return_tensors=\"pt\")\n",
    "input_values     = inputs.input_values.to(\"cpu\")     \n",
    "with torch.no_grad():\n",
    "    logits           = model(input_values).logits\n",
    "\n",
    "vocabulary       = list(processor.tokenizer.get_vocab().keys())\n",
    "decoder          = build_ctcdecoder(vocabulary)\n",
    "\n",
    "hebrew_text      = decoder.decode(logits[0].numpy(), beam_width=1)\n",
    "print(decode_hebrew(hebrew_text))\n",
    "\n",
    "# if True:\n",
    "#     predicted_ids    = torch.argmax(logits, dim=-1)\n",
    "#     transcription    = processor.decode(predicted_ids[0])\n",
    "#     hebrew_text      = decode_hebrew(transcription)\n",
    "#     print(hebrew_text)"
   ]
  },
  {
   "cell_type": "code",
   "execution_count": null,
   "id": "b1ea2367",
   "metadata": {},
   "outputs": [],
   "source": [
    "logits.shape"
   ]
  },
  {
   "cell_type": "code",
   "execution_count": null,
   "id": "19cb678a",
   "metadata": {},
   "outputs": [],
   "source": [
    "decoder.decode_beams(logits[0].numpy(),beam_width=1)"
   ]
  },
  {
   "cell_type": "code",
   "execution_count": null,
   "id": "5b82404b",
   "metadata": {},
   "outputs": [],
   "source": [
    "predicted_ids    = torch.argmax(logits, dim=-1)\n",
    "transcription    = processor.decode(predicted_ids[0])\n",
    "hebrew_text      = decode_hebrew(transcription)\n",
    "print(hebrew_text)"
   ]
  },
  {
   "cell_type": "code",
   "execution_count": null,
   "id": "b656fc3a",
   "metadata": {},
   "outputs": [],
   "source": [
    "vocabulary"
   ]
  }
 ],
 "metadata": {
  "kernelspec": {
   "display_name": "Python 3 (ipykernel)",
   "language": "python",
   "name": "python3"
  },
  "language_info": {
   "codemirror_mode": {
    "name": "ipython",
    "version": 3
   },
   "file_extension": ".py",
   "mimetype": "text/x-python",
   "name": "python",
   "nbconvert_exporter": "python",
   "pygments_lexer": "ipython3",
   "version": "3.8.10"
  }
 },
 "nbformat": 4,
 "nbformat_minor": 5
}
